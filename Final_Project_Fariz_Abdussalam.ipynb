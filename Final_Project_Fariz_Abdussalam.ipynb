{
  "cells": [
    {
      "cell_type": "markdown",
      "metadata": {
        "id": "lwsUR3gawklJ"
      },
      "source": [
        "#import libraries"
      ]
    },
    {
      "cell_type": "code",
      "execution_count": null,
      "metadata": {
        "colab": {
          "base_uri": "https://localhost:8080/"
        },
        "id": "4kMfsTFWiWAJ",
        "outputId": "68225905-00c3-45df-aaf5-a7cbf4a2c7cf"
      },
      "outputs": [
        {
          "output_type": "stream",
          "name": "stdout",
          "text": [
            "Looking in indexes: https://pypi.org/simple, https://us-python.pkg.dev/colab-wheels/public/simple/\n",
            "Collecting scikit-plot\n",
            "  Downloading scikit_plot-0.3.7-py3-none-any.whl (33 kB)\n",
            "Requirement already satisfied: joblib>=0.10 in /usr/local/lib/python3.7/dist-packages (from scikit-plot) (1.1.0)\n",
            "Requirement already satisfied: matplotlib>=1.4.0 in /usr/local/lib/python3.7/dist-packages (from scikit-plot) (3.2.2)\n",
            "Requirement already satisfied: scipy>=0.9 in /usr/local/lib/python3.7/dist-packages (from scikit-plot) (1.4.1)\n",
            "Requirement already satisfied: scikit-learn>=0.18 in /usr/local/lib/python3.7/dist-packages (from scikit-plot) (1.0.2)\n",
            "Requirement already satisfied: cycler>=0.10 in /usr/local/lib/python3.7/dist-packages (from matplotlib>=1.4.0->scikit-plot) (0.11.0)\n",
            "Requirement already satisfied: python-dateutil>=2.1 in /usr/local/lib/python3.7/dist-packages (from matplotlib>=1.4.0->scikit-plot) (2.8.2)\n",
            "Requirement already satisfied: pyparsing!=2.0.4,!=2.1.2,!=2.1.6,>=2.0.1 in /usr/local/lib/python3.7/dist-packages (from matplotlib>=1.4.0->scikit-plot) (3.0.9)\n",
            "Requirement already satisfied: kiwisolver>=1.0.1 in /usr/local/lib/python3.7/dist-packages (from matplotlib>=1.4.0->scikit-plot) (1.4.2)\n",
            "Requirement already satisfied: numpy>=1.11 in /usr/local/lib/python3.7/dist-packages (from matplotlib>=1.4.0->scikit-plot) (1.21.6)\n",
            "Requirement already satisfied: typing-extensions in /usr/local/lib/python3.7/dist-packages (from kiwisolver>=1.0.1->matplotlib>=1.4.0->scikit-plot) (4.2.0)\n",
            "Requirement already satisfied: six>=1.5 in /usr/local/lib/python3.7/dist-packages (from python-dateutil>=2.1->matplotlib>=1.4.0->scikit-plot) (1.15.0)\n",
            "Requirement already satisfied: threadpoolctl>=2.0.0 in /usr/local/lib/python3.7/dist-packages (from scikit-learn>=0.18->scikit-plot) (3.1.0)\n",
            "Installing collected packages: scikit-plot\n",
            "Successfully installed scikit-plot-0.3.7\n",
            "Looking in indexes: https://pypi.org/simple, https://us-python.pkg.dev/colab-wheels/public/simple/\n",
            "Collecting dalex\n",
            "  Downloading dalex-1.4.1.tar.gz (1.0 MB)\n",
            "\u001b[K     |████████████████████████████████| 1.0 MB 8.8 MB/s \n",
            "\u001b[?25hRequirement already satisfied: setuptools in /usr/local/lib/python3.7/dist-packages (from dalex) (57.4.0)\n",
            "Requirement already satisfied: pandas>=1.1.2 in /usr/local/lib/python3.7/dist-packages (from dalex) (1.3.5)\n",
            "Requirement already satisfied: numpy>=1.18.4 in /usr/local/lib/python3.7/dist-packages (from dalex) (1.21.6)\n",
            "Requirement already satisfied: plotly>=4.12.0 in /usr/local/lib/python3.7/dist-packages (from dalex) (5.5.0)\n",
            "Requirement already satisfied: tqdm>=4.48.2 in /usr/local/lib/python3.7/dist-packages (from dalex) (4.64.0)\n",
            "Collecting scipy>=1.5.4\n",
            "  Downloading scipy-1.7.3-cp37-cp37m-manylinux_2_12_x86_64.manylinux2010_x86_64.whl (38.1 MB)\n",
            "\u001b[K     |████████████████████████████████| 38.1 MB 1.3 MB/s \n",
            "\u001b[?25hRequirement already satisfied: python-dateutil>=2.7.3 in /usr/local/lib/python3.7/dist-packages (from pandas>=1.1.2->dalex) (2.8.2)\n",
            "Requirement already satisfied: pytz>=2017.3 in /usr/local/lib/python3.7/dist-packages (from pandas>=1.1.2->dalex) (2022.1)\n",
            "Requirement already satisfied: six in /usr/local/lib/python3.7/dist-packages (from plotly>=4.12.0->dalex) (1.15.0)\n",
            "Requirement already satisfied: tenacity>=6.2.0 in /usr/local/lib/python3.7/dist-packages (from plotly>=4.12.0->dalex) (8.0.1)\n",
            "Building wheels for collected packages: dalex\n",
            "  Building wheel for dalex (setup.py) ... \u001b[?25l\u001b[?25hdone\n",
            "  Created wheel for dalex: filename=dalex-1.4.1-py3-none-any.whl size=1042860 sha256=f408856605ad048cbddfc314c56e2a6bcce9e34b3ec26ca869cba7253780b866\n",
            "  Stored in directory: /root/.cache/pip/wheels/8c/8e/1b/95d59374d386e8e495aed6cbab4c4b6d72be73993a424c5e12\n",
            "Successfully built dalex\n",
            "Installing collected packages: scipy, dalex\n",
            "  Attempting uninstall: scipy\n",
            "    Found existing installation: scipy 1.4.1\n",
            "    Uninstalling scipy-1.4.1:\n",
            "      Successfully uninstalled scipy-1.4.1\n",
            "\u001b[31mERROR: pip's dependency resolver does not currently take into account all the packages that are installed. This behaviour is the source of the following dependency conflicts.\n",
            "albumentations 0.1.12 requires imgaug<0.2.7,>=0.2.5, but you have imgaug 0.2.9 which is incompatible.\u001b[0m\n",
            "Successfully installed dalex-1.4.1 scipy-1.7.3\n"
          ]
        }
      ],
      "source": [
        "#!pip install skope-rules\n",
        "#!pip install eli5\n",
        "!pip install scikit-plot\n",
        "!pip install dalex"
      ]
    },
    {
      "cell_type": "code",
      "execution_count": null,
      "metadata": {
        "id": "tL32nEAzeI_5"
      },
      "outputs": [],
      "source": [
        "\n",
        "#!pip install lime"
      ]
    },
    {
      "cell_type": "code",
      "source": [
        "import scikitplot as skplt\n",
        "# import dalex to explain complex model\n",
        "import dalex as dx\n",
        "\n",
        "# load LimeTabularExplainer for LIME method\n",
        "#from lime.lime_tabular import LimeTabularExplainer "
      ],
      "metadata": {
        "id": "rr9ruNLPgMAE"
      },
      "execution_count": null,
      "outputs": []
    },
    {
      "cell_type": "code",
      "execution_count": null,
      "metadata": {
        "id": "_npWjmm_r-ba",
        "colab": {
          "base_uri": "https://localhost:8080/"
        },
        "outputId": "9f200f5e-7dac-4c43-a338-698708949f18"
      },
      "outputs": [
        {
          "output_type": "stream",
          "name": "stderr",
          "text": [
            "/usr/local/lib/python3.7/dist-packages/statsmodels/tools/_testing.py:19: FutureWarning: pandas.util.testing is deprecated. Use the functions in the public API at pandas.testing instead.\n",
            "  import pandas.util.testing as tm\n"
          ]
        }
      ],
      "source": [
        "import pandas as pd\n",
        "import numpy as np\n",
        "# load scikit-plot modules\n",
        "\n",
        "# import matplotlib.pyplot module for data visualization\n",
        "import matplotlib.pyplot as plt\n",
        "import seaborn as sns\n",
        "# import train and test split method from scikit-learn\n",
        "from sklearn.model_selection import train_test_split\n",
        "# import metrics method for model evaluation\n",
        "import sklearn.metrics as metrics\n",
        "# load linear regression model\n",
        "from sklearn.linear_model import LinearRegression\n",
        "# load logistic regression model\n",
        "from sklearn.linear_model import LogisticRegression\n",
        "# load decision tree model\n",
        "from sklearn.tree import DecisionTreeRegressor\n",
        "from sklearn.tree import DecisionTreeClassifier\n",
        "# load tree visualization\n",
        "from sklearn.tree import plot_tree, export_text\n",
        "\n",
        "# load statsmodel module \n",
        "import statsmodels.api as sm\n",
        "import statsmodels.formula.api as smf\n",
        "\n",
        "\n"
      ]
    },
    {
      "cell_type": "code",
      "source": [
        "# Third party imports\n",
        "import pandas as pd\n",
        "import numpy as np\n",
        "import matplotlib.pyplot as plt\n",
        "from sklearn.preprocessing import MinMaxScaler, RobustScaler, StandardScaler\n",
        "from sklearn.model_selection import train_test_split, GridSearchCV\n",
        "from sklearn.metrics import (auc, average_precision_score, \n",
        "                              roc_auc_score, roc_curve, precision_recall_curve)\n",
        "from sklearn.ensemble import RandomForestClassifier\n",
        "from sklearn.cluster import DBSCAN\n",
        "from sklearn.manifold import TSNE\n",
        "from sklearn.linear_model import LinearRegression\n",
        "import seaborn as sns\n",
        "from sklearn.base import BaseEstimator"
      ],
      "metadata": {
        "id": "oShVQno98kBZ"
      },
      "execution_count": null,
      "outputs": []
    },
    {
      "cell_type": "code",
      "execution_count": null,
      "metadata": {
        "id": "Z4gzYkUAsPWG"
      },
      "outputs": [],
      "source": [
        "df = pd.read_csv(\"card_transdata.csv\", sep= ',')"
      ]
    },
    {
      "cell_type": "code",
      "source": [
        "df.shape"
      ],
      "metadata": {
        "id": "xw1IyEwN_W4f",
        "colab": {
          "base_uri": "https://localhost:8080/"
        },
        "outputId": "e36e7e95-a1e6-4720-f65b-6fd90d1a2e1b"
      },
      "execution_count": null,
      "outputs": [
        {
          "output_type": "execute_result",
          "data": {
            "text/plain": [
              "(288666, 8)"
            ]
          },
          "metadata": {},
          "execution_count": 7
        }
      ]
    },
    {
      "cell_type": "code",
      "source": [
        ""
      ],
      "metadata": {
        "id": "5HHyfLJ6f9El"
      },
      "execution_count": null,
      "outputs": []
    },
    {
      "cell_type": "code",
      "source": [
        "raw=df.sample(frac=0.7,random_state=200) #random state is a seed value\n",
        "test=df.drop(raw.index)"
      ],
      "metadata": {
        "id": "2qqd-LWZ7Kku"
      },
      "execution_count": null,
      "outputs": []
    },
    {
      "cell_type": "code",
      "source": [
        "raw.shape"
      ],
      "metadata": {
        "id": "DgfS3g9w7Ptm",
        "colab": {
          "base_uri": "https://localhost:8080/"
        },
        "outputId": "6d512fee-7e6f-424c-c254-a7baba16c1c0"
      },
      "execution_count": null,
      "outputs": [
        {
          "output_type": "execute_result",
          "data": {
            "text/plain": [
              "(202066, 8)"
            ]
          },
          "metadata": {},
          "execution_count": 9
        }
      ]
    },
    {
      "cell_type": "code",
      "source": [
        "test.shape"
      ],
      "metadata": {
        "colab": {
          "base_uri": "https://localhost:8080/"
        },
        "id": "DqdQvs0Uf9yS",
        "outputId": "6adb746b-41fc-4b26-f1f7-031e37e22fac"
      },
      "execution_count": null,
      "outputs": [
        {
          "output_type": "execute_result",
          "data": {
            "text/plain": [
              "(86600, 8)"
            ]
          },
          "metadata": {},
          "execution_count": 10
        }
      ]
    },
    {
      "cell_type": "code",
      "source": [
        "test.describe()"
      ],
      "metadata": {
        "colab": {
          "base_uri": "https://localhost:8080/",
          "height": 364
        },
        "id": "KD4lP3NNgASa",
        "outputId": "5962b333-71ea-45c1-8261-2111f61a611f"
      },
      "execution_count": null,
      "outputs": [
        {
          "output_type": "execute_result",
          "data": {
            "text/plain": [
              "       distance_from_home  distance_from_last_transaction  \\\n",
              "count        86600.000000                    86600.000000   \n",
              "mean            26.679542                        5.163180   \n",
              "std             65.335101                       25.849838   \n",
              "min              0.024461                        0.000856   \n",
              "25%              3.888657                        0.298859   \n",
              "50%             10.017077                        1.007866   \n",
              "75%             25.627141                        3.374313   \n",
              "max           4394.314607                     2663.513077   \n",
              "\n",
              "       ratio_to_median_purchase_price  repeat_retailer     used_chip  \\\n",
              "count                    86600.000000     86600.000000  86600.000000   \n",
              "mean                         1.820881         0.882783      0.351120   \n",
              "std                          2.734680         0.321681      0.477323   \n",
              "min                          0.004399         0.000000      0.000000   \n",
              "25%                          0.474581         1.000000      0.000000   \n",
              "50%                          0.992356         1.000000      0.000000   \n",
              "75%                          2.090218         1.000000      1.000000   \n",
              "max                         76.364245         1.000000      1.000000   \n",
              "\n",
              "       used_pin_number  online_order         fraud  \n",
              "count     86600.000000  86600.000000  86599.000000  \n",
              "mean          0.102090      0.651109      0.086918  \n",
              "std           0.302768      0.476622      0.281716  \n",
              "min           0.000000      0.000000      0.000000  \n",
              "25%           0.000000      0.000000      0.000000  \n",
              "50%           0.000000      1.000000      0.000000  \n",
              "75%           0.000000      1.000000      0.000000  \n",
              "max           1.000000      1.000000      1.000000  "
            ],
            "text/html": [
              "\n",
              "  <div id=\"df-51412488-de7d-48f6-9184-fab8b3d1f26d\">\n",
              "    <div class=\"colab-df-container\">\n",
              "      <div>\n",
              "<style scoped>\n",
              "    .dataframe tbody tr th:only-of-type {\n",
              "        vertical-align: middle;\n",
              "    }\n",
              "\n",
              "    .dataframe tbody tr th {\n",
              "        vertical-align: top;\n",
              "    }\n",
              "\n",
              "    .dataframe thead th {\n",
              "        text-align: right;\n",
              "    }\n",
              "</style>\n",
              "<table border=\"1\" class=\"dataframe\">\n",
              "  <thead>\n",
              "    <tr style=\"text-align: right;\">\n",
              "      <th></th>\n",
              "      <th>distance_from_home</th>\n",
              "      <th>distance_from_last_transaction</th>\n",
              "      <th>ratio_to_median_purchase_price</th>\n",
              "      <th>repeat_retailer</th>\n",
              "      <th>used_chip</th>\n",
              "      <th>used_pin_number</th>\n",
              "      <th>online_order</th>\n",
              "      <th>fraud</th>\n",
              "    </tr>\n",
              "  </thead>\n",
              "  <tbody>\n",
              "    <tr>\n",
              "      <th>count</th>\n",
              "      <td>86600.000000</td>\n",
              "      <td>86600.000000</td>\n",
              "      <td>86600.000000</td>\n",
              "      <td>86600.000000</td>\n",
              "      <td>86600.000000</td>\n",
              "      <td>86600.000000</td>\n",
              "      <td>86600.000000</td>\n",
              "      <td>86599.000000</td>\n",
              "    </tr>\n",
              "    <tr>\n",
              "      <th>mean</th>\n",
              "      <td>26.679542</td>\n",
              "      <td>5.163180</td>\n",
              "      <td>1.820881</td>\n",
              "      <td>0.882783</td>\n",
              "      <td>0.351120</td>\n",
              "      <td>0.102090</td>\n",
              "      <td>0.651109</td>\n",
              "      <td>0.086918</td>\n",
              "    </tr>\n",
              "    <tr>\n",
              "      <th>std</th>\n",
              "      <td>65.335101</td>\n",
              "      <td>25.849838</td>\n",
              "      <td>2.734680</td>\n",
              "      <td>0.321681</td>\n",
              "      <td>0.477323</td>\n",
              "      <td>0.302768</td>\n",
              "      <td>0.476622</td>\n",
              "      <td>0.281716</td>\n",
              "    </tr>\n",
              "    <tr>\n",
              "      <th>min</th>\n",
              "      <td>0.024461</td>\n",
              "      <td>0.000856</td>\n",
              "      <td>0.004399</td>\n",
              "      <td>0.000000</td>\n",
              "      <td>0.000000</td>\n",
              "      <td>0.000000</td>\n",
              "      <td>0.000000</td>\n",
              "      <td>0.000000</td>\n",
              "    </tr>\n",
              "    <tr>\n",
              "      <th>25%</th>\n",
              "      <td>3.888657</td>\n",
              "      <td>0.298859</td>\n",
              "      <td>0.474581</td>\n",
              "      <td>1.000000</td>\n",
              "      <td>0.000000</td>\n",
              "      <td>0.000000</td>\n",
              "      <td>0.000000</td>\n",
              "      <td>0.000000</td>\n",
              "    </tr>\n",
              "    <tr>\n",
              "      <th>50%</th>\n",
              "      <td>10.017077</td>\n",
              "      <td>1.007866</td>\n",
              "      <td>0.992356</td>\n",
              "      <td>1.000000</td>\n",
              "      <td>0.000000</td>\n",
              "      <td>0.000000</td>\n",
              "      <td>1.000000</td>\n",
              "      <td>0.000000</td>\n",
              "    </tr>\n",
              "    <tr>\n",
              "      <th>75%</th>\n",
              "      <td>25.627141</td>\n",
              "      <td>3.374313</td>\n",
              "      <td>2.090218</td>\n",
              "      <td>1.000000</td>\n",
              "      <td>1.000000</td>\n",
              "      <td>0.000000</td>\n",
              "      <td>1.000000</td>\n",
              "      <td>0.000000</td>\n",
              "    </tr>\n",
              "    <tr>\n",
              "      <th>max</th>\n",
              "      <td>4394.314607</td>\n",
              "      <td>2663.513077</td>\n",
              "      <td>76.364245</td>\n",
              "      <td>1.000000</td>\n",
              "      <td>1.000000</td>\n",
              "      <td>1.000000</td>\n",
              "      <td>1.000000</td>\n",
              "      <td>1.000000</td>\n",
              "    </tr>\n",
              "  </tbody>\n",
              "</table>\n",
              "</div>\n",
              "      <button class=\"colab-df-convert\" onclick=\"convertToInteractive('df-51412488-de7d-48f6-9184-fab8b3d1f26d')\"\n",
              "              title=\"Convert this dataframe to an interactive table.\"\n",
              "              style=\"display:none;\">\n",
              "        \n",
              "  <svg xmlns=\"http://www.w3.org/2000/svg\" height=\"24px\"viewBox=\"0 0 24 24\"\n",
              "       width=\"24px\">\n",
              "    <path d=\"M0 0h24v24H0V0z\" fill=\"none\"/>\n",
              "    <path d=\"M18.56 5.44l.94 2.06.94-2.06 2.06-.94-2.06-.94-.94-2.06-.94 2.06-2.06.94zm-11 1L8.5 8.5l.94-2.06 2.06-.94-2.06-.94L8.5 2.5l-.94 2.06-2.06.94zm10 10l.94 2.06.94-2.06 2.06-.94-2.06-.94-.94-2.06-.94 2.06-2.06.94z\"/><path d=\"M17.41 7.96l-1.37-1.37c-.4-.4-.92-.59-1.43-.59-.52 0-1.04.2-1.43.59L10.3 9.45l-7.72 7.72c-.78.78-.78 2.05 0 2.83L4 21.41c.39.39.9.59 1.41.59.51 0 1.02-.2 1.41-.59l7.78-7.78 2.81-2.81c.8-.78.8-2.07 0-2.86zM5.41 20L4 18.59l7.72-7.72 1.47 1.35L5.41 20z\"/>\n",
              "  </svg>\n",
              "      </button>\n",
              "      \n",
              "  <style>\n",
              "    .colab-df-container {\n",
              "      display:flex;\n",
              "      flex-wrap:wrap;\n",
              "      gap: 12px;\n",
              "    }\n",
              "\n",
              "    .colab-df-convert {\n",
              "      background-color: #E8F0FE;\n",
              "      border: none;\n",
              "      border-radius: 50%;\n",
              "      cursor: pointer;\n",
              "      display: none;\n",
              "      fill: #1967D2;\n",
              "      height: 32px;\n",
              "      padding: 0 0 0 0;\n",
              "      width: 32px;\n",
              "    }\n",
              "\n",
              "    .colab-df-convert:hover {\n",
              "      background-color: #E2EBFA;\n",
              "      box-shadow: 0px 1px 2px rgba(60, 64, 67, 0.3), 0px 1px 3px 1px rgba(60, 64, 67, 0.15);\n",
              "      fill: #174EA6;\n",
              "    }\n",
              "\n",
              "    [theme=dark] .colab-df-convert {\n",
              "      background-color: #3B4455;\n",
              "      fill: #D2E3FC;\n",
              "    }\n",
              "\n",
              "    [theme=dark] .colab-df-convert:hover {\n",
              "      background-color: #434B5C;\n",
              "      box-shadow: 0px 1px 3px 1px rgba(0, 0, 0, 0.15);\n",
              "      filter: drop-shadow(0px 1px 2px rgba(0, 0, 0, 0.3));\n",
              "      fill: #FFFFFF;\n",
              "    }\n",
              "  </style>\n",
              "\n",
              "      <script>\n",
              "        const buttonEl =\n",
              "          document.querySelector('#df-51412488-de7d-48f6-9184-fab8b3d1f26d button.colab-df-convert');\n",
              "        buttonEl.style.display =\n",
              "          google.colab.kernel.accessAllowed ? 'block' : 'none';\n",
              "\n",
              "        async function convertToInteractive(key) {\n",
              "          const element = document.querySelector('#df-51412488-de7d-48f6-9184-fab8b3d1f26d');\n",
              "          const dataTable =\n",
              "            await google.colab.kernel.invokeFunction('convertToInteractive',\n",
              "                                                     [key], {});\n",
              "          if (!dataTable) return;\n",
              "\n",
              "          const docLinkHtml = 'Like what you see? Visit the ' +\n",
              "            '<a target=\"_blank\" href=https://colab.research.google.com/notebooks/data_table.ipynb>data table notebook</a>'\n",
              "            + ' to learn more about interactive tables.';\n",
              "          element.innerHTML = '';\n",
              "          dataTable['output_type'] = 'display_data';\n",
              "          await google.colab.output.renderOutput(dataTable, element);\n",
              "          const docLink = document.createElement('div');\n",
              "          docLink.innerHTML = docLinkHtml;\n",
              "          element.appendChild(docLink);\n",
              "        }\n",
              "      </script>\n",
              "    </div>\n",
              "  </div>\n",
              "  "
            ]
          },
          "metadata": {},
          "execution_count": 11
        }
      ]
    },
    {
      "cell_type": "code",
      "source": [
        "raw.describe()"
      ],
      "metadata": {
        "id": "q16sp8kGbeqr",
        "colab": {
          "base_uri": "https://localhost:8080/",
          "height": 364
        },
        "outputId": "03bedee1-e031-4c9f-bb56-54ce63f2c8e5"
      },
      "execution_count": null,
      "outputs": [
        {
          "output_type": "execute_result",
          "data": {
            "text/plain": [
              "       distance_from_home  distance_from_last_transaction  \\\n",
              "count       202066.000000                   202066.000000   \n",
              "mean            26.680750                        4.901785   \n",
              "std             63.880749                       21.218949   \n",
              "min              0.021322                        0.000419   \n",
              "25%              3.858351                        0.295116   \n",
              "50%              9.933886                        0.998678   \n",
              "75%             25.741649                        3.343322   \n",
              "max           5797.972589                     2160.499922   \n",
              "\n",
              "       ratio_to_median_purchase_price  repeat_retailer      used_chip  \\\n",
              "count                   202066.000000    202066.000000  202066.000000   \n",
              "mean                         1.811230         0.881623       0.351257   \n",
              "std                          2.814880         0.323055       0.477364   \n",
              "min                          0.005741         0.000000       0.000000   \n",
              "25%                          0.475285         1.000000       0.000000   \n",
              "50%                          0.996518         1.000000       0.000000   \n",
              "75%                          2.094497         1.000000       1.000000   \n",
              "max                        266.689692         1.000000       1.000000   \n",
              "\n",
              "       used_pin_number   online_order          fraud  \n",
              "count    202066.000000  202066.000000  202066.000000  \n",
              "mean          0.101254       0.651846       0.086422  \n",
              "std           0.301666       0.476386       0.280987  \n",
              "min           0.000000       0.000000       0.000000  \n",
              "25%           0.000000       0.000000       0.000000  \n",
              "50%           0.000000       1.000000       0.000000  \n",
              "75%           0.000000       1.000000       0.000000  \n",
              "max           1.000000       1.000000       1.000000  "
            ],
            "text/html": [
              "\n",
              "  <div id=\"df-b14daac1-fbd7-4ed3-8ee7-ad172283a2c3\">\n",
              "    <div class=\"colab-df-container\">\n",
              "      <div>\n",
              "<style scoped>\n",
              "    .dataframe tbody tr th:only-of-type {\n",
              "        vertical-align: middle;\n",
              "    }\n",
              "\n",
              "    .dataframe tbody tr th {\n",
              "        vertical-align: top;\n",
              "    }\n",
              "\n",
              "    .dataframe thead th {\n",
              "        text-align: right;\n",
              "    }\n",
              "</style>\n",
              "<table border=\"1\" class=\"dataframe\">\n",
              "  <thead>\n",
              "    <tr style=\"text-align: right;\">\n",
              "      <th></th>\n",
              "      <th>distance_from_home</th>\n",
              "      <th>distance_from_last_transaction</th>\n",
              "      <th>ratio_to_median_purchase_price</th>\n",
              "      <th>repeat_retailer</th>\n",
              "      <th>used_chip</th>\n",
              "      <th>used_pin_number</th>\n",
              "      <th>online_order</th>\n",
              "      <th>fraud</th>\n",
              "    </tr>\n",
              "  </thead>\n",
              "  <tbody>\n",
              "    <tr>\n",
              "      <th>count</th>\n",
              "      <td>202066.000000</td>\n",
              "      <td>202066.000000</td>\n",
              "      <td>202066.000000</td>\n",
              "      <td>202066.000000</td>\n",
              "      <td>202066.000000</td>\n",
              "      <td>202066.000000</td>\n",
              "      <td>202066.000000</td>\n",
              "      <td>202066.000000</td>\n",
              "    </tr>\n",
              "    <tr>\n",
              "      <th>mean</th>\n",
              "      <td>26.680750</td>\n",
              "      <td>4.901785</td>\n",
              "      <td>1.811230</td>\n",
              "      <td>0.881623</td>\n",
              "      <td>0.351257</td>\n",
              "      <td>0.101254</td>\n",
              "      <td>0.651846</td>\n",
              "      <td>0.086422</td>\n",
              "    </tr>\n",
              "    <tr>\n",
              "      <th>std</th>\n",
              "      <td>63.880749</td>\n",
              "      <td>21.218949</td>\n",
              "      <td>2.814880</td>\n",
              "      <td>0.323055</td>\n",
              "      <td>0.477364</td>\n",
              "      <td>0.301666</td>\n",
              "      <td>0.476386</td>\n",
              "      <td>0.280987</td>\n",
              "    </tr>\n",
              "    <tr>\n",
              "      <th>min</th>\n",
              "      <td>0.021322</td>\n",
              "      <td>0.000419</td>\n",
              "      <td>0.005741</td>\n",
              "      <td>0.000000</td>\n",
              "      <td>0.000000</td>\n",
              "      <td>0.000000</td>\n",
              "      <td>0.000000</td>\n",
              "      <td>0.000000</td>\n",
              "    </tr>\n",
              "    <tr>\n",
              "      <th>25%</th>\n",
              "      <td>3.858351</td>\n",
              "      <td>0.295116</td>\n",
              "      <td>0.475285</td>\n",
              "      <td>1.000000</td>\n",
              "      <td>0.000000</td>\n",
              "      <td>0.000000</td>\n",
              "      <td>0.000000</td>\n",
              "      <td>0.000000</td>\n",
              "    </tr>\n",
              "    <tr>\n",
              "      <th>50%</th>\n",
              "      <td>9.933886</td>\n",
              "      <td>0.998678</td>\n",
              "      <td>0.996518</td>\n",
              "      <td>1.000000</td>\n",
              "      <td>0.000000</td>\n",
              "      <td>0.000000</td>\n",
              "      <td>1.000000</td>\n",
              "      <td>0.000000</td>\n",
              "    </tr>\n",
              "    <tr>\n",
              "      <th>75%</th>\n",
              "      <td>25.741649</td>\n",
              "      <td>3.343322</td>\n",
              "      <td>2.094497</td>\n",
              "      <td>1.000000</td>\n",
              "      <td>1.000000</td>\n",
              "      <td>0.000000</td>\n",
              "      <td>1.000000</td>\n",
              "      <td>0.000000</td>\n",
              "    </tr>\n",
              "    <tr>\n",
              "      <th>max</th>\n",
              "      <td>5797.972589</td>\n",
              "      <td>2160.499922</td>\n",
              "      <td>266.689692</td>\n",
              "      <td>1.000000</td>\n",
              "      <td>1.000000</td>\n",
              "      <td>1.000000</td>\n",
              "      <td>1.000000</td>\n",
              "      <td>1.000000</td>\n",
              "    </tr>\n",
              "  </tbody>\n",
              "</table>\n",
              "</div>\n",
              "      <button class=\"colab-df-convert\" onclick=\"convertToInteractive('df-b14daac1-fbd7-4ed3-8ee7-ad172283a2c3')\"\n",
              "              title=\"Convert this dataframe to an interactive table.\"\n",
              "              style=\"display:none;\">\n",
              "        \n",
              "  <svg xmlns=\"http://www.w3.org/2000/svg\" height=\"24px\"viewBox=\"0 0 24 24\"\n",
              "       width=\"24px\">\n",
              "    <path d=\"M0 0h24v24H0V0z\" fill=\"none\"/>\n",
              "    <path d=\"M18.56 5.44l.94 2.06.94-2.06 2.06-.94-2.06-.94-.94-2.06-.94 2.06-2.06.94zm-11 1L8.5 8.5l.94-2.06 2.06-.94-2.06-.94L8.5 2.5l-.94 2.06-2.06.94zm10 10l.94 2.06.94-2.06 2.06-.94-2.06-.94-.94-2.06-.94 2.06-2.06.94z\"/><path d=\"M17.41 7.96l-1.37-1.37c-.4-.4-.92-.59-1.43-.59-.52 0-1.04.2-1.43.59L10.3 9.45l-7.72 7.72c-.78.78-.78 2.05 0 2.83L4 21.41c.39.39.9.59 1.41.59.51 0 1.02-.2 1.41-.59l7.78-7.78 2.81-2.81c.8-.78.8-2.07 0-2.86zM5.41 20L4 18.59l7.72-7.72 1.47 1.35L5.41 20z\"/>\n",
              "  </svg>\n",
              "      </button>\n",
              "      \n",
              "  <style>\n",
              "    .colab-df-container {\n",
              "      display:flex;\n",
              "      flex-wrap:wrap;\n",
              "      gap: 12px;\n",
              "    }\n",
              "\n",
              "    .colab-df-convert {\n",
              "      background-color: #E8F0FE;\n",
              "      border: none;\n",
              "      border-radius: 50%;\n",
              "      cursor: pointer;\n",
              "      display: none;\n",
              "      fill: #1967D2;\n",
              "      height: 32px;\n",
              "      padding: 0 0 0 0;\n",
              "      width: 32px;\n",
              "    }\n",
              "\n",
              "    .colab-df-convert:hover {\n",
              "      background-color: #E2EBFA;\n",
              "      box-shadow: 0px 1px 2px rgba(60, 64, 67, 0.3), 0px 1px 3px 1px rgba(60, 64, 67, 0.15);\n",
              "      fill: #174EA6;\n",
              "    }\n",
              "\n",
              "    [theme=dark] .colab-df-convert {\n",
              "      background-color: #3B4455;\n",
              "      fill: #D2E3FC;\n",
              "    }\n",
              "\n",
              "    [theme=dark] .colab-df-convert:hover {\n",
              "      background-color: #434B5C;\n",
              "      box-shadow: 0px 1px 3px 1px rgba(0, 0, 0, 0.15);\n",
              "      filter: drop-shadow(0px 1px 2px rgba(0, 0, 0, 0.3));\n",
              "      fill: #FFFFFF;\n",
              "    }\n",
              "  </style>\n",
              "\n",
              "      <script>\n",
              "        const buttonEl =\n",
              "          document.querySelector('#df-b14daac1-fbd7-4ed3-8ee7-ad172283a2c3 button.colab-df-convert');\n",
              "        buttonEl.style.display =\n",
              "          google.colab.kernel.accessAllowed ? 'block' : 'none';\n",
              "\n",
              "        async function convertToInteractive(key) {\n",
              "          const element = document.querySelector('#df-b14daac1-fbd7-4ed3-8ee7-ad172283a2c3');\n",
              "          const dataTable =\n",
              "            await google.colab.kernel.invokeFunction('convertToInteractive',\n",
              "                                                     [key], {});\n",
              "          if (!dataTable) return;\n",
              "\n",
              "          const docLinkHtml = 'Like what you see? Visit the ' +\n",
              "            '<a target=\"_blank\" href=https://colab.research.google.com/notebooks/data_table.ipynb>data table notebook</a>'\n",
              "            + ' to learn more about interactive tables.';\n",
              "          element.innerHTML = '';\n",
              "          dataTable['output_type'] = 'display_data';\n",
              "          await google.colab.output.renderOutput(dataTable, element);\n",
              "          const docLink = document.createElement('div');\n",
              "          docLink.innerHTML = docLinkHtml;\n",
              "          element.appendChild(docLink);\n",
              "        }\n",
              "      </script>\n",
              "    </div>\n",
              "  </div>\n",
              "  "
            ]
          },
          "metadata": {},
          "execution_count": 12
        }
      ]
    },
    {
      "cell_type": "code",
      "source": [
        "# Missing Values\n",
        "raw.isna().sum()"
      ],
      "metadata": {
        "id": "BBGXA9_Y3zKl",
        "colab": {
          "base_uri": "https://localhost:8080/"
        },
        "outputId": "61bc1fbe-4a82-493a-b249-803083b3e72f"
      },
      "execution_count": null,
      "outputs": [
        {
          "output_type": "execute_result",
          "data": {
            "text/plain": [
              "distance_from_home                0\n",
              "distance_from_last_transaction    0\n",
              "ratio_to_median_purchase_price    0\n",
              "repeat_retailer                   0\n",
              "used_chip                         0\n",
              "used_pin_number                   0\n",
              "online_order                      0\n",
              "fraud                             0\n",
              "dtype: int64"
            ]
          },
          "metadata": {},
          "execution_count": 13
        }
      ]
    },
    {
      "cell_type": "code",
      "source": [
        "# Missing Values\n",
        "test.isna().sum()\n"
      ],
      "metadata": {
        "colab": {
          "base_uri": "https://localhost:8080/"
        },
        "id": "p4juDzoZuuos",
        "outputId": "e4f83c95-1462-4416-af18-d626e09b2e3d"
      },
      "execution_count": null,
      "outputs": [
        {
          "output_type": "execute_result",
          "data": {
            "text/plain": [
              "distance_from_home                0\n",
              "distance_from_last_transaction    0\n",
              "ratio_to_median_purchase_price    0\n",
              "repeat_retailer                   0\n",
              "used_chip                         0\n",
              "used_pin_number                   0\n",
              "online_order                      0\n",
              "fraud                             1\n",
              "dtype: int64"
            ]
          },
          "metadata": {},
          "execution_count": 14
        }
      ]
    },
    {
      "cell_type": "code",
      "source": [
        "#drop missing values\n",
        "test = test.dropna()"
      ],
      "metadata": {
        "id": "Ybb4bJC7vmqC"
      },
      "execution_count": null,
      "outputs": []
    },
    {
      "cell_type": "code",
      "source": [
        "raw.info()"
      ],
      "metadata": {
        "id": "_xPgnIZbLi2J",
        "colab": {
          "base_uri": "https://localhost:8080/"
        },
        "outputId": "3857eb90-2e16-4f79-f2a3-22aded88848c"
      },
      "execution_count": null,
      "outputs": [
        {
          "output_type": "stream",
          "name": "stdout",
          "text": [
            "<class 'pandas.core.frame.DataFrame'>\n",
            "Int64Index: 202066 entries, 17401 to 223423\n",
            "Data columns (total 8 columns):\n",
            " #   Column                          Non-Null Count   Dtype  \n",
            "---  ------                          --------------   -----  \n",
            " 0   distance_from_home              202066 non-null  float64\n",
            " 1   distance_from_last_transaction  202066 non-null  float64\n",
            " 2   ratio_to_median_purchase_price  202066 non-null  float64\n",
            " 3   repeat_retailer                 202066 non-null  float64\n",
            " 4   used_chip                       202066 non-null  float64\n",
            " 5   used_pin_number                 202066 non-null  float64\n",
            " 6   online_order                    202066 non-null  float64\n",
            " 7   fraud                           202066 non-null  float64\n",
            "dtypes: float64(8)\n",
            "memory usage: 13.9 MB\n"
          ]
        }
      ]
    },
    {
      "cell_type": "code",
      "source": [
        ""
      ],
      "metadata": {
        "id": "y6cMsRvlq0lW"
      },
      "execution_count": null,
      "outputs": []
    },
    {
      "cell_type": "code",
      "source": [
        "raw.columns"
      ],
      "metadata": {
        "id": "fMTrDBNLiEum",
        "colab": {
          "base_uri": "https://localhost:8080/"
        },
        "outputId": "67271520-1513-4b80-a8fb-147a5af4345a"
      },
      "execution_count": null,
      "outputs": [
        {
          "output_type": "execute_result",
          "data": {
            "text/plain": [
              "Index(['distance_from_home', 'distance_from_last_transaction',\n",
              "       'ratio_to_median_purchase_price', 'repeat_retailer', 'used_chip',\n",
              "       'used_pin_number', 'online_order', 'fraud'],\n",
              "      dtype='object')"
            ]
          },
          "metadata": {},
          "execution_count": 17
        }
      ]
    },
    {
      "cell_type": "code",
      "execution_count": null,
      "metadata": {
        "id": "BUCvNdfqs3Oe",
        "colab": {
          "base_uri": "https://localhost:8080/"
        },
        "outputId": "d7019263-5f80-481b-f499-d2c5d46b1de0"
      },
      "outputs": [
        {
          "output_type": "stream",
          "name": "stderr",
          "text": [
            "/usr/local/lib/python3.7/dist-packages/ipykernel_launcher.py:2: DeprecationWarning: `np.object` is a deprecated alias for the builtin `object`. To silence this warning, use `object` by itself. Doing this will not modify any behavior and is safe. \n",
            "Deprecated in NumPy 1.20; for more details and guidance: https://numpy.org/devdocs/release/1.20.0-notes.html#deprecations\n",
            "  \n"
          ]
        }
      ],
      "source": [
        "for col in [\"repeat_retailer\",\"used_chip\",\"used_pin_number\",\"online_order\"]:\n",
        "  raw[col] = raw[col].astype(np.object)"
      ]
    },
    {
      "cell_type": "code",
      "execution_count": null,
      "metadata": {
        "id": "sFIFAW_Kskwe"
      },
      "outputs": [],
      "source": [
        "num_var = raw.select_dtypes(include = 'number').columns"
      ]
    },
    {
      "cell_type": "code",
      "source": [
        "cat_var = raw.select_dtypes(include = 'object').columns"
      ],
      "metadata": {
        "id": "DsqVS2tuhrz5"
      },
      "execution_count": null,
      "outputs": []
    },
    {
      "cell_type": "markdown",
      "source": [
        "# Data preprocessing\n",
        "\n",
        "```\n",
        "# This is formatted as code\n",
        "```\n",
        "\n"
      ],
      "metadata": {
        "id": "eMTAcKnIcm-s"
      }
    },
    {
      "cell_type": "markdown",
      "source": [
        "## EDA "
      ],
      "metadata": {
        "id": "eynB5BZ7jQ5B"
      }
    },
    {
      "cell_type": "code",
      "source": [
        ""
      ],
      "metadata": {
        "id": "4AbMg2PnjSWq"
      },
      "execution_count": null,
      "outputs": []
    },
    {
      "cell_type": "markdown",
      "metadata": {
        "id": "DBuxftLfwpKx"
      },
      "source": [
        "##check correlation \n"
      ]
    },
    {
      "cell_type": "code",
      "execution_count": null,
      "metadata": {
        "id": "V81z5rUCs5hQ",
        "colab": {
          "base_uri": "https://localhost:8080/",
          "height": 175
        },
        "outputId": "612a780e-0232-4466-a57b-3f95607d5185"
      },
      "outputs": [
        {
          "output_type": "execute_result",
          "data": {
            "text/plain": [
              "<pandas.io.formats.style.Styler at 0x7f49f8cb27d0>"
            ],
            "text/html": [
              "<style type=\"text/css\">\n",
              "#T_c3357_row0_col0, #T_c3357_row1_col1, #T_c3357_row2_col2, #T_c3357_row3_col3 {\n",
              "  background-color: #00441b;\n",
              "  color: #f1f1f1;\n",
              "}\n",
              "#T_c3357_row0_col1, #T_c3357_row0_col2, #T_c3357_row1_col0, #T_c3357_row1_col2, #T_c3357_row1_col3, #T_c3357_row2_col0, #T_c3357_row2_col1 {\n",
              "  background-color: #f7fcf5;\n",
              "  color: #000000;\n",
              "}\n",
              "#T_c3357_row0_col3 {\n",
              "  background-color: #e9f7e5;\n",
              "  color: #000000;\n",
              "}\n",
              "#T_c3357_row2_col3 {\n",
              "  background-color: #9cd797;\n",
              "  color: #000000;\n",
              "}\n",
              "#T_c3357_row3_col0 {\n",
              "  background-color: #d5efcf;\n",
              "  color: #000000;\n",
              "}\n",
              "#T_c3357_row3_col1 {\n",
              "  background-color: #e8f6e4;\n",
              "  color: #000000;\n",
              "}\n",
              "#T_c3357_row3_col2 {\n",
              "  background-color: #84cc83;\n",
              "  color: #000000;\n",
              "}\n",
              "</style>\n",
              "<table id=\"T_c3357_\" class=\"dataframe\">\n",
              "  <thead>\n",
              "    <tr>\n",
              "      <th class=\"blank level0\" >&nbsp;</th>\n",
              "      <th class=\"col_heading level0 col0\" >distance_from_home</th>\n",
              "      <th class=\"col_heading level0 col1\" >distance_from_last_transaction</th>\n",
              "      <th class=\"col_heading level0 col2\" >ratio_to_median_purchase_price</th>\n",
              "      <th class=\"col_heading level0 col3\" >fraud</th>\n",
              "    </tr>\n",
              "  </thead>\n",
              "  <tbody>\n",
              "    <tr>\n",
              "      <th id=\"T_c3357_level0_row0\" class=\"row_heading level0 row0\" >distance_from_home</th>\n",
              "      <td id=\"T_c3357_row0_col0\" class=\"data row0 col0\" >1.000000</td>\n",
              "      <td id=\"T_c3357_row0_col1\" class=\"data row0 col1\" >-0.000566</td>\n",
              "      <td id=\"T_c3357_row0_col2\" class=\"data row0 col2\" >-0.001372</td>\n",
              "      <td id=\"T_c3357_row0_col3\" class=\"data row0 col3\" >0.191108</td>\n",
              "    </tr>\n",
              "    <tr>\n",
              "      <th id=\"T_c3357_level0_row1\" class=\"row_heading level0 row1\" >distance_from_last_transaction</th>\n",
              "      <td id=\"T_c3357_row1_col0\" class=\"data row1 col0\" >-0.000566</td>\n",
              "      <td id=\"T_c3357_row1_col1\" class=\"data row1 col1\" >1.000000</td>\n",
              "      <td id=\"T_c3357_row1_col2\" class=\"data row1 col2\" >-0.000589</td>\n",
              "      <td id=\"T_c3357_row1_col3\" class=\"data row1 col3\" >0.104003</td>\n",
              "    </tr>\n",
              "    <tr>\n",
              "      <th id=\"T_c3357_level0_row2\" class=\"row_heading level0 row2\" >ratio_to_median_purchase_price</th>\n",
              "      <td id=\"T_c3357_row2_col0\" class=\"data row2 col0\" >-0.001372</td>\n",
              "      <td id=\"T_c3357_row2_col1\" class=\"data row2 col1\" >-0.000589</td>\n",
              "      <td id=\"T_c3357_row2_col2\" class=\"data row2 col2\" >1.000000</td>\n",
              "      <td id=\"T_c3357_row2_col3\" class=\"data row2 col3\" >0.453634</td>\n",
              "    </tr>\n",
              "    <tr>\n",
              "      <th id=\"T_c3357_level0_row3\" class=\"row_heading level0 row3\" >fraud</th>\n",
              "      <td id=\"T_c3357_row3_col0\" class=\"data row3 col0\" >0.191108</td>\n",
              "      <td id=\"T_c3357_row3_col1\" class=\"data row3 col1\" >0.104003</td>\n",
              "      <td id=\"T_c3357_row3_col2\" class=\"data row3 col2\" >0.453634</td>\n",
              "      <td id=\"T_c3357_row3_col3\" class=\"data row3 col3\" >1.000000</td>\n",
              "    </tr>\n",
              "  </tbody>\n",
              "</table>\n"
            ]
          },
          "metadata": {},
          "execution_count": 21
        }
      ],
      "source": [
        "raw[num_var].corr().style.background_gradient(cmap='Greens')"
      ]
    },
    {
      "cell_type": "markdown",
      "metadata": {
        "id": "U9ss1aV3wuTT"
      },
      "source": [
        "There is one missing value for column umbrella_limit in row 290 because it is impossible for umbrella_limit to be less than **zero**\n",
        "\n",
        "```\n",
        "# This is formatted as code\n",
        "```\n",
        "\n"
      ]
    },
    {
      "cell_type": "code",
      "execution_count": null,
      "metadata": {
        "id": "Ezk43DZdvSGI"
      },
      "outputs": [],
      "source": [
        ""
      ]
    },
    {
      "cell_type": "markdown",
      "metadata": {
        "id": "MAQCN2xTHVT-"
      },
      "source": [
        "## check outlier"
      ]
    },
    {
      "cell_type": "code",
      "execution_count": null,
      "metadata": {
        "id": "puI15LYEF_LC",
        "colab": {
          "base_uri": "https://localhost:8080/",
          "height": 1000
        },
        "outputId": "70fc788f-4a1d-4c53-d3bb-8966a03f8b37"
      },
      "outputs": [
        {
          "output_type": "display_data",
          "data": {
            "text/plain": [
              "<Figure size 720x504 with 1 Axes>"
            ],
            "image/png": "[encoded data removed]"
          },
          "metadata": {
            "needs_background": "light"
          }
        },
        {
          "output_type": "display_data",
          "data": {
            "text/plain": [
              "<Figure size 720x504 with 1 Axes>"
            ],
            "image/png": "[encoded data removed]"
          },
          "metadata": {
            "needs_background": "light"
          }
        },
        {
          "output_type": "display_data",
          "data": {
            "text/plain": [
              "<Figure size 720x504 with 1 Axes>"
            ],
            "image/png": "[encoded data removed]"
          },
          "metadata": {
            "needs_background": "light"
          }
        }
      ],
      "source": [
        "for x_col in num_var:\n",
        "    if x_col == \"fraud\":\n",
        "      continue\n",
        "    plt.figure(figsize = (10,7))\n",
        "    sns.boxplot(x = \"fraud\", y=x_col, data = raw, palette= 'GnBu_d')\n",
        "    plt.show()"
      ]
    },
    {
      "cell_type": "markdown",
      "source": [
        "## Dropping outlier"
      ],
      "metadata": {
        "id": "8NIh2fe0cU5M"
      }
    },
    {
      "cell_type": "code",
      "source": [
        "def remove_outlier_IQR(df):\n",
        "    Q1=df.quantile(0.25)\n",
        "    Q3=df.quantile(0.75)\n",
        "    IQR=Q3-Q1\n",
        "    df_final=df[~((df<(Q1-1.5*IQR)) | (df>(Q3+1.5*IQR)))]\n",
        "    return df_final"
      ],
      "metadata": {
        "id": "yiaPZatNWC0e"
      },
      "execution_count": null,
      "outputs": []
    },
    {
      "cell_type": "code",
      "source": [
        "df_outlier_removed=remove_outlier_IQR(raw['distance_from_home'])\n",
        "df_outlier_removed=pd.DataFrame(df_outlier_removed)\n",
        "ind_diff=raw.index.difference(df_outlier_removed.index)\n",
        "\n",
        "\n",
        "    \n"
      ],
      "metadata": {
        "id": "SveQs0mSWJgO"
      },
      "execution_count": null,
      "outputs": []
    },
    {
      "cell_type": "code",
      "source": [
        "ind_diff"
      ],
      "metadata": {
        "id": "kjLlfUV0XLNQ",
        "colab": {
          "base_uri": "https://localhost:8080/"
        },
        "outputId": "35f497e5-5f21-4e7b-bfb7-a2ed4d1d258e"
      },
      "execution_count": null,
      "outputs": [
        {
          "output_type": "execute_result",
          "data": {
            "text/plain": [
              "Int64Index([    12,     15,     20,     37,     39,     54,     73,     92,\n",
              "               112,    126,\n",
              "            ...\n",
              "            288485, 288530, 288532, 288561, 288589, 288599, 288638, 288647,\n",
              "            288653, 288663],\n",
              "           dtype='int64', length=20991)"
            ]
          },
          "metadata": {},
          "execution_count": 25
        }
      ]
    },
    {
      "cell_type": "code",
      "source": [
        "raw = raw.drop(ind_diff)"
      ],
      "metadata": {
        "id": "EFzfntpFXJ8w"
      },
      "execution_count": null,
      "outputs": []
    },
    {
      "cell_type": "code",
      "source": [
        "raw.describe()"
      ],
      "metadata": {
        "id": "ZlPaq__WbtUd",
        "colab": {
          "base_uri": "https://localhost:8080/",
          "height": 300
        },
        "outputId": "1917b299-4229-4edc-d77a-40e0cf45f881"
      },
      "execution_count": null,
      "outputs": [
        {
          "output_type": "execute_result",
          "data": {
            "text/plain": [
              "       distance_from_home  distance_from_last_transaction  \\\n",
              "count       181075.000000                   181075.000000   \n",
              "mean            13.174859                        4.903757   \n",
              "std             13.145090                       21.240862   \n",
              "min              0.021322                        0.000419   \n",
              "25%              3.427143                        0.294373   \n",
              "50%              8.260910                        0.996536   \n",
              "75%             18.629290                        3.342432   \n",
              "max             58.560284                     2160.499922   \n",
              "\n",
              "       ratio_to_median_purchase_price          fraud  \n",
              "count                   181075.000000  181075.000000  \n",
              "mean                         1.811552       0.067629  \n",
              "std                          2.838090       0.251110  \n",
              "min                          0.005741       0.000000  \n",
              "25%                          0.474698       0.000000  \n",
              "50%                          0.994270       0.000000  \n",
              "75%                          2.094002       0.000000  \n",
              "max                        266.689692       1.000000  "
            ],
            "text/html": [
              "\n",
              "  <div id=\"df-3b342bf7-35a8-4830-8fda-3d36f2fcd731\">\n",
              "    <div class=\"colab-df-container\">\n",
              "      <div>\n",
              "<style scoped>\n",
              "    .dataframe tbody tr th:only-of-type {\n",
              "        vertical-align: middle;\n",
              "    }\n",
              "\n",
              "    .dataframe tbody tr th {\n",
              "        vertical-align: top;\n",
              "    }\n",
              "\n",
              "    .dataframe thead th {\n",
              "        text-align: right;\n",
              "    }\n",
              "</style>\n",
              "<table border=\"1\" class=\"dataframe\">\n",
              "  <thead>\n",
              "    <tr style=\"text-align: right;\">\n",
              "      <th></th>\n",
              "      <th>distance_from_home</th>\n",
              "      <th>distance_from_last_transaction</th>\n",
              "      <th>ratio_to_median_purchase_price</th>\n",
              "      <th>fraud</th>\n",
              "    </tr>\n",
              "  </thead>\n",
              "  <tbody>\n",
              "    <tr>\n",
              "      <th>count</th>\n",
              "      <td>181075.000000</td>\n",
              "      <td>181075.000000</td>\n",
              "      <td>181075.000000</td>\n",
              "      <td>181075.000000</td>\n",
              "    </tr>\n",
              "    <tr>\n",
              "      <th>mean</th>\n",
              "      <td>13.174859</td>\n",
              "      <td>4.903757</td>\n",
              "      <td>1.811552</td>\n",
              "      <td>0.067629</td>\n",
              "    </tr>\n",
              "    <tr>\n",
              "      <th>std</th>\n",
              "      <td>13.145090</td>\n",
              "      <td>21.240862</td>\n",
              "      <td>2.838090</td>\n",
              "      <td>0.251110</td>\n",
              "    </tr>\n",
              "    <tr>\n",
              "      <th>min</th>\n",
              "      <td>0.021322</td>\n",
              "      <td>0.000419</td>\n",
              "      <td>0.005741</td>\n",
              "      <td>0.000000</td>\n",
              "    </tr>\n",
              "    <tr>\n",
              "      <th>25%</th>\n",
              "      <td>3.427143</td>\n",
              "      <td>0.294373</td>\n",
              "      <td>0.474698</td>\n",
              "      <td>0.000000</td>\n",
              "    </tr>\n",
              "    <tr>\n",
              "      <th>50%</th>\n",
              "      <td>8.260910</td>\n",
              "      <td>0.996536</td>\n",
              "      <td>0.994270</td>\n",
              "      <td>0.000000</td>\n",
              "    </tr>\n",
              "    <tr>\n",
              "      <th>75%</th>\n",
              "      <td>18.629290</td>\n",
              "      <td>3.342432</td>\n",
              "      <td>2.094002</td>\n",
              "      <td>0.000000</td>\n",
              "    </tr>\n",
              "    <tr>\n",
              "      <th>max</th>\n",
              "      <td>58.560284</td>\n",
              "      <td>2160.499922</td>\n",
              "      <td>266.689692</td>\n",
              "      <td>1.000000</td>\n",
              "    </tr>\n",
              "  </tbody>\n",
              "</table>\n",
              "</div>\n",
              "      <button class=\"colab-df-convert\" onclick=\"convertToInteractive('df-3b342bf7-35a8-4830-8fda-3d36f2fcd731')\"\n",
              "              title=\"Convert this dataframe to an interactive table.\"\n",
              "              style=\"display:none;\">\n",
              "        \n",
              "  <svg xmlns=\"http://www.w3.org/2000/svg\" height=\"24px\"viewBox=\"0 0 24 24\"\n",
              "       width=\"24px\">\n",
              "    <path d=\"M0 0h24v24H0V0z\" fill=\"none\"/>\n",
              "    <path d=\"M18.56 5.44l.94 2.06.94-2.06 2.06-.94-2.06-.94-.94-2.06-.94 2.06-2.06.94zm-11 1L8.5 8.5l.94-2.06 2.06-.94-2.06-.94L8.5 2.5l-.94 2.06-2.06.94zm10 10l.94 2.06.94-2.06 2.06-.94-2.06-.94-.94-2.06-.94 2.06-2.06.94z\"/><path d=\"M17.41 7.96l-1.37-1.37c-.4-.4-.92-.59-1.43-.59-.52 0-1.04.2-1.43.59L10.3 9.45l-7.72 7.72c-.78.78-.78 2.05 0 2.83L4 21.41c.39.39.9.59 1.41.59.51 0 1.02-.2 1.41-.59l7.78-7.78 2.81-2.81c.8-.78.8-2.07 0-2.86zM5.41 20L4 18.59l7.72-7.72 1.47 1.35L5.41 20z\"/>\n",
              "  </svg>\n",
              "      </button>\n",
              "      \n",
              "  <style>\n",
              "    .colab-df-container {\n",
              "      display:flex;\n",
              "      flex-wrap:wrap;\n",
              "      gap: 12px;\n",
              "    }\n",
              "\n",
              "    .colab-df-convert {\n",
              "      background-color: #E8F0FE;\n",
              "      border: none;\n",
              "      border-radius: 50%;\n",
              "      cursor: pointer;\n",
              "      display: none;\n",
              "      fill: #1967D2;\n",
              "      height: 32px;\n",
              "      padding: 0 0 0 0;\n",
              "      width: 32px;\n",
              "    }\n",
              "\n",
              "    .colab-df-convert:hover {\n",
              "      background-color: #E2EBFA;\n",
              "      box-shadow: 0px 1px 2px rgba(60, 64, 67, 0.3), 0px 1px 3px 1px rgba(60, 64, 67, 0.15);\n",
              "      fill: #174EA6;\n",
              "    }\n",
              "\n",
              "    [theme=dark] .colab-df-convert {\n",
              "      background-color: #3B4455;\n",
              "      fill: #D2E3FC;\n",
              "    }\n",
              "\n",
              "    [theme=dark] .colab-df-convert:hover {\n",
              "      background-color: #434B5C;\n",
              "      box-shadow: 0px 1px 3px 1px rgba(0, 0, 0, 0.15);\n",
              "      filter: drop-shadow(0px 1px 2px rgba(0, 0, 0, 0.3));\n",
              "      fill: #FFFFFF;\n",
              "    }\n",
              "  </style>\n",
              "\n",
              "      <script>\n",
              "        const buttonEl =\n",
              "          document.querySelector('#df-3b342bf7-35a8-4830-8fda-3d36f2fcd731 button.colab-df-convert');\n",
              "        buttonEl.style.display =\n",
              "          google.colab.kernel.accessAllowed ? 'block' : 'none';\n",
              "\n",
              "        async function convertToInteractive(key) {\n",
              "          const element = document.querySelector('#df-3b342bf7-35a8-4830-8fda-3d36f2fcd731');\n",
              "          const dataTable =\n",
              "            await google.colab.kernel.invokeFunction('convertToInteractive',\n",
              "                                                     [key], {});\n",
              "          if (!dataTable) return;\n",
              "\n",
              "          const docLinkHtml = 'Like what you see? Visit the ' +\n",
              "            '<a target=\"_blank\" href=https://colab.research.google.com/notebooks/data_table.ipynb>data table notebook</a>'\n",
              "            + ' to learn more about interactive tables.';\n",
              "          element.innerHTML = '';\n",
              "          dataTable['output_type'] = 'display_data';\n",
              "          await google.colab.output.renderOutput(dataTable, element);\n",
              "          const docLink = document.createElement('div');\n",
              "          docLink.innerHTML = docLinkHtml;\n",
              "          element.appendChild(docLink);\n",
              "        }\n",
              "      </script>\n",
              "    </div>\n",
              "  </div>\n",
              "  "
            ]
          },
          "metadata": {},
          "execution_count": 27
        }
      ]
    },
    {
      "cell_type": "code",
      "source": [
        "df_outlier_removed=remove_outlier_IQR(raw['distance_from_last_transaction'])\n",
        "df_outlier_removed=pd.DataFrame(df_outlier_removed)\n",
        "ind_diff=raw.index.difference(df_outlier_removed.index)\n",
        "\n",
        "\n",
        "    \n"
      ],
      "metadata": {
        "id": "F3k0ciU3b01L"
      },
      "execution_count": null,
      "outputs": []
    },
    {
      "cell_type": "code",
      "source": [
        "raw = raw.drop(ind_diff)"
      ],
      "metadata": {
        "id": "7MGrau-ob5MJ"
      },
      "execution_count": null,
      "outputs": []
    },
    {
      "cell_type": "code",
      "source": [
        ""
      ],
      "metadata": {
        "id": "xidw_LQPcR_L"
      },
      "execution_count": null,
      "outputs": []
    },
    {
      "cell_type": "code",
      "source": [
        "raw.describe()"
      ],
      "metadata": {
        "id": "JsvoNonRb91M",
        "colab": {
          "base_uri": "https://localhost:8080/",
          "height": 300
        },
        "outputId": "c56b39a9-d2d3-462d-f2dc-fa37baa423f8"
      },
      "execution_count": null,
      "outputs": [
        {
          "output_type": "execute_result",
          "data": {
            "text/plain": [
              "       distance_from_home  distance_from_last_transaction  \\\n",
              "count       158608.000000                   158608.000000   \n",
              "mean            13.171288                        1.483986   \n",
              "std             13.145593                        1.756696   \n",
              "min              0.021322                        0.000419   \n",
              "25%              3.425771                        0.246367   \n",
              "50%              8.255295                        0.751733   \n",
              "75%             18.624982                        2.053955   \n",
              "max             58.560284                        7.914330   \n",
              "\n",
              "       ratio_to_median_purchase_price          fraud  \n",
              "count                   158608.000000  158608.000000  \n",
              "mean                         1.813637       0.062021  \n",
              "std                          2.856434       0.241194  \n",
              "min                          0.005741       0.000000  \n",
              "25%                          0.474209       0.000000  \n",
              "50%                          0.993686       0.000000  \n",
              "75%                          2.096004       0.000000  \n",
              "max                        266.689692       1.000000  "
            ],
            "text/html": [
              "\n",
              "  <div id=\"df-abb6ec13-4747-44d8-a600-617974309bfc\">\n",
              "    <div class=\"colab-df-container\">\n",
              "      <div>\n",
              "<style scoped>\n",
              "    .dataframe tbody tr th:only-of-type {\n",
              "        vertical-align: middle;\n",
              "    }\n",
              "\n",
              "    .dataframe tbody tr th {\n",
              "        vertical-align: top;\n",
              "    }\n",
              "\n",
              "    .dataframe thead th {\n",
              "        text-align: right;\n",
              "    }\n",
              "</style>\n",
              "<table border=\"1\" class=\"dataframe\">\n",
              "  <thead>\n",
              "    <tr style=\"text-align: right;\">\n",
              "      <th></th>\n",
              "      <th>distance_from_home</th>\n",
              "      <th>distance_from_last_transaction</th>\n",
              "      <th>ratio_to_median_purchase_price</th>\n",
              "      <th>fraud</th>\n",
              "    </tr>\n",
              "  </thead>\n",
              "  <tbody>\n",
              "    <tr>\n",
              "      <th>count</th>\n",
              "      <td>158608.000000</td>\n",
              "      <td>158608.000000</td>\n",
              "      <td>158608.000000</td>\n",
              "      <td>158608.000000</td>\n",
              "    </tr>\n",
              "    <tr>\n",
              "      <th>mean</th>\n",
              "      <td>13.171288</td>\n",
              "      <td>1.483986</td>\n",
              "      <td>1.813637</td>\n",
              "      <td>0.062021</td>\n",
              "    </tr>\n",
              "    <tr>\n",
              "      <th>std</th>\n",
              "      <td>13.145593</td>\n",
              "      <td>1.756696</td>\n",
              "      <td>2.856434</td>\n",
              "      <td>0.241194</td>\n",
              "    </tr>\n",
              "    <tr>\n",
              "      <th>min</th>\n",
              "      <td>0.021322</td>\n",
              "      <td>0.000419</td>\n",
              "      <td>0.005741</td>\n",
              "      <td>0.000000</td>\n",
              "    </tr>\n",
              "    <tr>\n",
              "      <th>25%</th>\n",
              "      <td>3.425771</td>\n",
              "      <td>0.246367</td>\n",
              "      <td>0.474209</td>\n",
              "      <td>0.000000</td>\n",
              "    </tr>\n",
              "    <tr>\n",
              "      <th>50%</th>\n",
              "      <td>8.255295</td>\n",
              "      <td>0.751733</td>\n",
              "      <td>0.993686</td>\n",
              "      <td>0.000000</td>\n",
              "    </tr>\n",
              "    <tr>\n",
              "      <th>75%</th>\n",
              "      <td>18.624982</td>\n",
              "      <td>2.053955</td>\n",
              "      <td>2.096004</td>\n",
              "      <td>0.000000</td>\n",
              "    </tr>\n",
              "    <tr>\n",
              "      <th>max</th>\n",
              "      <td>58.560284</td>\n",
              "      <td>7.914330</td>\n",
              "      <td>266.689692</td>\n",
              "      <td>1.000000</td>\n",
              "    </tr>\n",
              "  </tbody>\n",
              "</table>\n",
              "</div>\n",
              "      <button class=\"colab-df-convert\" onclick=\"convertToInteractive('df-abb6ec13-4747-44d8-a600-617974309bfc')\"\n",
              "              title=\"Convert this dataframe to an interactive table.\"\n",
              "              style=\"display:none;\">\n",
              "        \n",
              "  <svg xmlns=\"http://www.w3.org/2000/svg\" height=\"24px\"viewBox=\"0 0 24 24\"\n",
              "       width=\"24px\">\n",
              "    <path d=\"M0 0h24v24H0V0z\" fill=\"none\"/>\n",
              "    <path d=\"M18.56 5.44l.94 2.06.94-2.06 2.06-.94-2.06-.94-.94-2.06-.94 2.06-2.06.94zm-11 1L8.5 8.5l.94-2.06 2.06-.94-2.06-.94L8.5 2.5l-.94 2.06-2.06.94zm10 10l.94 2.06.94-2.06 2.06-.94-2.06-.94-.94-2.06-.94 2.06-2.06.94z\"/><path d=\"M17.41 7.96l-1.37-1.37c-.4-.4-.92-.59-1.43-.59-.52 0-1.04.2-1.43.59L10.3 9.45l-7.72 7.72c-.78.78-.78 2.05 0 2.83L4 21.41c.39.39.9.59 1.41.59.51 0 1.02-.2 1.41-.59l7.78-7.78 2.81-2.81c.8-.78.8-2.07 0-2.86zM5.41 20L4 18.59l7.72-7.72 1.47 1.35L5.41 20z\"/>\n",
              "  </svg>\n",
              "      </button>\n",
              "      \n",
              "  <style>\n",
              "    .colab-df-container {\n",
              "      display:flex;\n",
              "      flex-wrap:wrap;\n",
              "      gap: 12px;\n",
              "    }\n",
              "\n",
              "    .colab-df-convert {\n",
              "      background-color: #E8F0FE;\n",
              "      border: none;\n",
              "      border-radius: 50%;\n",
              "      cursor: pointer;\n",
              "      display: none;\n",
              "      fill: #1967D2;\n",
              "      height: 32px;\n",
              "      padding: 0 0 0 0;\n",
              "      width: 32px;\n",
              "    }\n",
              "\n",
              "    .colab-df-convert:hover {\n",
              "      background-color: #E2EBFA;\n",
              "      box-shadow: 0px 1px 2px rgba(60, 64, 67, 0.3), 0px 1px 3px 1px rgba(60, 64, 67, 0.15);\n",
              "      fill: #174EA6;\n",
              "    }\n",
              "\n",
              "    [theme=dark] .colab-df-convert {\n",
              "      background-color: #3B4455;\n",
              "      fill: #D2E3FC;\n",
              "    }\n",
              "\n",
              "    [theme=dark] .colab-df-convert:hover {\n",
              "      background-color: #434B5C;\n",
              "      box-shadow: 0px 1px 3px 1px rgba(0, 0, 0, 0.15);\n",
              "      filter: drop-shadow(0px 1px 2px rgba(0, 0, 0, 0.3));\n",
              "      fill: #FFFFFF;\n",
              "    }\n",
              "  </style>\n",
              "\n",
              "      <script>\n",
              "        const buttonEl =\n",
              "          document.querySelector('#df-abb6ec13-4747-44d8-a600-617974309bfc button.colab-df-convert');\n",
              "        buttonEl.style.display =\n",
              "          google.colab.kernel.accessAllowed ? 'block' : 'none';\n",
              "\n",
              "        async function convertToInteractive(key) {\n",
              "          const element = document.querySelector('#df-abb6ec13-4747-44d8-a600-617974309bfc');\n",
              "          const dataTable =\n",
              "            await google.colab.kernel.invokeFunction('convertToInteractive',\n",
              "                                                     [key], {});\n",
              "          if (!dataTable) return;\n",
              "\n",
              "          const docLinkHtml = 'Like what you see? Visit the ' +\n",
              "            '<a target=\"_blank\" href=https://colab.research.google.com/notebooks/data_table.ipynb>data table notebook</a>'\n",
              "            + ' to learn more about interactive tables.';\n",
              "          element.innerHTML = '';\n",
              "          dataTable['output_type'] = 'display_data';\n",
              "          await google.colab.output.renderOutput(dataTable, element);\n",
              "          const docLink = document.createElement('div');\n",
              "          docLink.innerHTML = docLinkHtml;\n",
              "          element.appendChild(docLink);\n",
              "        }\n",
              "      </script>\n",
              "    </div>\n",
              "  </div>\n",
              "  "
            ]
          },
          "metadata": {},
          "execution_count": 30
        }
      ]
    },
    {
      "cell_type": "code",
      "source": [
        "df_outlier_removed=remove_outlier_IQR(raw['ratio_to_median_purchase_price'])\n",
        "df_outlier_removed=pd.DataFrame(df_outlier_removed)\n",
        "ind_diff=raw.index.difference(df_outlier_removed.index)\n",
        "\n",
        "\n",
        "    \n"
      ],
      "metadata": {
        "id": "JE-FWmLEwmRo"
      },
      "execution_count": null,
      "outputs": []
    },
    {
      "cell_type": "code",
      "source": [
        "raw = raw.drop(ind_diff)"
      ],
      "metadata": {
        "id": "BTZMt13DcTNU"
      },
      "execution_count": null,
      "outputs": []
    },
    {
      "cell_type": "code",
      "source": [
        "raw.describe()"
      ],
      "metadata": {
        "id": "0knLNch1cvbT",
        "colab": {
          "base_uri": "https://localhost:8080/",
          "height": 300
        },
        "outputId": "f0438ca1-469e-404e-b175-35f9095b3a18"
      },
      "execution_count": null,
      "outputs": [
        {
          "output_type": "execute_result",
          "data": {
            "text/plain": [
              "       distance_from_home  distance_from_last_transaction  \\\n",
              "count       145435.000000                   145435.000000   \n",
              "mean            13.178429                        1.484345   \n",
              "std             13.160651                        1.756415   \n",
              "min              0.021322                        0.000419   \n",
              "25%              3.427993                        0.246219   \n",
              "50%              8.254337                        0.751355   \n",
              "75%             18.621085                        2.056473   \n",
              "max             58.560284                        7.914330   \n",
              "\n",
              "       ratio_to_median_purchase_price         fraud  \n",
              "count                   145435.000000  145435.00000  \n",
              "mean                         1.214813       0.01237  \n",
              "std                          1.015428       0.11053  \n",
              "min                          0.005741       0.00000  \n",
              "25%                          0.442212       0.00000  \n",
              "50%                          0.888568       0.00000  \n",
              "75%                          1.705725       0.00000  \n",
              "max                          4.528352       1.00000  "
            ],
            "text/html": [
              "\n",
              "  <div id=\"df-fba15e64-7d3a-4e28-be8a-9963b9fa1f3b\">\n",
              "    <div class=\"colab-df-container\">\n",
              "      <div>\n",
              "<style scoped>\n",
              "    .dataframe tbody tr th:only-of-type {\n",
              "        vertical-align: middle;\n",
              "    }\n",
              "\n",
              "    .dataframe tbody tr th {\n",
              "        vertical-align: top;\n",
              "    }\n",
              "\n",
              "    .dataframe thead th {\n",
              "        text-align: right;\n",
              "    }\n",
              "</style>\n",
              "<table border=\"1\" class=\"dataframe\">\n",
              "  <thead>\n",
              "    <tr style=\"text-align: right;\">\n",
              "      <th></th>\n",
              "      <th>distance_from_home</th>\n",
              "      <th>distance_from_last_transaction</th>\n",
              "      <th>ratio_to_median_purchase_price</th>\n",
              "      <th>fraud</th>\n",
              "    </tr>\n",
              "  </thead>\n",
              "  <tbody>\n",
              "    <tr>\n",
              "      <th>count</th>\n",
              "      <td>145435.000000</td>\n",
              "      <td>145435.000000</td>\n",
              "      <td>145435.000000</td>\n",
              "      <td>145435.00000</td>\n",
              "    </tr>\n",
              "    <tr>\n",
              "      <th>mean</th>\n",
              "      <td>13.178429</td>\n",
              "      <td>1.484345</td>\n",
              "      <td>1.214813</td>\n",
              "      <td>0.01237</td>\n",
              "    </tr>\n",
              "    <tr>\n",
              "      <th>std</th>\n",
              "      <td>13.160651</td>\n",
              "      <td>1.756415</td>\n",
              "      <td>1.015428</td>\n",
              "      <td>0.11053</td>\n",
              "    </tr>\n",
              "    <tr>\n",
              "      <th>min</th>\n",
              "      <td>0.021322</td>\n",
              "      <td>0.000419</td>\n",
              "      <td>0.005741</td>\n",
              "      <td>0.00000</td>\n",
              "    </tr>\n",
              "    <tr>\n",
              "      <th>25%</th>\n",
              "      <td>3.427993</td>\n",
              "      <td>0.246219</td>\n",
              "      <td>0.442212</td>\n",
              "      <td>0.00000</td>\n",
              "    </tr>\n",
              "    <tr>\n",
              "      <th>50%</th>\n",
              "      <td>8.254337</td>\n",
              "      <td>0.751355</td>\n",
              "      <td>0.888568</td>\n",
              "      <td>0.00000</td>\n",
              "    </tr>\n",
              "    <tr>\n",
              "      <th>75%</th>\n",
              "      <td>18.621085</td>\n",
              "      <td>2.056473</td>\n",
              "      <td>1.705725</td>\n",
              "      <td>0.00000</td>\n",
              "    </tr>\n",
              "    <tr>\n",
              "      <th>max</th>\n",
              "      <td>58.560284</td>\n",
              "      <td>7.914330</td>\n",
              "      <td>4.528352</td>\n",
              "      <td>1.00000</td>\n",
              "    </tr>\n",
              "  </tbody>\n",
              "</table>\n",
              "</div>\n",
              "      <button class=\"colab-df-convert\" onclick=\"convertToInteractive('df-fba15e64-7d3a-4e28-be8a-9963b9fa1f3b')\"\n",
              "              title=\"Convert this dataframe to an interactive table.\"\n",
              "              style=\"display:none;\">\n",
              "        \n",
              "  <svg xmlns=\"http://www.w3.org/2000/svg\" height=\"24px\"viewBox=\"0 0 24 24\"\n",
              "       width=\"24px\">\n",
              "    <path d=\"M0 0h24v24H0V0z\" fill=\"none\"/>\n",
              "    <path d=\"M18.56 5.44l.94 2.06.94-2.06 2.06-.94-2.06-.94-.94-2.06-.94 2.06-2.06.94zm-11 1L8.5 8.5l.94-2.06 2.06-.94-2.06-.94L8.5 2.5l-.94 2.06-2.06.94zm10 10l.94 2.06.94-2.06 2.06-.94-2.06-.94-.94-2.06-.94 2.06-2.06.94z\"/><path d=\"M17.41 7.96l-1.37-1.37c-.4-.4-.92-.59-1.43-.59-.52 0-1.04.2-1.43.59L10.3 9.45l-7.72 7.72c-.78.78-.78 2.05 0 2.83L4 21.41c.39.39.9.59 1.41.59.51 0 1.02-.2 1.41-.59l7.78-7.78 2.81-2.81c.8-.78.8-2.07 0-2.86zM5.41 20L4 18.59l7.72-7.72 1.47 1.35L5.41 20z\"/>\n",
              "  </svg>\n",
              "      </button>\n",
              "      \n",
              "  <style>\n",
              "    .colab-df-container {\n",
              "      display:flex;\n",
              "      flex-wrap:wrap;\n",
              "      gap: 12px;\n",
              "    }\n",
              "\n",
              "    .colab-df-convert {\n",
              "      background-color: #E8F0FE;\n",
              "      border: none;\n",
              "      border-radius: 50%;\n",
              "      cursor: pointer;\n",
              "      display: none;\n",
              "      fill: #1967D2;\n",
              "      height: 32px;\n",
              "      padding: 0 0 0 0;\n",
              "      width: 32px;\n",
              "    }\n",
              "\n",
              "    .colab-df-convert:hover {\n",
              "      background-color: #E2EBFA;\n",
              "      box-shadow: 0px 1px 2px rgba(60, 64, 67, 0.3), 0px 1px 3px 1px rgba(60, 64, 67, 0.15);\n",
              "      fill: #174EA6;\n",
              "    }\n",
              "\n",
              "    [theme=dark] .colab-df-convert {\n",
              "      background-color: #3B4455;\n",
              "      fill: #D2E3FC;\n",
              "    }\n",
              "\n",
              "    [theme=dark] .colab-df-convert:hover {\n",
              "      background-color: #434B5C;\n",
              "      box-shadow: 0px 1px 3px 1px rgba(0, 0, 0, 0.15);\n",
              "      filter: drop-shadow(0px 1px 2px rgba(0, 0, 0, 0.3));\n",
              "      fill: #FFFFFF;\n",
              "    }\n",
              "  </style>\n",
              "\n",
              "      <script>\n",
              "        const buttonEl =\n",
              "          document.querySelector('#df-fba15e64-7d3a-4e28-be8a-9963b9fa1f3b button.colab-df-convert');\n",
              "        buttonEl.style.display =\n",
              "          google.colab.kernel.accessAllowed ? 'block' : 'none';\n",
              "\n",
              "        async function convertToInteractive(key) {\n",
              "          const element = document.querySelector('#df-fba15e64-7d3a-4e28-be8a-9963b9fa1f3b');\n",
              "          const dataTable =\n",
              "            await google.colab.kernel.invokeFunction('convertToInteractive',\n",
              "                                                     [key], {});\n",
              "          if (!dataTable) return;\n",
              "\n",
              "          const docLinkHtml = 'Like what you see? Visit the ' +\n",
              "            '<a target=\"_blank\" href=https://colab.research.google.com/notebooks/data_table.ipynb>data table notebook</a>'\n",
              "            + ' to learn more about interactive tables.';\n",
              "          element.innerHTML = '';\n",
              "          dataTable['output_type'] = 'display_data';\n",
              "          await google.colab.output.renderOutput(dataTable, element);\n",
              "          const docLink = document.createElement('div');\n",
              "          docLink.innerHTML = docLinkHtml;\n",
              "          element.appendChild(docLink);\n",
              "        }\n",
              "      </script>\n",
              "    </div>\n",
              "  </div>\n",
              "  "
            ]
          },
          "metadata": {},
          "execution_count": 33
        }
      ]
    },
    {
      "cell_type": "code",
      "source": [
        "for x_col in num_var:\n",
        "    if x_col == \"fraud\":\n",
        "      continue\n",
        "    plt.figure(figsize = (10,7))\n",
        "    sns.boxplot(x = \"fraud\", y=x_col, data = raw, palette= 'GnBu_d')\n",
        "    plt.show()"
      ],
      "metadata": {
        "id": "aaL6zAbzc1LQ",
        "colab": {
          "base_uri": "https://localhost:8080/",
          "height": 1000
        },
        "outputId": "7e506402-caae-4465-bf9c-d8b32c8c4cd1"
      },
      "execution_count": null,
      "outputs": [
        {
          "output_type": "display_data",
          "data": {
            "text/plain": [
              "<Figure size 720x504 with 1 Axes>"
            ],
            "image/png": "[encoded data removed]"
          },
          "metadata": {
            "needs_background": "light"
          }
        },
        {
          "output_type": "display_data",
          "data": {
            "text/plain": [
              "<Figure size 720x504 with 1 Axes>"
            ],
            "image/png": "[encoded data removed]"
          },
          "metadata": {
            "needs_background": "light"
          }
        },
        {
          "output_type": "display_data",
          "data": {
            "text/plain": [
              "<Figure size 720x504 with 1 Axes>"
            ],
            "image/png": "[encoded data removed]"
          },
          "metadata": {
            "needs_background": "light"
          }
        }
      ]
    },
    {
      "cell_type": "code",
      "source": [
        "#check distribution for categorical variables\n",
        "for var in cat_var:\n",
        "  sns.set(rc={'figure.figsize':(11.7,8.27)})\n",
        "  plot_fe = sns.countplot(x = var, data = raw)\n",
        "  for p in plot_fe.patches:\n",
        "    height = p.get_height() # get the height of each bar\n",
        "    # adding text to each bar\n",
        "    plot_fe.text(x = p.get_x()+(p.get_width()/2), # x-coordinate position of data label, padded to be in the middle of the bar\n",
        "    y = height+5, # y-coordinate position of data label, padded 0.2 above bar\n",
        "    s = '{:.0f}'.format(height), # data label, formatted to ignore decimals\n",
        "    ha = 'center') # sets horizontal alignment (ha) to center\n",
        "  plt.show()\n"
      ],
      "metadata": {
        "colab": {
          "base_uri": "https://localhost:8080/",
          "height": 1000
        },
        "id": "kCX3cbAGjz5L",
        "outputId": "8ccb81ea-ec40-4ce0-e6a8-826b1012c6fe"
      },
      "execution_count": null,
      "outputs": [
        {
          "output_type": "display_data",
          "data": {
            "text/plain": [
              "<Figure size 842.4x595.44 with 1 Axes>"
            ],
            "image/png": "[encoded data removed]"
          },
          "metadata": {}
        },
        {
          "output_type": "display_data",
          "data": {
            "text/plain": [
              "<Figure size 842.4x595.44 with 1 Axes>"
            ],
            "image/png": "[encoded data removed]"
          },
          "metadata": {}
        },
        {
          "output_type": "display_data",
          "data": {
            "text/plain": [
              "<Figure size 842.4x595.44 with 1 Axes>"
            ],
            "image/png": "[encoded data removed]"
          },
          "metadata": {}
        },
        {
          "output_type": "display_data",
          "data": {
            "text/plain": [
              "<Figure size 842.4x595.44 with 1 Axes>"
            ],
            "image/png": "[encoded data removed]"
          },
          "metadata": {}
        }
      ]
    },
    {
      "cell_type": "markdown",
      "source": [
        "## check linearity of data"
      ],
      "metadata": {
        "id": "7EpvdirOc9Hp"
      }
    },
    {
      "cell_type": "markdown",
      "source": [
        "ref: https://towardsdatascience.com/assumptions-of-logistic-regression-clearly-explained-44d85a22b290"
      ],
      "metadata": {
        "id": "f9Z63cRWowqu"
      }
    },
    {
      "cell_type": "code",
      "source": [
        "check_lin = raw.copy()"
      ],
      "metadata": {
        "id": "A-lD2XOcg_z0"
      },
      "execution_count": null,
      "outputs": []
    },
    {
      "cell_type": "code",
      "source": [
        "continuous_var = check_lin.drop(columns=[\"fraud\"]).select_dtypes(include = 'number').columns"
      ],
      "metadata": {
        "id": "IXDg-DRcb0w3"
      },
      "execution_count": null,
      "outputs": []
    },
    {
      "cell_type": "code",
      "source": [
        "continuous_var"
      ],
      "metadata": {
        "colab": {
          "base_uri": "https://localhost:8080/"
        },
        "id": "TMkL3phVgdXo",
        "outputId": "d6e3db50-832d-468e-deb0-c3ee38ef8500"
      },
      "execution_count": null,
      "outputs": [
        {
          "output_type": "execute_result",
          "data": {
            "text/plain": [
              "Index(['distance_from_home', 'distance_from_last_transaction',\n",
              "       'ratio_to_median_purchase_price'],\n",
              "      dtype='object')"
            ]
          },
          "metadata": {},
          "execution_count": 38
        }
      ]
    },
    {
      "cell_type": "code",
      "source": [
        "log_con = []"
      ],
      "metadata": {
        "id": "M5KKXJOaiqP-"
      },
      "execution_count": null,
      "outputs": []
    },
    {
      "cell_type": "code",
      "source": [
        "# Add logit transform interaction terms (natural log) for continuous variables e.g.. Age * Log(Age)\n",
        "for var in continuous_var:\n",
        "    #check_lin[var] = np.square(check_lin[var])\n",
        "    new_col = 'log_'+str(var)\n",
        "    check_lin[new_col] = check_lin[var].apply(lambda x: x * np.log(x))\n",
        "    log_con.append(new_col)\n",
        "\n",
        "# Keep columns related to continuous variables\n",
        "continuous_var = list(continuous_var)\n",
        "\n"
      ],
      "metadata": {
        "id": "VSo_F1U3go2C"
      },
      "execution_count": null,
      "outputs": []
    },
    {
      "cell_type": "code",
      "source": [
        ""
      ],
      "metadata": {
        "id": "ddwtM0HeoUg0"
      },
      "execution_count": null,
      "outputs": []
    },
    {
      "cell_type": "code",
      "source": [
        "for var in log_con:\n",
        "  continuous_var.append(str(var))"
      ],
      "metadata": {
        "id": "xll55Lekkdrv"
      },
      "execution_count": null,
      "outputs": []
    },
    {
      "cell_type": "code",
      "source": [
        "# Redefining variables to include interaction terms\n",
        "X_lt = check_lin[continuous_var]"
      ],
      "metadata": {
        "id": "6kpA4vNXgzo1"
      },
      "execution_count": null,
      "outputs": []
    },
    {
      "cell_type": "code",
      "source": [
        "import statsmodels.api as sm"
      ],
      "metadata": {
        "id": "mjoOQ4bAgqHc"
      },
      "execution_count": null,
      "outputs": []
    },
    {
      "cell_type": "code",
      "source": [
        "\n",
        "\n",
        "\n",
        "# Add constant term\n",
        "X_lt_constant = sm.add_constant(X_lt, prepend=False)\n",
        "  \n",
        "# Building model and fit the data (using statsmodel's Logit)\n",
        "logit_results = sm.GLM(check_lin[\"fraud\"], X_lt_constant, family=sm.families.Binomial()).fit()\n",
        "\n",
        "# Display summary results\n",
        "print(logit_results.summary())"
      ],
      "metadata": {
        "id": "p9F_Z0oQbbvz",
        "colab": {
          "base_uri": "https://localhost:8080/"
        },
        "outputId": "b018195d-a93f-4198-d733-4ac5c6fe7a08"
      },
      "execution_count": null,
      "outputs": [
        {
          "output_type": "stream",
          "name": "stderr",
          "text": [
            "/usr/local/lib/python3.7/dist-packages/statsmodels/tsa/tsatools.py:117: FutureWarning: In a future version of pandas all arguments of concat except for the argument 'objs' will be keyword-only\n",
            "  x = pd.concat(x[::order], 1)\n",
            "/usr/local/lib/python3.7/dist-packages/statsmodels/genmod/families/links.py:190: RuntimeWarning: overflow encountered in exp\n",
            "  t = np.exp(-z)\n",
            "/usr/local/lib/python3.7/dist-packages/statsmodels/genmod/families/family.py:889: RuntimeWarning: invalid value encountered in true_divide\n",
            "  endog_mu = self._clean(endog / mu)\n",
            "/usr/local/lib/python3.7/dist-packages/statsmodels/genmod/families/family.py:942: RuntimeWarning: divide by zero encountered in log\n",
            "  special.gammaln(n - y + 1) + y * np.log(mu / (1 - mu)) +\n",
            "/usr/local/lib/python3.7/dist-packages/statsmodels/genmod/families/family.py:942: RuntimeWarning: invalid value encountered in multiply\n",
            "  special.gammaln(n - y + 1) + y * np.log(mu / (1 - mu)) +\n"
          ]
        },
        {
          "output_type": "stream",
          "name": "stdout",
          "text": [
            "                 Generalized Linear Model Regression Results                  \n",
            "==============================================================================\n",
            "Dep. Variable:                  fraud   No. Observations:               145435\n",
            "Model:                            GLM   Df Residuals:                   145428\n",
            "Model Family:                Binomial   Df Model:                            6\n",
            "Link Function:                  logit   Scale:                          1.0000\n",
            "Method:                          IRLS   Log-Likelihood:                    nan\n",
            "Date:                Sun, 12 Jun 2022   Deviance:                          nan\n",
            "Time:                        10:48:01   Pearson chi2:                 3.54e+03\n",
            "No. Iterations:                   100                                         \n",
            "Covariance Type:            nonrobust                                         \n",
            "======================================================================================================\n",
            "                                         coef    std err          z      P>|z|      [0.025      0.975]\n",
            "------------------------------------------------------------------------------------------------------\n",
            "distance_from_home                    -0.1249      0.027     -4.698      0.000      -0.177      -0.073\n",
            "distance_from_last_transaction        -0.0253      0.087     -0.290      0.771      -0.196       0.145\n",
            "ratio_to_median_purchase_price       528.6172     25.094     21.066      0.000     479.434     577.800\n",
            "log_distance_from_home                 0.0296      0.007      4.380      0.000       0.016       0.043\n",
            "log_distance_from_last_transaction     0.0052      0.046      0.113      0.910      -0.085       0.095\n",
            "log_ratio_to_median_purchase_price  -215.0406     10.285    -20.909      0.000    -235.198    -194.883\n",
            "const                               -922.8765     43.368    -21.280      0.000   -1007.875    -837.878\n",
            "======================================================================================================\n"
          ]
        }
      ]
    },
    {
      "cell_type": "markdown",
      "source": [
        "# Modelling"
      ],
      "metadata": {
        "id": "8sg59Ht3rWin"
      }
    },
    {
      "cell_type": "markdown",
      "source": [
        "interpretation: because the log variable for each continous variabel is significant, it means this data is not linear. so we will use non-linear classifier model"
      ],
      "metadata": {
        "id": "1UeviqMZqAM7"
      }
    },
    {
      "cell_type": "code",
      "source": [
        "for col in ['repeat_retailer', 'used_chip',\n",
        "       'used_pin_number', 'online_order']:\n",
        "  test[col] = test[col].astype(int)\n",
        "  raw[col] = raw[col].astype(int)\n",
        "\n",
        "\n",
        "\n",
        "y_test_churn = test[\"fraud\"]\n",
        "y_train_churn = raw[\"fraud\"]\n",
        "X_train_churn_scl = raw.drop(columns = [\"fraud\"])\n",
        "X_test_churn_scl = test.drop(columns = [\"fraud\"])\n"
      ],
      "metadata": {
        "id": "MRr76cKF9S6O"
      },
      "execution_count": null,
      "outputs": []
    },
    {
      "cell_type": "markdown",
      "metadata": {
        "id": "AgsPuVhqixzL"
      },
      "source": [
        "## KNN classifier"
      ]
    },
    {
      "cell_type": "code",
      "execution_count": null,
      "metadata": {
        "id": "iCYC15G3i0D2"
      },
      "outputs": [],
      "source": [
        "from sklearn.neighbors import KNeighborsClassifier\n"
      ]
    },
    {
      "cell_type": "code",
      "execution_count": null,
      "metadata": {
        "id": "FaeooIr_i_i2",
        "colab": {
          "base_uri": "https://localhost:8080/"
        },
        "outputId": "1d3706ed-e1f8-4d93-96a7-0832340a84a9"
      },
      "outputs": [
        {
          "output_type": "stream",
          "name": "stdout",
          "text": [
            "Fitting 10 folds for each of 8 candidates, totalling 80 fits\n"
          ]
        }
      ],
      "source": [
        "knn = KNeighborsClassifier(weights = 'distance')\n",
        "k_range = [2,3,4,5]\n",
        "param_grid = dict(n_neighbors=k_range, p=[1,2])\n",
        "  \n",
        "# defining parameter range\n",
        "grid = GridSearchCV(knn, param_grid, cv=10, scoring='f1', return_train_score=False,verbose=1)\n",
        "  \n",
        "# fitting the model for grid search\n",
        "grid_search=grid.fit(X_train_churn_scl, y_train_churn)\n"
      ]
    },
    {
      "cell_type": "code",
      "source": [
        "print('Best Score: %s' % grid_search.best_score_)\n",
        "print('Best Hyperparameters: %s' % grid_search.best_params_)"
      ],
      "metadata": {
        "colab": {
          "base_uri": "https://localhost:8080/"
        },
        "id": "MBRxGe6Vga3f",
        "outputId": "dadd3f29-3c4c-4637-e85c-cbb74b7d3fe4"
      },
      "execution_count": null,
      "outputs": [
        {
          "output_type": "stream",
          "name": "stdout",
          "text": [
            "Best Score: 0.867814614290108\n",
            "Best Hyperparameters: {'n_neighbors': 3, 'p': 1}\n"
          ]
        }
      ]
    },
    {
      "cell_type": "code",
      "execution_count": null,
      "metadata": {
        "id": "dBI1QsDbjrlE",
        "colab": {
          "base_uri": "https://localhost:8080/"
        },
        "outputId": "2fd487dc-eebe-405a-e788-1740b406d2ac"
      },
      "outputs": [
        {
          "output_type": "execute_result",
          "data": {
            "text/plain": [
              "KNeighborsClassifier(n_neighbors=3, p=1)"
            ]
          },
          "metadata": {},
          "execution_count": 58
        }
      ],
      "source": [
        "best_knn = KNeighborsClassifier(n_neighbors = 3, p= 1)\n",
        "best_knn.fit(X_train_churn_scl, y_train_churn)"
      ]
    },
    {
      "cell_type": "code",
      "execution_count": null,
      "metadata": {
        "id": "KKOgRsvGj1E4"
      },
      "outputs": [],
      "source": [
        "# predict\n",
        "pred_result = best_knn.predict(X_test_churn_scl)\n",
        "pred_proba_result = best_knn.predict_proba(X_test_churn_scl)"
      ]
    },
    {
      "cell_type": "code",
      "execution_count": null,
      "metadata": {
        "id": "HnrnDGtjkphB",
        "colab": {
          "base_uri": "https://localhost:8080/",
          "height": 175
        },
        "outputId": "8d302325-c788-45d0-8cc7-cfe27a2576c1"
      },
      "outputs": [
        {
          "output_type": "execute_result",
          "data": {
            "text/plain": [
              "              not fraud        fraud  accuracy     macro avg  weighted avg\n",
              "precision      0.961591     0.954010  0.961189      0.957800      0.960932\n",
              "recall         0.997332     0.581507  0.961189      0.789419      0.961189\n",
              "f1-score       0.979135     0.722575  0.961189      0.850855      0.956835\n",
              "support    79072.000000  7527.000000  0.961189  86599.000000  86599.000000"
            ],
            "text/html": [
              "\n",
              "  <div id=\"df-6eff879e-264d-43cb-adda-2da00e993f00\">\n",
              "    <div class=\"colab-df-container\">\n",
              "      <div>\n",
              "<style scoped>\n",
              "    .dataframe tbody tr th:only-of-type {\n",
              "        vertical-align: middle;\n",
              "    }\n",
              "\n",
              "    .dataframe tbody tr th {\n",
              "        vertical-align: top;\n",
              "    }\n",
              "\n",
              "    .dataframe thead th {\n",
              "        text-align: right;\n",
              "    }\n",
              "</style>\n",
              "<table border=\"1\" class=\"dataframe\">\n",
              "  <thead>\n",
              "    <tr style=\"text-align: right;\">\n",
              "      <th></th>\n",
              "      <th>not fraud</th>\n",
              "      <th>fraud</th>\n",
              "      <th>accuracy</th>\n",
              "      <th>macro avg</th>\n",
              "      <th>weighted avg</th>\n",
              "    </tr>\n",
              "  </thead>\n",
              "  <tbody>\n",
              "    <tr>\n",
              "      <th>precision</th>\n",
              "      <td>0.961591</td>\n",
              "      <td>0.954010</td>\n",
              "      <td>0.961189</td>\n",
              "      <td>0.957800</td>\n",
              "      <td>0.960932</td>\n",
              "    </tr>\n",
              "    <tr>\n",
              "      <th>recall</th>\n",
              "      <td>0.997332</td>\n",
              "      <td>0.581507</td>\n",
              "      <td>0.961189</td>\n",
              "      <td>0.789419</td>\n",
              "      <td>0.961189</td>\n",
              "    </tr>\n",
              "    <tr>\n",
              "      <th>f1-score</th>\n",
              "      <td>0.979135</td>\n",
              "      <td>0.722575</td>\n",
              "      <td>0.961189</td>\n",
              "      <td>0.850855</td>\n",
              "      <td>0.956835</td>\n",
              "    </tr>\n",
              "    <tr>\n",
              "      <th>support</th>\n",
              "      <td>79072.000000</td>\n",
              "      <td>7527.000000</td>\n",
              "      <td>0.961189</td>\n",
              "      <td>86599.000000</td>\n",
              "      <td>86599.000000</td>\n",
              "    </tr>\n",
              "  </tbody>\n",
              "</table>\n",
              "</div>\n",
              "      <button class=\"colab-df-convert\" onclick=\"convertToInteractive('df-6eff879e-264d-43cb-adda-2da00e993f00')\"\n",
              "              title=\"Convert this dataframe to an interactive table.\"\n",
              "              style=\"display:none;\">\n",
              "        \n",
              "  <svg xmlns=\"http://www.w3.org/2000/svg\" height=\"24px\"viewBox=\"0 0 24 24\"\n",
              "       width=\"24px\">\n",
              "    <path d=\"M0 0h24v24H0V0z\" fill=\"none\"/>\n",
              "    <path d=\"M18.56 5.44l.94 2.06.94-2.06 2.06-.94-2.06-.94-.94-2.06-.94 2.06-2.06.94zm-11 1L8.5 8.5l.94-2.06 2.06-.94-2.06-.94L8.5 2.5l-.94 2.06-2.06.94zm10 10l.94 2.06.94-2.06 2.06-.94-2.06-.94-.94-2.06-.94 2.06-2.06.94z\"/><path d=\"M17.41 7.96l-1.37-1.37c-.4-.4-.92-.59-1.43-.59-.52 0-1.04.2-1.43.59L10.3 9.45l-7.72 7.72c-.78.78-.78 2.05 0 2.83L4 21.41c.39.39.9.59 1.41.59.51 0 1.02-.2 1.41-.59l7.78-7.78 2.81-2.81c.8-.78.8-2.07 0-2.86zM5.41 20L4 18.59l7.72-7.72 1.47 1.35L5.41 20z\"/>\n",
              "  </svg>\n",
              "      </button>\n",
              "      \n",
              "  <style>\n",
              "    .colab-df-container {\n",
              "      display:flex;\n",
              "      flex-wrap:wrap;\n",
              "      gap: 12px;\n",
              "    }\n",
              "\n",
              "    .colab-df-convert {\n",
              "      background-color: #E8F0FE;\n",
              "      border: none;\n",
              "      border-radius: 50%;\n",
              "      cursor: pointer;\n",
              "      display: none;\n",
              "      fill: #1967D2;\n",
              "      height: 32px;\n",
              "      padding: 0 0 0 0;\n",
              "      width: 32px;\n",
              "    }\n",
              "\n",
              "    .colab-df-convert:hover {\n",
              "      background-color: #E2EBFA;\n",
              "      box-shadow: 0px 1px 2px rgba(60, 64, 67, 0.3), 0px 1px 3px 1px rgba(60, 64, 67, 0.15);\n",
              "      fill: #174EA6;\n",
              "    }\n",
              "\n",
              "    [theme=dark] .colab-df-convert {\n",
              "      background-color: #3B4455;\n",
              "      fill: #D2E3FC;\n",
              "    }\n",
              "\n",
              "    [theme=dark] .colab-df-convert:hover {\n",
              "      background-color: #434B5C;\n",
              "      box-shadow: 0px 1px 3px 1px rgba(0, 0, 0, 0.15);\n",
              "      filter: drop-shadow(0px 1px 2px rgba(0, 0, 0, 0.3));\n",
              "      fill: #FFFFFF;\n",
              "    }\n",
              "  </style>\n",
              "\n",
              "      <script>\n",
              "        const buttonEl =\n",
              "          document.querySelector('#df-6eff879e-264d-43cb-adda-2da00e993f00 button.colab-df-convert');\n",
              "        buttonEl.style.display =\n",
              "          google.colab.kernel.accessAllowed ? 'block' : 'none';\n",
              "\n",
              "        async function convertToInteractive(key) {\n",
              "          const element = document.querySelector('#df-6eff879e-264d-43cb-adda-2da00e993f00');\n",
              "          const dataTable =\n",
              "            await google.colab.kernel.invokeFunction('convertToInteractive',\n",
              "                                                     [key], {});\n",
              "          if (!dataTable) return;\n",
              "\n",
              "          const docLinkHtml = 'Like what you see? Visit the ' +\n",
              "            '<a target=\"_blank\" href=https://colab.research.google.com/notebooks/data_table.ipynb>data table notebook</a>'\n",
              "            + ' to learn more about interactive tables.';\n",
              "          element.innerHTML = '';\n",
              "          dataTable['output_type'] = 'display_data';\n",
              "          await google.colab.output.renderOutput(dataTable, element);\n",
              "          const docLink = document.createElement('div');\n",
              "          docLink.innerHTML = docLinkHtml;\n",
              "          element.appendChild(docLink);\n",
              "        }\n",
              "      </script>\n",
              "    </div>\n",
              "  </div>\n",
              "  "
            ]
          },
          "metadata": {},
          "execution_count": 60
        }
      ],
      "source": [
        "# check classification report result\n",
        "pd.DataFrame(metrics.classification_report(y_test_churn, pred_result, target_names=['not fraud','fraud'], output_dict=True))"
      ]
    },
    {
      "cell_type": "code",
      "execution_count": null,
      "metadata": {
        "id": "Z-2aXZXKkumB",
        "colab": {
          "base_uri": "https://localhost:8080/",
          "height": 593
        },
        "outputId": "15b7e1a0-d295-46d5-8221-9d418f65b68b"
      },
      "outputs": [
        {
          "output_type": "stream",
          "name": "stderr",
          "text": [
            "/usr/local/lib/python3.7/dist-packages/sklearn/utils/deprecation.py:87: FutureWarning: Function plot_roc_curve is deprecated; This will be removed in v0.5.0. Please use scikitplot.metrics.plot_roc instead.\n",
            "  warnings.warn(msg, category=FutureWarning)\n"
          ]
        },
        {
          "output_type": "display_data",
          "data": {
            "text/plain": [
              "<Figure size 842.4x595.44 with 1 Axes>"
            ],
            "image/png": "[encoded data removed]"
          },
          "metadata": {}
        }
      ],
      "source": [
        "skplt.metrics.plot_roc_curve(y_test_churn, pred_proba_result);"
      ]
    },
    {
      "cell_type": "code",
      "execution_count": null,
      "metadata": {
        "id": "g1ys1iJ4Kuex",
        "colab": {
          "base_uri": "https://localhost:8080/"
        },
        "outputId": "0e99a7b0-c6a4-4b90-aee7-5272066f8d99"
      },
      "outputs": [
        {
          "output_type": "stream",
          "name": "stdout",
          "text": [
            "Best Threshold=0.3333333333333333, G-Mean=0.8184619317080494\n"
          ]
        }
      ],
      "source": [
        "# find fpr and tpr using roc_curve() method\n",
        "fpr, tpr, thresholds = metrics.roc_curve(y_test_churn, pred_proba_result[:,1])\n",
        "# calculate g-means\n",
        "gmeans = np.sqrt(tpr * (1-fpr))\n",
        "# find the best threshold\n",
        "ix = np.argmax(gmeans)\n",
        "print('Best Threshold={}, G-Mean={}'.format(thresholds[ix], gmeans[ix]))\n",
        "# calculate g-means\n",
        "gmeans = np.sqrt(tpr * (1-fpr))\n",
        "# find the best threshold\n",
        "ix = np.argmax(gmeans)\n"
      ]
    },
    {
      "cell_type": "code",
      "execution_count": null,
      "metadata": {
        "id": "QKxO4X6uKwR7",
        "colab": {
          "base_uri": "https://localhost:8080/",
          "height": 175
        },
        "outputId": "3d3c5509-cc45-4934-88c0-96365ed54b6a"
      },
      "outputs": [
        {
          "output_type": "execute_result",
          "data": {
            "text/plain": [
              "              not fraud        fraud  accuracy     macro avg  weighted avg\n",
              "precision      0.969864     0.859214  0.962286      0.914539      0.960247\n",
              "recall         0.989440     0.677029  0.962286      0.833235      0.962286\n",
              "f1-score       0.979554     0.757319  0.962286      0.868437      0.960238\n",
              "support    79072.000000  7527.000000  0.962286  86599.000000  86599.000000"
            ],
            "text/html": [
              "\n",
              "  <div id=\"df-0eb6b3cd-0012-437e-9050-63822a3df84c\">\n",
              "    <div class=\"colab-df-container\">\n",
              "      <div>\n",
              "<style scoped>\n",
              "    .dataframe tbody tr th:only-of-type {\n",
              "        vertical-align: middle;\n",
              "    }\n",
              "\n",
              "    .dataframe tbody tr th {\n",
              "        vertical-align: top;\n",
              "    }\n",
              "\n",
              "    .dataframe thead th {\n",
              "        text-align: right;\n",
              "    }\n",
              "</style>\n",
              "<table border=\"1\" class=\"dataframe\">\n",
              "  <thead>\n",
              "    <tr style=\"text-align: right;\">\n",
              "      <th></th>\n",
              "      <th>not fraud</th>\n",
              "      <th>fraud</th>\n",
              "      <th>accuracy</th>\n",
              "      <th>macro avg</th>\n",
              "      <th>weighted avg</th>\n",
              "    </tr>\n",
              "  </thead>\n",
              "  <tbody>\n",
              "    <tr>\n",
              "      <th>precision</th>\n",
              "      <td>0.969864</td>\n",
              "      <td>0.859214</td>\n",
              "      <td>0.962286</td>\n",
              "      <td>0.914539</td>\n",
              "      <td>0.960247</td>\n",
              "    </tr>\n",
              "    <tr>\n",
              "      <th>recall</th>\n",
              "      <td>0.989440</td>\n",
              "      <td>0.677029</td>\n",
              "      <td>0.962286</td>\n",
              "      <td>0.833235</td>\n",
              "      <td>0.962286</td>\n",
              "    </tr>\n",
              "    <tr>\n",
              "      <th>f1-score</th>\n",
              "      <td>0.979554</td>\n",
              "      <td>0.757319</td>\n",
              "      <td>0.962286</td>\n",
              "      <td>0.868437</td>\n",
              "      <td>0.960238</td>\n",
              "    </tr>\n",
              "    <tr>\n",
              "      <th>support</th>\n",
              "      <td>79072.000000</td>\n",
              "      <td>7527.000000</td>\n",
              "      <td>0.962286</td>\n",
              "      <td>86599.000000</td>\n",
              "      <td>86599.000000</td>\n",
              "    </tr>\n",
              "  </tbody>\n",
              "</table>\n",
              "</div>\n",
              "      <button class=\"colab-df-convert\" onclick=\"convertToInteractive('df-0eb6b3cd-0012-437e-9050-63822a3df84c')\"\n",
              "              title=\"Convert this dataframe to an interactive table.\"\n",
              "              style=\"display:none;\">\n",
              "        \n",
              "  <svg xmlns=\"http://www.w3.org/2000/svg\" height=\"24px\"viewBox=\"0 0 24 24\"\n",
              "       width=\"24px\">\n",
              "    <path d=\"M0 0h24v24H0V0z\" fill=\"none\"/>\n",
              "    <path d=\"M18.56 5.44l.94 2.06.94-2.06 2.06-.94-2.06-.94-.94-2.06-.94 2.06-2.06.94zm-11 1L8.5 8.5l.94-2.06 2.06-.94-2.06-.94L8.5 2.5l-.94 2.06-2.06.94zm10 10l.94 2.06.94-2.06 2.06-.94-2.06-.94-.94-2.06-.94 2.06-2.06.94z\"/><path d=\"M17.41 7.96l-1.37-1.37c-.4-.4-.92-.59-1.43-.59-.52 0-1.04.2-1.43.59L10.3 9.45l-7.72 7.72c-.78.78-.78 2.05 0 2.83L4 21.41c.39.39.9.59 1.41.59.51 0 1.02-.2 1.41-.59l7.78-7.78 2.81-2.81c.8-.78.8-2.07 0-2.86zM5.41 20L4 18.59l7.72-7.72 1.47 1.35L5.41 20z\"/>\n",
              "  </svg>\n",
              "      </button>\n",
              "      \n",
              "  <style>\n",
              "    .colab-df-container {\n",
              "      display:flex;\n",
              "      flex-wrap:wrap;\n",
              "      gap: 12px;\n",
              "    }\n",
              "\n",
              "    .colab-df-convert {\n",
              "      background-color: #E8F0FE;\n",
              "      border: none;\n",
              "      border-radius: 50%;\n",
              "      cursor: pointer;\n",
              "      display: none;\n",
              "      fill: #1967D2;\n",
              "      height: 32px;\n",
              "      padding: 0 0 0 0;\n",
              "      width: 32px;\n",
              "    }\n",
              "\n",
              "    .colab-df-convert:hover {\n",
              "      background-color: #E2EBFA;\n",
              "      box-shadow: 0px 1px 2px rgba(60, 64, 67, 0.3), 0px 1px 3px 1px rgba(60, 64, 67, 0.15);\n",
              "      fill: #174EA6;\n",
              "    }\n",
              "\n",
              "    [theme=dark] .colab-df-convert {\n",
              "      background-color: #3B4455;\n",
              "      fill: #D2E3FC;\n",
              "    }\n",
              "\n",
              "    [theme=dark] .colab-df-convert:hover {\n",
              "      background-color: #434B5C;\n",
              "      box-shadow: 0px 1px 3px 1px rgba(0, 0, 0, 0.15);\n",
              "      filter: drop-shadow(0px 1px 2px rgba(0, 0, 0, 0.3));\n",
              "      fill: #FFFFFF;\n",
              "    }\n",
              "  </style>\n",
              "\n",
              "      <script>\n",
              "        const buttonEl =\n",
              "          document.querySelector('#df-0eb6b3cd-0012-437e-9050-63822a3df84c button.colab-df-convert');\n",
              "        buttonEl.style.display =\n",
              "          google.colab.kernel.accessAllowed ? 'block' : 'none';\n",
              "\n",
              "        async function convertToInteractive(key) {\n",
              "          const element = document.querySelector('#df-0eb6b3cd-0012-437e-9050-63822a3df84c');\n",
              "          const dataTable =\n",
              "            await google.colab.kernel.invokeFunction('convertToInteractive',\n",
              "                                                     [key], {});\n",
              "          if (!dataTable) return;\n",
              "\n",
              "          const docLinkHtml = 'Like what you see? Visit the ' +\n",
              "            '<a target=\"_blank\" href=https://colab.research.google.com/notebooks/data_table.ipynb>data table notebook</a>'\n",
              "            + ' to learn more about interactive tables.';\n",
              "          element.innerHTML = '';\n",
              "          dataTable['output_type'] = 'display_data';\n",
              "          await google.colab.output.renderOutput(dataTable, element);\n",
              "          const docLink = document.createElement('div');\n",
              "          docLink.innerHTML = docLinkHtml;\n",
              "          element.appendChild(docLink);\n",
              "        }\n",
              "      </script>\n",
              "    </div>\n",
              "  </div>\n",
              "  "
            ]
          },
          "metadata": {},
          "execution_count": 63
        }
      ],
      "source": [
        "# change predict proba result to optimized one using new threshold\n",
        "new_pred_result = (pred_proba_result[:,1] >= thresholds[ix]).astype(int)\n",
        "# check classification report result\n",
        "pd.DataFrame(metrics.classification_report(y_test_churn, new_pred_result, target_names=['not fraud','fraud'], output_dict=True))"
      ]
    },
    {
      "cell_type": "markdown",
      "source": [
        "Using G-means method, we did not improve the prediction of KNN. and its performance is worse than LogReg"
      ],
      "metadata": {
        "id": "sbltZwOLzcQ2"
      }
    },
    {
      "cell_type": "code",
      "source": [
        "stop"
      ],
      "metadata": {
        "id": "CSNOzHZmhAKo"
      },
      "execution_count": null,
      "outputs": []
    },
    {
      "cell_type": "markdown",
      "metadata": {
        "id": "gyeLeUV9kwur"
      },
      "source": [
        "## Random Forest"
      ]
    },
    {
      "cell_type": "code",
      "execution_count": null,
      "metadata": {
        "id": "yDVN0Ke5kz6H"
      },
      "outputs": [],
      "source": [
        "from sklearn.ensemble import RandomForestClassifier"
      ]
    },
    {
      "cell_type": "code",
      "execution_count": null,
      "metadata": {
        "id": "tlMpcSK3k-tG",
        "colab": {
          "base_uri": "https://localhost:8080/"
        },
        "outputId": "0fabbdb6-ca9e-40a1-922c-f5a501bde993"
      },
      "outputs": [
        {
          "output_type": "execute_result",
          "data": {
            "text/plain": [
              "GridSearchCV(cv=10, estimator=RandomForestClassifier(random_state=42),\n",
              "             param_grid={'criterion': ['gini', 'entropy'],\n",
              "                         'max_depth': [3, 5, 10, None],\n",
              "                         'max_features': ['sqrt', 'log2'],\n",
              "                         'n_estimators': [10, 50, 100]})"
            ]
          },
          "metadata": {},
          "execution_count": 64
        }
      ],
      "source": [
        "rfc=RandomForestClassifier(random_state=42)\n",
        "param_grid = { \n",
        "    'n_estimators': [10, 50,100],\n",
        "    'max_features': [ 'sqrt', 'log2'],\n",
        "    'max_depth' : [3,5,10,None],\n",
        "    'criterion' :['gini', 'entropy']\n",
        "}\n",
        "CV_rfc = GridSearchCV(estimator=rfc, param_grid=param_grid, cv= 10)\n",
        "CV_rfc.fit(X_train_churn_scl, y_train_churn)\n"
      ]
    },
    {
      "cell_type": "code",
      "source": [
        "print('Best Score: %s' % CV_rfc.best_score_)\n",
        "print('Best Hyperparameters: %s' % CV_rfc.best_params_)"
      ],
      "metadata": {
        "colab": {
          "base_uri": "https://localhost:8080/"
        },
        "id": "QxozCJ1CO_C9",
        "outputId": "b69ba3a7-dff8-4b83-d3c1-313f8e3098f2"
      },
      "execution_count": null,
      "outputs": [
        {
          "output_type": "stream",
          "name": "stdout",
          "text": [
            "Best Score: 1.0\n",
            "Best Hyperparameters: {'criterion': 'gini', 'max_depth': None, 'max_features': 'sqrt', 'n_estimators': 100}\n"
          ]
        }
      ]
    },
    {
      "cell_type": "code",
      "source": [
        "best_rfc = RandomForestClassifier(random_state=42, criterion = \"gini\", \n",
        "                                  max_depth = None, max_features = \"sqrt\", n_estimators = 100)\n",
        "best_rfc.fit(X_train_churn_scl, y_train_churn)"
      ],
      "metadata": {
        "colab": {
          "base_uri": "https://localhost:8080/"
        },
        "id": "hLwTk181cO26",
        "outputId": "3c2ed9b7-ecc1-4af2-e28b-349fb68f005d"
      },
      "execution_count": null,
      "outputs": [
        {
          "output_type": "execute_result",
          "data": {
            "text/plain": [
              "RandomForestClassifier(max_features='sqrt', random_state=42)"
            ]
          },
          "metadata": {},
          "execution_count": 68
        }
      ]
    },
    {
      "cell_type": "code",
      "execution_count": null,
      "metadata": {
        "id": "UOTrrKf-nmjE"
      },
      "outputs": [],
      "source": [
        "# predict\n",
        "pred_result = best_rfc.predict(X_test_churn_scl)\n",
        "pred_proba_result = best_rfc.predict_proba(X_test_churn_scl)"
      ]
    },
    {
      "cell_type": "code",
      "execution_count": null,
      "metadata": {
        "id": "9yuJQqEgoPu8",
        "colab": {
          "base_uri": "https://localhost:8080/",
          "height": 175
        },
        "outputId": "57449c96-655d-4c93-efc0-19031fbe8b6e"
      },
      "outputs": [
        {
          "output_type": "execute_result",
          "data": {
            "text/plain": [
              "              not fraud        fraud  accuracy     macro avg  weighted avg\n",
              "precision      0.973122     1.000000   0.97478      0.986561      0.975458\n",
              "recall         1.000000     0.709845   0.97478      0.854922      0.974780\n",
              "f1-score       0.986378     0.830303   0.97478      0.908340      0.972812\n",
              "support    79072.000000  7527.000000   0.97478  86599.000000  86599.000000"
            ],
            "text/html": [
              "\n",
              "  <div id=\"df-e1296487-cbc9-444d-9037-5005e17d1cdb\">\n",
              "    <div class=\"colab-df-container\">\n",
              "      <div>\n",
              "<style scoped>\n",
              "    .dataframe tbody tr th:only-of-type {\n",
              "        vertical-align: middle;\n",
              "    }\n",
              "\n",
              "    .dataframe tbody tr th {\n",
              "        vertical-align: top;\n",
              "    }\n",
              "\n",
              "    .dataframe thead th {\n",
              "        text-align: right;\n",
              "    }\n",
              "</style>\n",
              "<table border=\"1\" class=\"dataframe\">\n",
              "  <thead>\n",
              "    <tr style=\"text-align: right;\">\n",
              "      <th></th>\n",
              "      <th>not fraud</th>\n",
              "      <th>fraud</th>\n",
              "      <th>accuracy</th>\n",
              "      <th>macro avg</th>\n",
              "      <th>weighted avg</th>\n",
              "    </tr>\n",
              "  </thead>\n",
              "  <tbody>\n",
              "    <tr>\n",
              "      <th>precision</th>\n",
              "      <td>0.973122</td>\n",
              "      <td>1.000000</td>\n",
              "      <td>0.97478</td>\n",
              "      <td>0.986561</td>\n",
              "      <td>0.975458</td>\n",
              "    </tr>\n",
              "    <tr>\n",
              "      <th>recall</th>\n",
              "      <td>1.000000</td>\n",
              "      <td>0.709845</td>\n",
              "      <td>0.97478</td>\n",
              "      <td>0.854922</td>\n",
              "      <td>0.974780</td>\n",
              "    </tr>\n",
              "    <tr>\n",
              "      <th>f1-score</th>\n",
              "      <td>0.986378</td>\n",
              "      <td>0.830303</td>\n",
              "      <td>0.97478</td>\n",
              "      <td>0.908340</td>\n",
              "      <td>0.972812</td>\n",
              "    </tr>\n",
              "    <tr>\n",
              "      <th>support</th>\n",
              "      <td>79072.000000</td>\n",
              "      <td>7527.000000</td>\n",
              "      <td>0.97478</td>\n",
              "      <td>86599.000000</td>\n",
              "      <td>86599.000000</td>\n",
              "    </tr>\n",
              "  </tbody>\n",
              "</table>\n",
              "</div>\n",
              "      <button class=\"colab-df-convert\" onclick=\"convertToInteractive('df-e1296487-cbc9-444d-9037-5005e17d1cdb')\"\n",
              "              title=\"Convert this dataframe to an interactive table.\"\n",
              "              style=\"display:none;\">\n",
              "        \n",
              "  <svg xmlns=\"http://www.w3.org/2000/svg\" height=\"24px\"viewBox=\"0 0 24 24\"\n",
              "       width=\"24px\">\n",
              "    <path d=\"M0 0h24v24H0V0z\" fill=\"none\"/>\n",
              "    <path d=\"M18.56 5.44l.94 2.06.94-2.06 2.06-.94-2.06-.94-.94-2.06-.94 2.06-2.06.94zm-11 1L8.5 8.5l.94-2.06 2.06-.94-2.06-.94L8.5 2.5l-.94 2.06-2.06.94zm10 10l.94 2.06.94-2.06 2.06-.94-2.06-.94-.94-2.06-.94 2.06-2.06.94z\"/><path d=\"M17.41 7.96l-1.37-1.37c-.4-.4-.92-.59-1.43-.59-.52 0-1.04.2-1.43.59L10.3 9.45l-7.72 7.72c-.78.78-.78 2.05 0 2.83L4 21.41c.39.39.9.59 1.41.59.51 0 1.02-.2 1.41-.59l7.78-7.78 2.81-2.81c.8-.78.8-2.07 0-2.86zM5.41 20L4 18.59l7.72-7.72 1.47 1.35L5.41 20z\"/>\n",
              "  </svg>\n",
              "      </button>\n",
              "      \n",
              "  <style>\n",
              "    .colab-df-container {\n",
              "      display:flex;\n",
              "      flex-wrap:wrap;\n",
              "      gap: 12px;\n",
              "    }\n",
              "\n",
              "    .colab-df-convert {\n",
              "      background-color: #E8F0FE;\n",
              "      border: none;\n",
              "      border-radius: 50%;\n",
              "      cursor: pointer;\n",
              "      display: none;\n",
              "      fill: #1967D2;\n",
              "      height: 32px;\n",
              "      padding: 0 0 0 0;\n",
              "      width: 32px;\n",
              "    }\n",
              "\n",
              "    .colab-df-convert:hover {\n",
              "      background-color: #E2EBFA;\n",
              "      box-shadow: 0px 1px 2px rgba(60, 64, 67, 0.3), 0px 1px 3px 1px rgba(60, 64, 67, 0.15);\n",
              "      fill: #174EA6;\n",
              "    }\n",
              "\n",
              "    [theme=dark] .colab-df-convert {\n",
              "      background-color: #3B4455;\n",
              "      fill: #D2E3FC;\n",
              "    }\n",
              "\n",
              "    [theme=dark] .colab-df-convert:hover {\n",
              "      background-color: #434B5C;\n",
              "      box-shadow: 0px 1px 3px 1px rgba(0, 0, 0, 0.15);\n",
              "      filter: drop-shadow(0px 1px 2px rgba(0, 0, 0, 0.3));\n",
              "      fill: #FFFFFF;\n",
              "    }\n",
              "  </style>\n",
              "\n",
              "      <script>\n",
              "        const buttonEl =\n",
              "          document.querySelector('#df-e1296487-cbc9-444d-9037-5005e17d1cdb button.colab-df-convert');\n",
              "        buttonEl.style.display =\n",
              "          google.colab.kernel.accessAllowed ? 'block' : 'none';\n",
              "\n",
              "        async function convertToInteractive(key) {\n",
              "          const element = document.querySelector('#df-e1296487-cbc9-444d-9037-5005e17d1cdb');\n",
              "          const dataTable =\n",
              "            await google.colab.kernel.invokeFunction('convertToInteractive',\n",
              "                                                     [key], {});\n",
              "          if (!dataTable) return;\n",
              "\n",
              "          const docLinkHtml = 'Like what you see? Visit the ' +\n",
              "            '<a target=\"_blank\" href=https://colab.research.google.com/notebooks/data_table.ipynb>data table notebook</a>'\n",
              "            + ' to learn more about interactive tables.';\n",
              "          element.innerHTML = '';\n",
              "          dataTable['output_type'] = 'display_data';\n",
              "          await google.colab.output.renderOutput(dataTable, element);\n",
              "          const docLink = document.createElement('div');\n",
              "          docLink.innerHTML = docLinkHtml;\n",
              "          element.appendChild(docLink);\n",
              "        }\n",
              "      </script>\n",
              "    </div>\n",
              "  </div>\n",
              "  "
            ]
          },
          "metadata": {},
          "execution_count": 70
        }
      ],
      "source": [
        "# check classification report result\n",
        "pd.DataFrame(metrics.classification_report(y_test_churn, pred_result, target_names=['not fraud','fraud'], output_dict=True))"
      ]
    },
    {
      "cell_type": "code",
      "execution_count": null,
      "metadata": {
        "id": "iTtMpeQzodje",
        "colab": {
          "base_uri": "https://localhost:8080/",
          "height": 537
        },
        "outputId": "c2750807-fd35-40dc-c974-790cfe62948f"
      },
      "outputs": [
        {
          "output_type": "display_data",
          "data": {
            "text/plain": [
              "<Figure size 842.4x595.44 with 1 Axes>"
            ],
            "image/png": "[encoded data removed]"
          },
          "metadata": {}
        }
      ],
      "source": [
        "skplt.metrics.plot_roc(y_test_churn, pred_proba_result);"
      ]
    },
    {
      "cell_type": "code",
      "execution_count": null,
      "metadata": {
        "id": "rfzJhhpvLD5N",
        "colab": {
          "base_uri": "https://localhost:8080/"
        },
        "outputId": "7c6cdd20-8c87-4989-fac5-0aa30989e786"
      },
      "outputs": [
        {
          "output_type": "stream",
          "name": "stdout",
          "text": [
            "Best Threshold=0.01, G-Mean=0.8436815551937035\n"
          ]
        }
      ],
      "source": [
        "# find fpr and tpr using roc_curve() method\n",
        "fpr, tpr, thresholds = metrics.roc_curve(y_test_churn, pred_proba_result[:,1])\n",
        "# calculate g-means\n",
        "gmeans = np.sqrt(tpr * (1-fpr))\n",
        "# find the best threshold\n",
        "ix = np.argmax(gmeans)\n",
        "print('Best Threshold={}, G-Mean={}'.format(thresholds[ix], gmeans[ix]))\n",
        "# calculate g-means\n",
        "gmeans = np.sqrt(tpr * (1-fpr))\n",
        "# find the best threshold\n",
        "ix = np.argmax(gmeans)\n"
      ]
    },
    {
      "cell_type": "code",
      "execution_count": null,
      "metadata": {
        "id": "VnVVwNPBLESc",
        "colab": {
          "base_uri": "https://localhost:8080/",
          "height": 175
        },
        "outputId": "227bb2e9-35dc-4fcc-f740-846102c2977b"
      },
      "outputs": [
        {
          "output_type": "execute_result",
          "data": {
            "text/plain": [
              "              not fraud        fraud  accuracy     macro avg  weighted avg\n",
              "precision      0.975360     0.600342  0.934791      0.787851      0.942764\n",
              "recall         0.952651     0.747177  0.934791      0.849914      0.934791\n",
              "f1-score       0.963871     0.665759  0.934791      0.814815      0.937960\n",
              "support    79072.000000  7527.000000  0.934791  86599.000000  86599.000000"
            ],
            "text/html": [
              "\n",
              "  <div id=\"df-9543de8b-7de5-47a8-aa45-f2b516f0d816\">\n",
              "    <div class=\"colab-df-container\">\n",
              "      <div>\n",
              "<style scoped>\n",
              "    .dataframe tbody tr th:only-of-type {\n",
              "        vertical-align: middle;\n",
              "    }\n",
              "\n",
              "    .dataframe tbody tr th {\n",
              "        vertical-align: top;\n",
              "    }\n",
              "\n",
              "    .dataframe thead th {\n",
              "        text-align: right;\n",
              "    }\n",
              "</style>\n",
              "<table border=\"1\" class=\"dataframe\">\n",
              "  <thead>\n",
              "    <tr style=\"text-align: right;\">\n",
              "      <th></th>\n",
              "      <th>not fraud</th>\n",
              "      <th>fraud</th>\n",
              "      <th>accuracy</th>\n",
              "      <th>macro avg</th>\n",
              "      <th>weighted avg</th>\n",
              "    </tr>\n",
              "  </thead>\n",
              "  <tbody>\n",
              "    <tr>\n",
              "      <th>precision</th>\n",
              "      <td>0.975360</td>\n",
              "      <td>0.600342</td>\n",
              "      <td>0.934791</td>\n",
              "      <td>0.787851</td>\n",
              "      <td>0.942764</td>\n",
              "    </tr>\n",
              "    <tr>\n",
              "      <th>recall</th>\n",
              "      <td>0.952651</td>\n",
              "      <td>0.747177</td>\n",
              "      <td>0.934791</td>\n",
              "      <td>0.849914</td>\n",
              "      <td>0.934791</td>\n",
              "    </tr>\n",
              "    <tr>\n",
              "      <th>f1-score</th>\n",
              "      <td>0.963871</td>\n",
              "      <td>0.665759</td>\n",
              "      <td>0.934791</td>\n",
              "      <td>0.814815</td>\n",
              "      <td>0.937960</td>\n",
              "    </tr>\n",
              "    <tr>\n",
              "      <th>support</th>\n",
              "      <td>79072.000000</td>\n",
              "      <td>7527.000000</td>\n",
              "      <td>0.934791</td>\n",
              "      <td>86599.000000</td>\n",
              "      <td>86599.000000</td>\n",
              "    </tr>\n",
              "  </tbody>\n",
              "</table>\n",
              "</div>\n",
              "      <button class=\"colab-df-convert\" onclick=\"convertToInteractive('df-9543de8b-7de5-47a8-aa45-f2b516f0d816')\"\n",
              "              title=\"Convert this dataframe to an interactive table.\"\n",
              "              style=\"display:none;\">\n",
              "        \n",
              "  <svg xmlns=\"http://www.w3.org/2000/svg\" height=\"24px\"viewBox=\"0 0 24 24\"\n",
              "       width=\"24px\">\n",
              "    <path d=\"M0 0h24v24H0V0z\" fill=\"none\"/>\n",
              "    <path d=\"M18.56 5.44l.94 2.06.94-2.06 2.06-.94-2.06-.94-.94-2.06-.94 2.06-2.06.94zm-11 1L8.5 8.5l.94-2.06 2.06-.94-2.06-.94L8.5 2.5l-.94 2.06-2.06.94zm10 10l.94 2.06.94-2.06 2.06-.94-2.06-.94-.94-2.06-.94 2.06-2.06.94z\"/><path d=\"M17.41 7.96l-1.37-1.37c-.4-.4-.92-.59-1.43-.59-.52 0-1.04.2-1.43.59L10.3 9.45l-7.72 7.72c-.78.78-.78 2.05 0 2.83L4 21.41c.39.39.9.59 1.41.59.51 0 1.02-.2 1.41-.59l7.78-7.78 2.81-2.81c.8-.78.8-2.07 0-2.86zM5.41 20L4 18.59l7.72-7.72 1.47 1.35L5.41 20z\"/>\n",
              "  </svg>\n",
              "      </button>\n",
              "      \n",
              "  <style>\n",
              "    .colab-df-container {\n",
              "      display:flex;\n",
              "      flex-wrap:wrap;\n",
              "      gap: 12px;\n",
              "    }\n",
              "\n",
              "    .colab-df-convert {\n",
              "      background-color: #E8F0FE;\n",
              "      border: none;\n",
              "      border-radius: 50%;\n",
              "      cursor: pointer;\n",
              "      display: none;\n",
              "      fill: #1967D2;\n",
              "      height: 32px;\n",
              "      padding: 0 0 0 0;\n",
              "      width: 32px;\n",
              "    }\n",
              "\n",
              "    .colab-df-convert:hover {\n",
              "      background-color: #E2EBFA;\n",
              "      box-shadow: 0px 1px 2px rgba(60, 64, 67, 0.3), 0px 1px 3px 1px rgba(60, 64, 67, 0.15);\n",
              "      fill: #174EA6;\n",
              "    }\n",
              "\n",
              "    [theme=dark] .colab-df-convert {\n",
              "      background-color: #3B4455;\n",
              "      fill: #D2E3FC;\n",
              "    }\n",
              "\n",
              "    [theme=dark] .colab-df-convert:hover {\n",
              "      background-color: #434B5C;\n",
              "      box-shadow: 0px 1px 3px 1px rgba(0, 0, 0, 0.15);\n",
              "      filter: drop-shadow(0px 1px 2px rgba(0, 0, 0, 0.3));\n",
              "      fill: #FFFFFF;\n",
              "    }\n",
              "  </style>\n",
              "\n",
              "      <script>\n",
              "        const buttonEl =\n",
              "          document.querySelector('#df-9543de8b-7de5-47a8-aa45-f2b516f0d816 button.colab-df-convert');\n",
              "        buttonEl.style.display =\n",
              "          google.colab.kernel.accessAllowed ? 'block' : 'none';\n",
              "\n",
              "        async function convertToInteractive(key) {\n",
              "          const element = document.querySelector('#df-9543de8b-7de5-47a8-aa45-f2b516f0d816');\n",
              "          const dataTable =\n",
              "            await google.colab.kernel.invokeFunction('convertToInteractive',\n",
              "                                                     [key], {});\n",
              "          if (!dataTable) return;\n",
              "\n",
              "          const docLinkHtml = 'Like what you see? Visit the ' +\n",
              "            '<a target=\"_blank\" href=https://colab.research.google.com/notebooks/data_table.ipynb>data table notebook</a>'\n",
              "            + ' to learn more about interactive tables.';\n",
              "          element.innerHTML = '';\n",
              "          dataTable['output_type'] = 'display_data';\n",
              "          await google.colab.output.renderOutput(dataTable, element);\n",
              "          const docLink = document.createElement('div');\n",
              "          docLink.innerHTML = docLinkHtml;\n",
              "          element.appendChild(docLink);\n",
              "        }\n",
              "      </script>\n",
              "    </div>\n",
              "  </div>\n",
              "  "
            ]
          },
          "metadata": {},
          "execution_count": 73
        }
      ],
      "source": [
        "# change predict proba result to optimized one using new threshold\n",
        "new_pred_result = (pred_proba_result[:,1] >= thresholds[ix]).astype(int)\n",
        "# check classification report result\n",
        "pd.DataFrame(metrics.classification_report(y_test_churn, new_pred_result, target_names=['not fraud','fraud'], output_dict=True))"
      ]
    },
    {
      "cell_type": "markdown",
      "metadata": {
        "id": "HeIv_FNecfMA"
      },
      "source": [
        "## Final model selection"
      ]
    },
    {
      "cell_type": "markdown",
      "metadata": {
        "id": "RAyguzVub74A"
      },
      "source": [
        "Discussion: among the 2 models, Random Forest is the best model with the highest f1-score (0.83) and the highest accuracy (0.81) Therefore, we select Random Forest as our choosen model\n",
        "\n"
      ]
    },
    {
      "cell_type": "markdown",
      "metadata": {
        "id": "rUYoeS1Acs9P"
      },
      "source": [
        "# Model Interpretation"
      ]
    },
    {
      "cell_type": "code",
      "execution_count": null,
      "metadata": {
        "id": "N-BzCGiucu-G",
        "colab": {
          "base_uri": "https://localhost:8080/"
        },
        "outputId": "79c170e7-0741-4e83-858b-6787ff61e8f3"
      },
      "outputs": [
        {
          "output_type": "stream",
          "name": "stdout",
          "text": [
            "Preparation of a new explainer is initiated\n",
            "\n",
            "  -> data              : 145435 rows 7 cols\n",
            "  -> target variable   : Parameter 'y' was a pandas.Series. Converted to a numpy.ndarray.\n",
            "  -> target variable   : 145435 values\n",
            "  -> model_class       : sklearn.neighbors._classification.KNeighborsClassifier (default)\n",
            "  -> label             : Random Forest Interpretation\n",
            "  -> predict function  : <function yhat_proba_default at 0x7f49fc3d29e0> will be used (default)\n",
            "  -> predict function  : Accepts pandas.DataFrame and numpy.ndarray.\n"
          ]
        },
        {
          "output_type": "stream",
          "name": "stderr",
          "text": [
            "/usr/local/lib/python3.7/dist-packages/sklearn/base.py:451: UserWarning: X does not have valid feature names, but KNeighborsClassifier was fitted with feature names\n",
            "  \"X does not have valid feature names, but\"\n"
          ]
        },
        {
          "output_type": "stream",
          "name": "stdout",
          "text": [
            "  -> predicted values  : min = 0.0, mean = 0.012, max = 1.0\n",
            "  -> model type        : classification will be used (default)\n",
            "  -> residual function : difference between y and yhat (default)\n",
            "  -> residuals         : min = -0.667, mean = 0.00041, max = 0.667\n",
            "  -> model_info        : package sklearn\n",
            "\n",
            "A new explainer has been created!\n"
          ]
        }
      ],
      "source": [
        "## initiate explainer for logreg model\n",
        "best_rfc_exp = dx.Explainer(best_knn, X_train_churn_scl, y_train_churn, label = \"Random Forest Interpretation\")"
      ]
    },
    {
      "cell_type": "markdown",
      "source": [
        "## Feature Importance\n"
      ],
      "metadata": {
        "id": "WT_R3K6sSkLH"
      }
    },
    {
      "cell_type": "code",
      "execution_count": null,
      "metadata": {
        "id": "TbHM_K_qesvE"
      },
      "outputs": [],
      "source": [
        "# visualizr permutation feature importance for Random Forest Model\n",
        "model_part = best_rfc_exp.model_parts()"
      ]
    },
    {
      "cell_type": "code",
      "source": [
        "model_part.plot()"
      ],
      "metadata": {
        "id": "Q8QIfvdEMXuM",
        "colab": {
          "base_uri": "https://localhost:8080/",
          "height": 340
        },
        "outputId": "ab98b095-bf68-44ba-f84d-64c985f33cb7"
      },
      "execution_count": null,
      "outputs": [
        {
          "output_type": "display_data",
          "data": {
            "text/html": [
              "<html>\n",
              "<head><meta charset=\"utf-8\" /></head>\n",
              "<body>\n",
              "    <div>            <script src=\"https://cdnjs.cloudflare.com/ajax/libs/mathjax/2.7.5/MathJax.js?config=TeX-AMS-MML_SVG\"></script><script type=\"text/javascript\">if (window.MathJax) {MathJax.Hub.Config({SVG: {font: \"STIX-Web\"}});}</script>                <script type=\"text/javascript\">window.PlotlyConfig = {MathJaxConfig: 'local'};</script>\n",
              "        <script src=\"https://cdn.plot.ly/plotly-2.8.3.min.js\"></script>                <div id=\"b5a597c6-35e1-4393-91f8-4e67c4ac099d\" class=\"plotly-graph-div\" style=\"height:323.0px; width:100%;\"></div>            <script type=\"text/javascript\">                                    window.PLOTLYENV=window.PLOTLYENV || {};                                    if (document.getElementById(\"b5a597c6-35e1-4393-91f8-4e67c4ac099d\")) {                    Plotly.newPlot(                        \"b5a597c6-35e1-4393-91f8-4e67c4ac099d\",                        [{\"base\":0.00012546129574900756,\"hoverinfo\":\"text\",\"hoverlabel\":{\"bgcolor\":\"rgba(0,0,0,0.8)\"},\"hovertext\":[\"Model: Random Forest Interpretation loss after<br>variable: ratio_to_median_purchase_price is permuted: 0.489<br>Drop-out loss change: +0.489\",\"Model: Random Forest Interpretation loss after<br>variable: online_order is permuted: 0.117<br>Drop-out loss change: +0.117\",\"Model: Random Forest Interpretation loss after<br>variable: distance_from_home is permuted: 0.025<br>Drop-out loss change: +0.025\",\"Model: Random Forest Interpretation loss after<br>variable: used_pin_number is permuted: 0.015<br>Drop-out loss change: +0.015\",\"Model: Random Forest Interpretation loss after<br>variable: distance_from_last_transaction is permuted: 0.013<br>Drop-out loss change: +0.013\",\"Model: Random Forest Interpretation loss after<br>variable: used_chip is permuted: 0.008<br>Drop-out loss change: +0.008\",\"Model: Random Forest Interpretation loss after<br>variable: repeat_retailer is permuted: 0.003<br>Drop-out loss change: +0.003\"],\"marker\":{\"color\":\"#46bac2\"},\"orientation\":\"h\",\"showlegend\":false,\"text\":[\"+0.489\",\"+0.117\",\"+0.025\",\"+0.015\",\"+0.013\",\"+0.008\",\"+0.003\"],\"textposition\":\"outside\",\"x\":[0.4893359588966941,0.1170741181503292,0.024806317662643726,0.015183648076182698,0.012969841303470597,0.007911188148743266,0.0030138702361798275],\"y\":[\"ratio_to_median_purchase_price\",\"online_order\",\"distance_from_home\",\"used_pin_number\",\"distance_from_last_transaction\",\"used_chip\",\"repeat_retailer\"],\"type\":\"bar\",\"xaxis\":\"x\",\"yaxis\":\"y\"}],                        {\"template\":{\"data\":{\"scatter\":[{\"type\":\"scatter\"}]}},\"xaxis\":{\"anchor\":\"y\",\"domain\":[0.0,1.0],\"type\":\"linear\",\"gridwidth\":2,\"zeroline\":false,\"automargin\":true,\"ticks\":\"outside\",\"tickcolor\":\"white\",\"ticklen\":3,\"fixedrange\":true,\"range\":[-0.07327493253875511,0.5628618140269472]},\"yaxis\":{\"anchor\":\"x\",\"domain\":[0.0,1.0],\"type\":\"category\",\"autorange\":\"reversed\",\"gridwidth\":2,\"automargin\":true,\"ticks\":\"outside\",\"tickcolor\":\"white\",\"ticklen\":10,\"fixedrange\":true},\"annotations\":[{\"font\":{\"size\":16},\"showarrow\":false,\"text\":\"Random Forest Interpretation\",\"x\":0.5,\"xanchor\":\"center\",\"xref\":\"paper\",\"y\":1.0,\"yanchor\":\"bottom\",\"yref\":\"paper\"},{\"font\":{\"size\":16},\"showarrow\":false,\"text\":\"drop-out loss\",\"x\":0.5,\"xanchor\":\"center\",\"xref\":\"paper\",\"y\":0,\"yanchor\":\"top\",\"yref\":\"paper\",\"yshift\":-30}],\"shapes\":[{\"line\":{\"color\":\"#371ea3\",\"dash\":\"dot\",\"width\":1.5},\"type\":\"line\",\"x0\":0.00012546129574900756,\"x1\":0.00012546129574900756,\"xref\":\"x\",\"y0\":-1,\"y1\":7,\"yref\":\"y\"}],\"title\":{\"text\":\"Variable Importance\",\"x\":0.15},\"font\":{\"color\":\"#371ea3\"},\"margin\":{\"t\":78,\"b\":71,\"r\":30},\"height\":323.0},                        {\"displaylogo\": false, \"staticPlot\": false, \"toImageButtonOptions\": {\"height\": null, \"width\": null}, \"modeBarButtonsToRemove\": [\"sendDataToCloud\", \"lasso2d\", \"autoScale2d\", \"select2d\", \"zoom2d\", \"pan2d\", \"zoomIn2d\", \"zoomOut2d\", \"resetScale2d\", \"toggleSpikelines\", \"hoverCompareCartesian\", \"hoverClosestCartesian\"], \"responsive\": true}                    ).then(function(){\n",
              "                            \n",
              "var gd = document.getElementById('b5a597c6-35e1-4393-91f8-4e67c4ac099d');\n",
              "var x = new MutationObserver(function (mutations, observer) {{\n",
              "        var display = window.getComputedStyle(gd).display;\n",
              "        if (!display || display === 'none') {{\n",
              "            console.log([gd, 'removed!']);\n",
              "            Plotly.purge(gd);\n",
              "            observer.disconnect();\n",
              "        }}\n",
              "}});\n",
              "\n",
              "// Listen for the removal of the full notebook cells\n",
              "var notebookContainer = gd.closest('#notebook-container');\n",
              "if (notebookContainer) {{\n",
              "    x.observe(notebookContainer, {childList: true});\n",
              "}}\n",
              "\n",
              "// Listen for the clearing of the current output cell\n",
              "var outputEl = gd.closest('.output');\n",
              "if (outputEl) {{\n",
              "    x.observe(outputEl, {childList: true});\n",
              "}}\n",
              "\n",
              "                        })                };                            </script>        </div>\n",
              "</body>\n",
              "</html>"
            ]
          },
          "metadata": {}
        }
      ]
    },
    {
      "cell_type": "markdown",
      "source": [
        "## Interpration based on Feature Importance"
      ],
      "metadata": {
        "id": "ker1J5TcR2I7"
      }
    },
    {
      "cell_type": "markdown",
      "source": [
        "Based on this feature importance,  incident severity has the most impact on prediction fraud cases. Therefore, the first thing that Bank needs to do is to inspect the incident severity level of any case. More detailed recommendation will depend on our Partial Dependant Plot\n",
        "\n"
      ],
      "metadata": {
        "id": "C_CStrIAR88f"
      }
    },
    {
      "cell_type": "markdown",
      "source": [
        "## Partial Dependant Plot"
      ],
      "metadata": {
        "id": "A5h5Mkm-TRVX"
      }
    },
    {
      "cell_type": "code",
      "execution_count": null,
      "metadata": {
        "id": "BHSNsfCwl2p5",
        "colab": {
          "base_uri": "https://localhost:8080/"
        },
        "outputId": "cf792149-802b-4c86-bf22-b517642338bd"
      },
      "outputs": [
        {
          "output_type": "stream",
          "name": "stderr",
          "text": [
            "Calculating ceteris paribus: 100%|██████████| 7/7 [00:03<00:00,  1.86it/s]\n"
          ]
        }
      ],
      "source": [
        "# create partial dependence plot of Random Forest model\n",
        "model_profile = best_rfc_exp.model_profile()"
      ]
    },
    {
      "cell_type": "code",
      "source": [
        "model_profile.plot()"
      ],
      "metadata": {
        "id": "TbreXcE1MfEM",
        "colab": {
          "base_uri": "https://localhost:8080/",
          "height": 1000
        },
        "outputId": "4b03e7ba-c25b-4785-d003-457fa3ca036f"
      },
      "execution_count": null,
      "outputs": [
        {
          "output_type": "display_data",
          "data": {
            "text/html": [
              "<html>\n",
              "<head><meta charset=\"utf-8\" /></head>\n",
              "<body>\n",
              "    <div>            <script src=\"https://cdnjs.cloudflare.com/ajax/libs/mathjax/2.7.5/MathJax.js?config=TeX-AMS-MML_SVG\"></script><script type=\"text/javascript\">if (window.MathJax) {MathJax.Hub.Config({SVG: {font: \"STIX-Web\"}});}</script>                <script type=\"text/javascript\">window.PlotlyConfig = {MathJaxConfig: 'local'};</script>\n",
              "        <script src=\"https://cdn.plot.ly/plotly-2.8.3.min.js\"></script>                <div id=\"d14e6607-8167-4954-98b3-f40a4e97b6f3\" class=\"plotly-graph-div\" style=\"height:1509px; width:100%;\"></div>            <script type=\"text/javascript\">                                    window.PLOTLYENV=window.PLOTLYENV || {};                                    if (document.getElementById(\"d14e6607-8167-4954-98b3-f40a4e97b6f3\")) {                    Plotly.newPlot(                        \"d14e6607-8167-4954-98b3-f40a4e97b6f3\",                        [{\"customdata\":[[0.01888888888888889,\"Random Forest Interpretation\",\"distance_from_home\"],[0.01888888888888889,\"Random Forest Interpretation\",\"distance_from_home\"],[0.01888888888888889,\"Random Forest Interpretation\",\"distance_from_home\"],[0.01888888888888889,\"Random Forest Interpretation\",\"distance_from_home\"],[0.01888888888888889,\"Random Forest Interpretation\",\"distance_from_home\"],[0.01888888888888889,\"Random Forest Interpretation\",\"distance_from_home\"],[0.01888888888888889,\"Random Forest Interpretation\",\"distance_from_home\"],[0.01888888888888889,\"Random Forest Interpretation\",\"distance_from_home\"],[0.01888888888888889,\"Random Forest Interpretation\",\"distance_from_home\"],[0.01888888888888889,\"Random Forest Interpretation\",\"distance_from_home\"],[0.01888888888888889,\"Random Forest Interpretation\",\"distance_from_home\"],[0.01888888888888889,\"Random Forest Interpretation\",\"distance_from_home\"],[0.01888888888888889,\"Random Forest Interpretation\",\"distance_from_home\"],[0.01888888888888889,\"Random Forest Interpretation\",\"distance_from_home\"],[0.01888888888888889,\"Random Forest Interpretation\",\"distance_from_home\"],[0.01888888888888889,\"Random Forest Interpretation\",\"distance_from_home\"],[0.01888888888888889,\"Random Forest Interpretation\",\"distance_from_home\"],[0.01888888888888889,\"Random Forest Interpretation\",\"distance_from_home\"],[0.01888888888888889,\"Random Forest Interpretation\",\"distance_from_home\"],[0.01888888888888889,\"Random Forest Interpretation\",\"distance_from_home\"],[0.01888888888888889,\"Random Forest Interpretation\",\"distance_from_home\"],[0.01888888888888889,\"Random Forest Interpretation\",\"distance_from_home\"],[0.01888888888888889,\"Random Forest Interpretation\",\"distance_from_home\"],[0.01888888888888889,\"Random Forest Interpretation\",\"distance_from_home\"],[0.01888888888888889,\"Random Forest Interpretation\",\"distance_from_home\"],[0.01888888888888889,\"Random Forest Interpretation\",\"distance_from_home\"],[0.01888888888888889,\"Random Forest Interpretation\",\"distance_from_home\"],[0.01888888888888889,\"Random Forest Interpretation\",\"distance_from_home\"],[0.01888888888888889,\"Random Forest Interpretation\",\"distance_from_home\"],[0.01888888888888889,\"Random Forest Interpretation\",\"distance_from_home\"],[0.01888888888888889,\"Random Forest Interpretation\",\"distance_from_home\"],[0.01888888888888889,\"Random Forest Interpretation\",\"distance_from_home\"],[0.01888888888888889,\"Random Forest Interpretation\",\"distance_from_home\"],[0.01888888888888889,\"Random Forest Interpretation\",\"distance_from_home\"],[0.01888888888888889,\"Random Forest Interpretation\",\"distance_from_home\"],[0.01888888888888889,\"Random Forest Interpretation\",\"distance_from_home\"],[0.01888888888888889,\"Random Forest Interpretation\",\"distance_from_home\"],[0.01888888888888889,\"Random Forest Interpretation\",\"distance_from_home\"],[0.01888888888888889,\"Random Forest Interpretation\",\"distance_from_home\"],[0.01888888888888889,\"Random Forest Interpretation\",\"distance_from_home\"],[0.01888888888888889,\"Random Forest Interpretation\",\"distance_from_home\"],[0.01888888888888889,\"Random Forest Interpretation\",\"distance_from_home\"],[0.01888888888888889,\"Random Forest Interpretation\",\"distance_from_home\"],[0.01888888888888889,\"Random Forest Interpretation\",\"distance_from_home\"],[0.01888888888888889,\"Random Forest Interpretation\",\"distance_from_home\"],[0.01888888888888889,\"Random Forest Interpretation\",\"distance_from_home\"],[0.01888888888888889,\"Random Forest Interpretation\",\"distance_from_home\"],[0.01888888888888889,\"Random Forest Interpretation\",\"distance_from_home\"],[0.01888888888888889,\"Random Forest Interpretation\",\"distance_from_home\"],[0.01888888888888889,\"Random Forest Interpretation\",\"distance_from_home\"],[0.01888888888888889,\"Random Forest Interpretation\",\"distance_from_home\"],[0.01888888888888889,\"Random Forest Interpretation\",\"distance_from_home\"],[0.01888888888888889,\"Random Forest Interpretation\",\"distance_from_home\"],[0.01888888888888889,\"Random Forest Interpretation\",\"distance_from_home\"],[0.01888888888888889,\"Random Forest Interpretation\",\"distance_from_home\"],[0.01888888888888889,\"Random Forest Interpretation\",\"distance_from_home\"],[0.01888888888888889,\"Random Forest Interpretation\",\"distance_from_home\"],[0.01888888888888889,\"Random Forest Interpretation\",\"distance_from_home\"],[0.01888888888888889,\"Random Forest Interpretation\",\"distance_from_home\"],[0.01888888888888889,\"Random Forest Interpretation\",\"distance_from_home\"],[0.01888888888888889,\"Random Forest Interpretation\",\"distance_from_home\"],[0.01888888888888889,\"Random Forest Interpretation\",\"distance_from_home\"],[0.01888888888888889,\"Random Forest Interpretation\",\"distance_from_home\"],[0.01888888888888889,\"Random Forest Interpretation\",\"distance_from_home\"],[0.01888888888888889,\"Random Forest Interpretation\",\"distance_from_home\"],[0.01888888888888889,\"Random Forest Interpretation\",\"distance_from_home\"],[0.01888888888888889,\"Random Forest Interpretation\",\"distance_from_home\"],[0.01888888888888889,\"Random Forest Interpretation\",\"distance_from_home\"],[0.01888888888888889,\"Random Forest Interpretation\",\"distance_from_home\"],[0.01888888888888889,\"Random Forest Interpretation\",\"distance_from_home\"],[0.01888888888888889,\"Random Forest Interpretation\",\"distance_from_home\"],[0.01888888888888889,\"Random Forest Interpretation\",\"distance_from_home\"],[0.01888888888888889,\"Random Forest Interpretation\",\"distance_from_home\"],[0.01888888888888889,\"Random Forest Interpretation\",\"distance_from_home\"],[0.01888888888888889,\"Random Forest Interpretation\",\"distance_from_home\"],[0.01888888888888889,\"Random Forest Interpretation\",\"distance_from_home\"],[0.01888888888888889,\"Random Forest Interpretation\",\"distance_from_home\"],[0.01888888888888889,\"Random Forest Interpretation\",\"distance_from_home\"],[0.01888888888888889,\"Random Forest Interpretation\",\"distance_from_home\"],[0.01888888888888889,\"Random Forest Interpretation\",\"distance_from_home\"],[0.01888888888888889,\"Random Forest Interpretation\",\"distance_from_home\"],[0.01888888888888889,\"Random Forest Interpretation\",\"distance_from_home\"],[0.01888888888888889,\"Random Forest Interpretation\",\"distance_from_home\"],[0.01888888888888889,\"Random Forest Interpretation\",\"distance_from_home\"],[0.01888888888888889,\"Random Forest Interpretation\",\"distance_from_home\"],[0.01888888888888889,\"Random Forest Interpretation\",\"distance_from_home\"],[0.01888888888888889,\"Random Forest Interpretation\",\"distance_from_home\"],[0.01888888888888889,\"Random Forest Interpretation\",\"distance_from_home\"],[0.01888888888888889,\"Random Forest Interpretation\",\"distance_from_home\"],[0.01888888888888889,\"Random Forest Interpretation\",\"distance_from_home\"],[0.01888888888888889,\"Random Forest Interpretation\",\"distance_from_home\"],[0.01888888888888889,\"Random Forest Interpretation\",\"distance_from_home\"],[0.01888888888888889,\"Random Forest Interpretation\",\"distance_from_home\"],[0.01888888888888889,\"Random Forest Interpretation\",\"distance_from_home\"],[0.01888888888888889,\"Random Forest Interpretation\",\"distance_from_home\"],[0.01888888888888889,\"Random Forest Interpretation\",\"distance_from_home\"],[0.01888888888888889,\"Random Forest Interpretation\",\"distance_from_home\"],[0.01888888888888889,\"Random Forest Interpretation\",\"distance_from_home\"],[0.01888888888888889,\"Random Forest Interpretation\",\"distance_from_home\"],[0.01888888888888889,\"Random Forest Interpretation\",\"distance_from_home\"],[0.01888888888888889,\"Random Forest Interpretation\",\"distance_from_home\"]],\"hovertemplate\":\"<b>%{hovertext}</b><br><br>prediction=%{y:.3f}<br>mean_prediction=%{customdata[0]:.3f}<extra></extra>\",\"hovertext\":[\"Random Forest Interpretation\",\"Random Forest Interpretation\",\"Random Forest Interpretation\",\"Random Forest Interpretation\",\"Random Forest Interpretation\",\"Random Forest Interpretation\",\"Random Forest Interpretation\",\"Random Forest Interpretation\",\"Random Forest Interpretation\",\"Random Forest Interpretation\",\"Random Forest Interpretation\",\"Random Forest Interpretation\",\"Random Forest Interpretation\",\"Random Forest Interpretation\",\"Random Forest Interpretation\",\"Random Forest Interpretation\",\"Random Forest Interpretation\",\"Random Forest Interpretation\",\"Random Forest Interpretation\",\"Random Forest Interpretation\",\"Random Forest Interpretation\",\"Random Forest Interpretation\",\"Random Forest Interpretation\",\"Random Forest Interpretation\",\"Random Forest Interpretation\",\"Random Forest Interpretation\",\"Random Forest Interpretation\",\"Random Forest Interpretation\",\"Random Forest Interpretation\",\"Random Forest Interpretation\",\"Random Forest Interpretation\",\"Random Forest Interpretation\",\"Random Forest Interpretation\",\"Random Forest Interpretation\",\"Random Forest Interpretation\",\"Random Forest Interpretation\",\"Random Forest Interpretation\",\"Random Forest Interpretation\",\"Random Forest Interpretation\",\"Random Forest Interpretation\",\"Random Forest Interpretation\",\"Random Forest Interpretation\",\"Random Forest Interpretation\",\"Random Forest Interpretation\",\"Random Forest Interpretation\",\"Random Forest Interpretation\",\"Random Forest Interpretation\",\"Random Forest Interpretation\",\"Random Forest Interpretation\",\"Random Forest Interpretation\",\"Random Forest Interpretation\",\"Random Forest Interpretation\",\"Random Forest Interpretation\",\"Random Forest Interpretation\",\"Random Forest Interpretation\",\"Random Forest Interpretation\",\"Random Forest Interpretation\",\"Random Forest Interpretation\",\"Random Forest Interpretation\",\"Random Forest Interpretation\",\"Random Forest Interpretation\",\"Random Forest Interpretation\",\"Random Forest Interpretation\",\"Random Forest Interpretation\",\"Random Forest Interpretation\",\"Random Forest Interpretation\",\"Random Forest Interpretation\",\"Random Forest Interpretation\",\"Random Forest Interpretation\",\"Random Forest Interpretation\",\"Random Forest Interpretation\",\"Random Forest Interpretation\",\"Random Forest Interpretation\",\"Random Forest Interpretation\",\"Random Forest Interpretation\",\"Random Forest Interpretation\",\"Random Forest Interpretation\",\"Random Forest Interpretation\",\"Random Forest Interpretation\",\"Random Forest Interpretation\",\"Random Forest Interpretation\",\"Random Forest Interpretation\",\"Random Forest Interpretation\",\"Random Forest Interpretation\",\"Random Forest Interpretation\",\"Random Forest Interpretation\",\"Random Forest Interpretation\",\"Random Forest Interpretation\",\"Random Forest Interpretation\",\"Random Forest Interpretation\",\"Random Forest Interpretation\",\"Random Forest Interpretation\",\"Random Forest Interpretation\",\"Random Forest Interpretation\",\"Random Forest Interpretation\",\"Random Forest Interpretation\",\"Random Forest Interpretation\",\"Random Forest Interpretation\",\"Random Forest Interpretation\",\"Random Forest Interpretation\",\"Random Forest Interpretation\"],\"legendgroup\":\"Random Forest Interpretation\",\"line\":{\"color\":\"#46bac2\",\"dash\":\"solid\",\"width\":2},\"marker\":{\"symbol\":\"circle\"},\"mode\":\"lines\",\"name\":\"Random Forest Interpretation\",\"orientation\":\"v\",\"showlegend\":true,\"x\":[0.021321886120582,0.6067115114995991,1.1921011368786163,1.7774907622576335,2.362880387636651,2.948270013015668,3.533659638394685,4.119049263773702,4.704438889152719,5.289828514531736,5.8752181399107535,6.460607765289771,7.045997390668788,7.631387016047805,8.216776641426822,8.80216626680584,9.387555892184857,9.972945517563874,10.55833514294289,11.143724768321908,11.729114393700925,12.314504019079942,12.89989364445896,13.485283269837977,14.070672895216994,14.656062520596011,15.241452145975028,15.826841771354045,16.412231396733063,16.997621022112078,17.583010647491097,18.168400272870116,18.75378989824913,19.339179523628147,19.924569149007166,20.509958774386185,21.0953483997652,21.680738025144215,22.266127650523234,22.851517275902253,23.43690690128127,24.022296526660284,24.607686152039303,25.193075777418322,25.778465402797337,26.363855028176353,26.949244653555372,27.53463427893439,28.120023904313406,28.70541352969242,29.29080315507144,29.87619278045046,30.461582405829475,31.04697203120849,31.63236165658751,32.21775128196653,32.803140907345544,33.38853053272456,33.973920158103574,34.5593097834826,35.14469940886161,35.73008903424063,36.31547865961965,36.900868284998666,37.48625791037768,38.071647535756696,38.65703716113571,39.242426786514734,39.82781641189375,40.413206037272765,40.99859566265179,41.5839852880308,42.16937491340982,42.754764538788834,43.34015416416785,43.92554378954687,44.51093341492589,45.0963230403049,45.681712665683925,46.26710229106294,46.852491916441956,47.43788154182097,48.02327116719999,48.60866079257901,49.194050417958024,49.77944004333704,50.36482966871606,50.95021929409508,51.53560891947409,52.12099854485311,52.706388170232124,53.29177779561115,53.87716742099016,54.46255704636918,55.0479466717482,55.633336297127215,56.21872592250623,56.804115547885246,57.38950517326426,57.974894798643284,58.5602844240223],\"xaxis\":\"x7\",\"y\":[0.012222222222222221,0.01,0.017777777777777778,0.017777777777777778,0.017777777777777778,0.013333333333333334,0.016666666666666666,0.021111111111111112,0.017777777777777778,0.02,0.015555555555555553,0.01,0.014444444444444444,0.016666666666666666,0.013333333333333334,0.021111111111111112,0.02,0.017777777777777778,0.017777777777777778,0.02,0.015555555555555553,0.018888888888888886,0.016666666666666666,0.016666666666666666,0.018888888888888886,0.017777777777777778,0.015555555555555553,0.015555555555555553,0.015555555555555553,0.015555555555555553,0.013333333333333334,0.016666666666666666,0.011111111111111112,0.015555555555555553,0.02,0.015555555555555553,0.014444444444444444,0.017777777777777778,0.013333333333333334,0.016666666666666666,0.016666666666666666,0.014444444444444444,0.017777777777777778,0.018888888888888886,0.014444444444444444,0.016666666666666666,0.015555555555555553,0.013333333333333334,0.014444444444444444,0.01,0.014444444444444444,0.008888888888888889,0.01111111111111111,0.01,0.014444444444444444,0.013333333333333332,0.016666666666666666,0.01111111111111111,0.014444444444444444,0.017777777777777778,0.015555555555555553,0.008888888888888889,0.018888888888888886,0.018888888888888886,0.013333333333333334,0.01111111111111111,0.01111111111111111,0.013333333333333332,0.008888888888888889,0.014444444444444444,0.016666666666666666,0.013333333333333334,0.017777777777777778,0.013333333333333334,0.015555555555555553,0.016666666666666666,0.017777777777777778,0.01,0.01111111111111111,0.008888888888888889,0.014444444444444444,0.013333333333333334,0.008888888888888889,0.0033333333333333335,0.01111111111111111,0.007777777777777777,0.014444444444444444,0.017777777777777778,0.01,0.013333333333333334,0.018888888888888886,0.018888888888888886,0.015555555555555553,0.005555555555555555,0.01,0.012222222222222221,0.01111111111111111,0.006666666666666667,0.008888888888888889,0.01111111111111111,0.012222222222222221],\"yaxis\":\"y7\",\"type\":\"scatter\",\"opacity\":1},{\"customdata\":[[0.01888888888888889,\"Random Forest Interpretation\",\"distance_from_last_transaction\"],[0.01888888888888889,\"Random Forest Interpretation\",\"distance_from_last_transaction\"],[0.01888888888888889,\"Random Forest Interpretation\",\"distance_from_last_transaction\"],[0.01888888888888889,\"Random Forest Interpretation\",\"distance_from_last_transaction\"],[0.01888888888888889,\"Random Forest Interpretation\",\"distance_from_last_transaction\"],[0.01888888888888889,\"Random Forest Interpretation\",\"distance_from_last_transaction\"],[0.01888888888888889,\"Random Forest Interpretation\",\"distance_from_last_transaction\"],[0.01888888888888889,\"Random Forest Interpretation\",\"distance_from_last_transaction\"],[0.01888888888888889,\"Random Forest Interpretation\",\"distance_from_last_transaction\"],[0.01888888888888889,\"Random Forest Interpretation\",\"distance_from_last_transaction\"],[0.01888888888888889,\"Random Forest Interpretation\",\"distance_from_last_transaction\"],[0.01888888888888889,\"Random Forest Interpretation\",\"distance_from_last_transaction\"],[0.01888888888888889,\"Random Forest Interpretation\",\"distance_from_last_transaction\"],[0.01888888888888889,\"Random Forest Interpretation\",\"distance_from_last_transaction\"],[0.01888888888888889,\"Random Forest Interpretation\",\"distance_from_last_transaction\"],[0.01888888888888889,\"Random Forest Interpretation\",\"distance_from_last_transaction\"],[0.01888888888888889,\"Random Forest Interpretation\",\"distance_from_last_transaction\"],[0.01888888888888889,\"Random Forest Interpretation\",\"distance_from_last_transaction\"],[0.01888888888888889,\"Random Forest Interpretation\",\"distance_from_last_transaction\"],[0.01888888888888889,\"Random Forest Interpretation\",\"distance_from_last_transaction\"],[0.01888888888888889,\"Random Forest Interpretation\",\"distance_from_last_transaction\"],[0.01888888888888889,\"Random Forest Interpretation\",\"distance_from_last_transaction\"],[0.01888888888888889,\"Random Forest Interpretation\",\"distance_from_last_transaction\"],[0.01888888888888889,\"Random Forest Interpretation\",\"distance_from_last_transaction\"],[0.01888888888888889,\"Random Forest Interpretation\",\"distance_from_last_transaction\"],[0.01888888888888889,\"Random Forest Interpretation\",\"distance_from_last_transaction\"],[0.01888888888888889,\"Random Forest Interpretation\",\"distance_from_last_transaction\"],[0.01888888888888889,\"Random Forest Interpretation\",\"distance_from_last_transaction\"],[0.01888888888888889,\"Random Forest Interpretation\",\"distance_from_last_transaction\"],[0.01888888888888889,\"Random Forest Interpretation\",\"distance_from_last_transaction\"],[0.01888888888888889,\"Random Forest Interpretation\",\"distance_from_last_transaction\"],[0.01888888888888889,\"Random Forest Interpretation\",\"distance_from_last_transaction\"],[0.01888888888888889,\"Random Forest Interpretation\",\"distance_from_last_transaction\"],[0.01888888888888889,\"Random Forest Interpretation\",\"distance_from_last_transaction\"],[0.01888888888888889,\"Random Forest Interpretation\",\"distance_from_last_transaction\"],[0.01888888888888889,\"Random Forest Interpretation\",\"distance_from_last_transaction\"],[0.01888888888888889,\"Random Forest Interpretation\",\"distance_from_last_transaction\"],[0.01888888888888889,\"Random Forest Interpretation\",\"distance_from_last_transaction\"],[0.01888888888888889,\"Random Forest Interpretation\",\"distance_from_last_transaction\"],[0.01888888888888889,\"Random Forest Interpretation\",\"distance_from_last_transaction\"],[0.01888888888888889,\"Random Forest Interpretation\",\"distance_from_last_transaction\"],[0.01888888888888889,\"Random Forest Interpretation\",\"distance_from_last_transaction\"],[0.01888888888888889,\"Random Forest Interpretation\",\"distance_from_last_transaction\"],[0.01888888888888889,\"Random Forest Interpretation\",\"distance_from_last_transaction\"],[0.01888888888888889,\"Random Forest Interpretation\",\"distance_from_last_transaction\"],[0.01888888888888889,\"Random Forest Interpretation\",\"distance_from_last_transaction\"],[0.01888888888888889,\"Random Forest Interpretation\",\"distance_from_last_transaction\"],[0.01888888888888889,\"Random Forest Interpretation\",\"distance_from_last_transaction\"],[0.01888888888888889,\"Random Forest Interpretation\",\"distance_from_last_transaction\"],[0.01888888888888889,\"Random Forest Interpretation\",\"distance_from_last_transaction\"],[0.01888888888888889,\"Random Forest Interpretation\",\"distance_from_last_transaction\"],[0.01888888888888889,\"Random Forest Interpretation\",\"distance_from_last_transaction\"],[0.01888888888888889,\"Random Forest Interpretation\",\"distance_from_last_transaction\"],[0.01888888888888889,\"Random Forest Interpretation\",\"distance_from_last_transaction\"],[0.01888888888888889,\"Random Forest Interpretation\",\"distance_from_last_transaction\"],[0.01888888888888889,\"Random Forest Interpretation\",\"distance_from_last_transaction\"],[0.01888888888888889,\"Random Forest Interpretation\",\"distance_from_last_transaction\"],[0.01888888888888889,\"Random Forest Interpretation\",\"distance_from_last_transaction\"],[0.01888888888888889,\"Random Forest Interpretation\",\"distance_from_last_transaction\"],[0.01888888888888889,\"Random Forest Interpretation\",\"distance_from_last_transaction\"],[0.01888888888888889,\"Random Forest Interpretation\",\"distance_from_last_transaction\"],[0.01888888888888889,\"Random Forest Interpretation\",\"distance_from_last_transaction\"],[0.01888888888888889,\"Random Forest Interpretation\",\"distance_from_last_transaction\"],[0.01888888888888889,\"Random Forest Interpretation\",\"distance_from_last_transaction\"],[0.01888888888888889,\"Random Forest Interpretation\",\"distance_from_last_transaction\"],[0.01888888888888889,\"Random Forest Interpretation\",\"distance_from_last_transaction\"],[0.01888888888888889,\"Random Forest Interpretation\",\"distance_from_last_transaction\"],[0.01888888888888889,\"Random Forest Interpretation\",\"distance_from_last_transaction\"],[0.01888888888888889,\"Random Forest Interpretation\",\"distance_from_last_transaction\"],[0.01888888888888889,\"Random Forest Interpretation\",\"distance_from_last_transaction\"],[0.01888888888888889,\"Random Forest Interpretation\",\"distance_from_last_transaction\"],[0.01888888888888889,\"Random Forest Interpretation\",\"distance_from_last_transaction\"],[0.01888888888888889,\"Random Forest Interpretation\",\"distance_from_last_transaction\"],[0.01888888888888889,\"Random Forest Interpretation\",\"distance_from_last_transaction\"],[0.01888888888888889,\"Random Forest Interpretation\",\"distance_from_last_transaction\"],[0.01888888888888889,\"Random Forest Interpretation\",\"distance_from_last_transaction\"],[0.01888888888888889,\"Random Forest Interpretation\",\"distance_from_last_transaction\"],[0.01888888888888889,\"Random Forest Interpretation\",\"distance_from_last_transaction\"],[0.01888888888888889,\"Random Forest Interpretation\",\"distance_from_last_transaction\"],[0.01888888888888889,\"Random Forest Interpretation\",\"distance_from_last_transaction\"],[0.01888888888888889,\"Random Forest Interpretation\",\"distance_from_last_transaction\"],[0.01888888888888889,\"Random Forest Interpretation\",\"distance_from_last_transaction\"],[0.01888888888888889,\"Random Forest Interpretation\",\"distance_from_last_transaction\"],[0.01888888888888889,\"Random Forest Interpretation\",\"distance_from_last_transaction\"],[0.01888888888888889,\"Random Forest Interpretation\",\"distance_from_last_transaction\"],[0.01888888888888889,\"Random Forest Interpretation\",\"distance_from_last_transaction\"],[0.01888888888888889,\"Random Forest Interpretation\",\"distance_from_last_transaction\"],[0.01888888888888889,\"Random Forest Interpretation\",\"distance_from_last_transaction\"],[0.01888888888888889,\"Random Forest Interpretation\",\"distance_from_last_transaction\"],[0.01888888888888889,\"Random Forest Interpretation\",\"distance_from_last_transaction\"],[0.01888888888888889,\"Random Forest Interpretation\",\"distance_from_last_transaction\"],[0.01888888888888889,\"Random Forest Interpretation\",\"distance_from_last_transaction\"],[0.01888888888888889,\"Random Forest Interpretation\",\"distance_from_last_transaction\"],[0.01888888888888889,\"Random Forest Interpretation\",\"distance_from_last_transaction\"],[0.01888888888888889,\"Random Forest Interpretation\",\"distance_from_last_transaction\"],[0.01888888888888889,\"Random Forest Interpretation\",\"distance_from_last_transaction\"],[0.01888888888888889,\"Random Forest Interpretation\",\"distance_from_last_transaction\"],[0.01888888888888889,\"Random Forest Interpretation\",\"distance_from_last_transaction\"],[0.01888888888888889,\"Random Forest Interpretation\",\"distance_from_last_transaction\"],[0.01888888888888889,\"Random Forest Interpretation\",\"distance_from_last_transaction\"],[0.01888888888888889,\"Random Forest Interpretation\",\"distance_from_last_transaction\"]],\"hovertemplate\":\"<b>%{hovertext}</b><br><br>prediction=%{y:.3f}<br>mean_prediction=%{customdata[0]:.3f}<extra></extra>\",\"hovertext\":[\"Random Forest Interpretation\",\"Random Forest Interpretation\",\"Random Forest Interpretation\",\"Random Forest Interpretation\",\"Random Forest Interpretation\",\"Random Forest Interpretation\",\"Random Forest Interpretation\",\"Random Forest Interpretation\",\"Random Forest Interpretation\",\"Random Forest Interpretation\",\"Random Forest Interpretation\",\"Random Forest Interpretation\",\"Random Forest Interpretation\",\"Random Forest Interpretation\",\"Random Forest Interpretation\",\"Random Forest Interpretation\",\"Random Forest Interpretation\",\"Random Forest Interpretation\",\"Random Forest Interpretation\",\"Random Forest Interpretation\",\"Random Forest Interpretation\",\"Random Forest Interpretation\",\"Random Forest Interpretation\",\"Random Forest Interpretation\",\"Random Forest Interpretation\",\"Random Forest Interpretation\",\"Random Forest Interpretation\",\"Random Forest Interpretation\",\"Random Forest Interpretation\",\"Random Forest Interpretation\",\"Random Forest Interpretation\",\"Random Forest Interpretation\",\"Random Forest Interpretation\",\"Random Forest Interpretation\",\"Random Forest Interpretation\",\"Random Forest Interpretation\",\"Random Forest Interpretation\",\"Random Forest Interpretation\",\"Random Forest Interpretation\",\"Random Forest Interpretation\",\"Random Forest Interpretation\",\"Random Forest Interpretation\",\"Random Forest Interpretation\",\"Random Forest Interpretation\",\"Random Forest Interpretation\",\"Random Forest Interpretation\",\"Random Forest Interpretation\",\"Random Forest Interpretation\",\"Random Forest Interpretation\",\"Random Forest Interpretation\",\"Random Forest Interpretation\",\"Random Forest Interpretation\",\"Random Forest Interpretation\",\"Random Forest Interpretation\",\"Random Forest Interpretation\",\"Random Forest Interpretation\",\"Random Forest Interpretation\",\"Random Forest Interpretation\",\"Random Forest Interpretation\",\"Random Forest Interpretation\",\"Random Forest Interpretation\",\"Random Forest Interpretation\",\"Random Forest Interpretation\",\"Random Forest Interpretation\",\"Random Forest Interpretation\",\"Random Forest Interpretation\",\"Random Forest Interpretation\",\"Random Forest Interpretation\",\"Random Forest Interpretation\",\"Random Forest Interpretation\",\"Random Forest Interpretation\",\"Random Forest Interpretation\",\"Random Forest Interpretation\",\"Random Forest Interpretation\",\"Random Forest Interpretation\",\"Random Forest Interpretation\",\"Random Forest Interpretation\",\"Random Forest Interpretation\",\"Random Forest Interpretation\",\"Random Forest Interpretation\",\"Random Forest Interpretation\",\"Random Forest Interpretation\",\"Random Forest Interpretation\",\"Random Forest Interpretation\",\"Random Forest Interpretation\",\"Random Forest Interpretation\",\"Random Forest Interpretation\",\"Random Forest Interpretation\",\"Random Forest Interpretation\",\"Random Forest Interpretation\",\"Random Forest Interpretation\",\"Random Forest Interpretation\",\"Random Forest Interpretation\",\"Random Forest Interpretation\",\"Random Forest Interpretation\",\"Random Forest Interpretation\",\"Random Forest Interpretation\",\"Random Forest Interpretation\",\"Random Forest Interpretation\",\"Random Forest Interpretation\",\"Random Forest Interpretation\"],\"legendgroup\":\"Random Forest Interpretation\",\"line\":{\"color\":\"#46bac2\",\"dash\":\"solid\",\"width\":2},\"marker\":{\"symbol\":\"circle\"},\"mode\":\"lines\",\"name\":\"Random Forest Interpretation\",\"orientation\":\"v\",\"showlegend\":false,\"x\":[0.0004187579372023,0.07955787466491256,0.15869699139262283,0.2378361081203331,0.31697522484804336,0.3961143415757536,0.4752534583034639,0.5543925750311741,0.6335316917588844,0.7126708084865946,0.7918099252143048,0.8709490419420152,0.9500881586697254,1.0292272753974359,1.108366392125146,1.1875055088528563,1.2666446255805666,1.3457837423082768,1.424922859035987,1.5040619757636973,1.5832010924914075,1.662340209219118,1.7414793259468282,1.8206184426745384,1.8997575594022487,1.978896676129959,2.058035792857669,2.1371749095853794,2.2163140263130896,2.2954531430408,2.37459225976851,2.4537313764962203,2.5328704932239305,2.6120096099516408,2.691148726679351,2.7702878434070612,2.8494269601347715,2.9285660768624817,3.007705193590192,3.086844310317902,3.1659834270456124,3.245122543773323,3.3242616605010333,3.4034007772287436,3.482539893956454,3.561679010684164,3.6408181274118743,3.7199572441395845,3.7990963608672947,3.878235477595005,3.957374594322715,4.036513711050426,4.115652827778137,4.194791944505846,4.273931061233557,4.353070177961267,4.4322092946889775,4.511348411416687,4.590487528144398,4.669626644872108,4.7487657615998184,4.827904878327528,4.907043995055239,4.986183111782949,5.065322228510659,5.14446134523837,5.22360046196608,5.3027395786937905,5.3818786954215,5.461017812149211,5.540156928876921,5.6192960456046315,5.698435162332341,5.777574279060052,5.856713395787762,5.935852512515472,6.014991629243182,6.094130745970893,6.173269862698603,6.252408979426313,6.331548096154023,6.410687212881734,6.4898263296094445,6.568965446337154,6.648104563064865,6.727243679792575,6.806382796520285,6.885521913247995,6.964661029975706,7.043800146703416,7.122939263431126,7.202078380158836,7.281217496886547,7.360356613614257,7.439495730341967,7.518634847069677,7.597773963797388,7.6769130805250985,7.756052197252808,7.835191313980519,7.914330430708229],\"xaxis\":\"x8\",\"y\":[0.012222222222222221,0.014444444444444444,0.016666666666666666,0.02,0.02,0.017777777777777778,0.016666666666666666,0.017777777777777778,0.017777777777777778,0.018888888888888886,0.018888888888888886,0.018888888888888886,0.016666666666666666,0.017777777777777778,0.02,0.018888888888888886,0.02,0.02222222222222222,0.017777777777777778,0.018888888888888886,0.018888888888888886,0.017777777777777778,0.016666666666666666,0.017777777777777778,0.017777777777777778,0.017777777777777778,0.017777777777777778,0.015555555555555553,0.013333333333333334,0.013333333333333334,0.013333333333333334,0.012222222222222221,0.012222222222222221,0.012222222222222221,0.01,0.01,0.01111111111111111,0.008888888888888889,0.008888888888888889,0.01,0.01,0.012222222222222221,0.01111111111111111,0.01,0.01,0.01111111111111111,0.01111111111111111,0.01111111111111111,0.012222222222222221,0.012222222222222221,0.013333333333333334,0.015555555555555553,0.014444444444444444,0.014444444444444444,0.013333333333333334,0.017777777777777778,0.016666666666666666,0.015555555555555553,0.015555555555555553,0.014444444444444444,0.013333333333333334,0.014444444444444444,0.013333333333333334,0.012222222222222221,0.014444444444444444,0.016666666666666666,0.016666666666666666,0.015555555555555553,0.015555555555555553,0.014444444444444444,0.013333333333333334,0.012222222222222221,0.014444444444444444,0.016666666666666666,0.016666666666666666,0.016666666666666666,0.015555555555555553,0.014444444444444444,0.014444444444444444,0.013333333333333334,0.013333333333333334,0.014444444444444444,0.013333333333333334,0.013333333333333334,0.012222222222222221,0.013333333333333334,0.012222222222222221,0.01111111111111111,0.014444444444444444,0.014444444444444444,0.014444444444444444,0.012222222222222221,0.012222222222222221,0.012222222222222221,0.01111111111111111,0.012222222222222221,0.01111111111111111,0.01111111111111111,0.01111111111111111,0.01111111111111111,0.01111111111111111],\"yaxis\":\"y8\",\"type\":\"scatter\",\"opacity\":1},{\"customdata\":[[0.01888888888888889,\"Random Forest Interpretation\",\"ratio_to_median_purchase_price\"],[0.01888888888888889,\"Random Forest Interpretation\",\"ratio_to_median_purchase_price\"],[0.01888888888888889,\"Random Forest Interpretation\",\"ratio_to_median_purchase_price\"],[0.01888888888888889,\"Random Forest Interpretation\",\"ratio_to_median_purchase_price\"],[0.01888888888888889,\"Random Forest Interpretation\",\"ratio_to_median_purchase_price\"],[0.01888888888888889,\"Random Forest Interpretation\",\"ratio_to_median_purchase_price\"],[0.01888888888888889,\"Random Forest Interpretation\",\"ratio_to_median_purchase_price\"],[0.01888888888888889,\"Random Forest Interpretation\",\"ratio_to_median_purchase_price\"],[0.01888888888888889,\"Random Forest Interpretation\",\"ratio_to_median_purchase_price\"],[0.01888888888888889,\"Random Forest Interpretation\",\"ratio_to_median_purchase_price\"],[0.01888888888888889,\"Random Forest Interpretation\",\"ratio_to_median_purchase_price\"],[0.01888888888888889,\"Random Forest Interpretation\",\"ratio_to_median_purchase_price\"],[0.01888888888888889,\"Random Forest Interpretation\",\"ratio_to_median_purchase_price\"],[0.01888888888888889,\"Random Forest Interpretation\",\"ratio_to_median_purchase_price\"],[0.01888888888888889,\"Random Forest Interpretation\",\"ratio_to_median_purchase_price\"],[0.01888888888888889,\"Random Forest Interpretation\",\"ratio_to_median_purchase_price\"],[0.01888888888888889,\"Random Forest Interpretation\",\"ratio_to_median_purchase_price\"],[0.01888888888888889,\"Random Forest Interpretation\",\"ratio_to_median_purchase_price\"],[0.01888888888888889,\"Random Forest Interpretation\",\"ratio_to_median_purchase_price\"],[0.01888888888888889,\"Random Forest Interpretation\",\"ratio_to_median_purchase_price\"],[0.01888888888888889,\"Random Forest Interpretation\",\"ratio_to_median_purchase_price\"],[0.01888888888888889,\"Random Forest Interpretation\",\"ratio_to_median_purchase_price\"],[0.01888888888888889,\"Random Forest Interpretation\",\"ratio_to_median_purchase_price\"],[0.01888888888888889,\"Random Forest Interpretation\",\"ratio_to_median_purchase_price\"],[0.01888888888888889,\"Random Forest Interpretation\",\"ratio_to_median_purchase_price\"],[0.01888888888888889,\"Random Forest Interpretation\",\"ratio_to_median_purchase_price\"],[0.01888888888888889,\"Random Forest Interpretation\",\"ratio_to_median_purchase_price\"],[0.01888888888888889,\"Random Forest Interpretation\",\"ratio_to_median_purchase_price\"],[0.01888888888888889,\"Random Forest Interpretation\",\"ratio_to_median_purchase_price\"],[0.01888888888888889,\"Random Forest Interpretation\",\"ratio_to_median_purchase_price\"],[0.01888888888888889,\"Random Forest Interpretation\",\"ratio_to_median_purchase_price\"],[0.01888888888888889,\"Random Forest Interpretation\",\"ratio_to_median_purchase_price\"],[0.01888888888888889,\"Random Forest Interpretation\",\"ratio_to_median_purchase_price\"],[0.01888888888888889,\"Random Forest Interpretation\",\"ratio_to_median_purchase_price\"],[0.01888888888888889,\"Random Forest Interpretation\",\"ratio_to_median_purchase_price\"],[0.01888888888888889,\"Random Forest Interpretation\",\"ratio_to_median_purchase_price\"],[0.01888888888888889,\"Random Forest Interpretation\",\"ratio_to_median_purchase_price\"],[0.01888888888888889,\"Random Forest Interpretation\",\"ratio_to_median_purchase_price\"],[0.01888888888888889,\"Random Forest Interpretation\",\"ratio_to_median_purchase_price\"],[0.01888888888888889,\"Random Forest Interpretation\",\"ratio_to_median_purchase_price\"],[0.01888888888888889,\"Random Forest Interpretation\",\"ratio_to_median_purchase_price\"],[0.01888888888888889,\"Random Forest Interpretation\",\"ratio_to_median_purchase_price\"],[0.01888888888888889,\"Random Forest Interpretation\",\"ratio_to_median_purchase_price\"],[0.01888888888888889,\"Random Forest Interpretation\",\"ratio_to_median_purchase_price\"],[0.01888888888888889,\"Random Forest Interpretation\",\"ratio_to_median_purchase_price\"],[0.01888888888888889,\"Random Forest Interpretation\",\"ratio_to_median_purchase_price\"],[0.01888888888888889,\"Random Forest Interpretation\",\"ratio_to_median_purchase_price\"],[0.01888888888888889,\"Random Forest Interpretation\",\"ratio_to_median_purchase_price\"],[0.01888888888888889,\"Random Forest Interpretation\",\"ratio_to_median_purchase_price\"],[0.01888888888888889,\"Random Forest Interpretation\",\"ratio_to_median_purchase_price\"],[0.01888888888888889,\"Random Forest Interpretation\",\"ratio_to_median_purchase_price\"],[0.01888888888888889,\"Random Forest Interpretation\",\"ratio_to_median_purchase_price\"],[0.01888888888888889,\"Random Forest Interpretation\",\"ratio_to_median_purchase_price\"],[0.01888888888888889,\"Random Forest Interpretation\",\"ratio_to_median_purchase_price\"],[0.01888888888888889,\"Random Forest Interpretation\",\"ratio_to_median_purchase_price\"],[0.01888888888888889,\"Random Forest Interpretation\",\"ratio_to_median_purchase_price\"],[0.01888888888888889,\"Random Forest Interpretation\",\"ratio_to_median_purchase_price\"],[0.01888888888888889,\"Random Forest Interpretation\",\"ratio_to_median_purchase_price\"],[0.01888888888888889,\"Random Forest Interpretation\",\"ratio_to_median_purchase_price\"],[0.01888888888888889,\"Random Forest Interpretation\",\"ratio_to_median_purchase_price\"],[0.01888888888888889,\"Random Forest Interpretation\",\"ratio_to_median_purchase_price\"],[0.01888888888888889,\"Random Forest Interpretation\",\"ratio_to_median_purchase_price\"],[0.01888888888888889,\"Random Forest Interpretation\",\"ratio_to_median_purchase_price\"],[0.01888888888888889,\"Random Forest Interpretation\",\"ratio_to_median_purchase_price\"],[0.01888888888888889,\"Random Forest Interpretation\",\"ratio_to_median_purchase_price\"],[0.01888888888888889,\"Random Forest Interpretation\",\"ratio_to_median_purchase_price\"],[0.01888888888888889,\"Random Forest Interpretation\",\"ratio_to_median_purchase_price\"],[0.01888888888888889,\"Random Forest Interpretation\",\"ratio_to_median_purchase_price\"],[0.01888888888888889,\"Random Forest Interpretation\",\"ratio_to_median_purchase_price\"],[0.01888888888888889,\"Random Forest Interpretation\",\"ratio_to_median_purchase_price\"],[0.01888888888888889,\"Random Forest Interpretation\",\"ratio_to_median_purchase_price\"],[0.01888888888888889,\"Random Forest Interpretation\",\"ratio_to_median_purchase_price\"],[0.01888888888888889,\"Random Forest Interpretation\",\"ratio_to_median_purchase_price\"],[0.01888888888888889,\"Random Forest Interpretation\",\"ratio_to_median_purchase_price\"],[0.01888888888888889,\"Random Forest Interpretation\",\"ratio_to_median_purchase_price\"],[0.01888888888888889,\"Random Forest Interpretation\",\"ratio_to_median_purchase_price\"],[0.01888888888888889,\"Random Forest Interpretation\",\"ratio_to_median_purchase_price\"],[0.01888888888888889,\"Random Forest Interpretation\",\"ratio_to_median_purchase_price\"],[0.01888888888888889,\"Random Forest Interpretation\",\"ratio_to_median_purchase_price\"],[0.01888888888888889,\"Random Forest Interpretation\",\"ratio_to_median_purchase_price\"],[0.01888888888888889,\"Random Forest Interpretation\",\"ratio_to_median_purchase_price\"],[0.01888888888888889,\"Random Forest Interpretation\",\"ratio_to_median_purchase_price\"],[0.01888888888888889,\"Random Forest Interpretation\",\"ratio_to_median_purchase_price\"],[0.01888888888888889,\"Random Forest Interpretation\",\"ratio_to_median_purchase_price\"],[0.01888888888888889,\"Random Forest Interpretation\",\"ratio_to_median_purchase_price\"],[0.01888888888888889,\"Random Forest Interpretation\",\"ratio_to_median_purchase_price\"],[0.01888888888888889,\"Random Forest Interpretation\",\"ratio_to_median_purchase_price\"],[0.01888888888888889,\"Random Forest Interpretation\",\"ratio_to_median_purchase_price\"],[0.01888888888888889,\"Random Forest Interpretation\",\"ratio_to_median_purchase_price\"],[0.01888888888888889,\"Random Forest Interpretation\",\"ratio_to_median_purchase_price\"],[0.01888888888888889,\"Random Forest Interpretation\",\"ratio_to_median_purchase_price\"],[0.01888888888888889,\"Random Forest Interpretation\",\"ratio_to_median_purchase_price\"],[0.01888888888888889,\"Random Forest Interpretation\",\"ratio_to_median_purchase_price\"],[0.01888888888888889,\"Random Forest Interpretation\",\"ratio_to_median_purchase_price\"],[0.01888888888888889,\"Random Forest Interpretation\",\"ratio_to_median_purchase_price\"],[0.01888888888888889,\"Random Forest Interpretation\",\"ratio_to_median_purchase_price\"],[0.01888888888888889,\"Random Forest Interpretation\",\"ratio_to_median_purchase_price\"],[0.01888888888888889,\"Random Forest Interpretation\",\"ratio_to_median_purchase_price\"],[0.01888888888888889,\"Random Forest Interpretation\",\"ratio_to_median_purchase_price\"],[0.01888888888888889,\"Random Forest Interpretation\",\"ratio_to_median_purchase_price\"],[0.01888888888888889,\"Random Forest Interpretation\",\"ratio_to_median_purchase_price\"]],\"hovertemplate\":\"<b>%{hovertext}</b><br><br>prediction=%{y:.3f}<br>mean_prediction=%{customdata[0]:.3f}<extra></extra>\",\"hovertext\":[\"Random Forest Interpretation\",\"Random Forest Interpretation\",\"Random Forest Interpretation\",\"Random Forest Interpretation\",\"Random Forest Interpretation\",\"Random Forest Interpretation\",\"Random Forest Interpretation\",\"Random Forest Interpretation\",\"Random Forest Interpretation\",\"Random Forest Interpretation\",\"Random Forest Interpretation\",\"Random Forest Interpretation\",\"Random Forest Interpretation\",\"Random Forest Interpretation\",\"Random Forest Interpretation\",\"Random Forest Interpretation\",\"Random Forest Interpretation\",\"Random Forest Interpretation\",\"Random Forest Interpretation\",\"Random Forest Interpretation\",\"Random Forest Interpretation\",\"Random Forest Interpretation\",\"Random Forest Interpretation\",\"Random Forest Interpretation\",\"Random Forest Interpretation\",\"Random Forest Interpretation\",\"Random Forest Interpretation\",\"Random Forest Interpretation\",\"Random Forest Interpretation\",\"Random Forest Interpretation\",\"Random Forest Interpretation\",\"Random Forest Interpretation\",\"Random Forest Interpretation\",\"Random Forest Interpretation\",\"Random Forest Interpretation\",\"Random Forest Interpretation\",\"Random Forest Interpretation\",\"Random Forest Interpretation\",\"Random Forest Interpretation\",\"Random Forest Interpretation\",\"Random Forest Interpretation\",\"Random Forest Interpretation\",\"Random Forest Interpretation\",\"Random Forest Interpretation\",\"Random Forest Interpretation\",\"Random Forest Interpretation\",\"Random Forest Interpretation\",\"Random Forest Interpretation\",\"Random Forest Interpretation\",\"Random Forest Interpretation\",\"Random Forest Interpretation\",\"Random Forest Interpretation\",\"Random Forest Interpretation\",\"Random Forest Interpretation\",\"Random Forest Interpretation\",\"Random Forest Interpretation\",\"Random Forest Interpretation\",\"Random Forest Interpretation\",\"Random Forest Interpretation\",\"Random Forest Interpretation\",\"Random Forest Interpretation\",\"Random Forest Interpretation\",\"Random Forest Interpretation\",\"Random Forest Interpretation\",\"Random Forest Interpretation\",\"Random Forest Interpretation\",\"Random Forest Interpretation\",\"Random Forest Interpretation\",\"Random Forest Interpretation\",\"Random Forest Interpretation\",\"Random Forest Interpretation\",\"Random Forest Interpretation\",\"Random Forest Interpretation\",\"Random Forest Interpretation\",\"Random Forest Interpretation\",\"Random Forest Interpretation\",\"Random Forest Interpretation\",\"Random Forest Interpretation\",\"Random Forest Interpretation\",\"Random Forest Interpretation\",\"Random Forest Interpretation\",\"Random Forest Interpretation\",\"Random Forest Interpretation\",\"Random Forest Interpretation\",\"Random Forest Interpretation\",\"Random Forest Interpretation\",\"Random Forest Interpretation\",\"Random Forest Interpretation\",\"Random Forest Interpretation\",\"Random Forest Interpretation\",\"Random Forest Interpretation\",\"Random Forest Interpretation\",\"Random Forest Interpretation\",\"Random Forest Interpretation\",\"Random Forest Interpretation\",\"Random Forest Interpretation\",\"Random Forest Interpretation\",\"Random Forest Interpretation\",\"Random Forest Interpretation\",\"Random Forest Interpretation\",\"Random Forest Interpretation\"],\"legendgroup\":\"Random Forest Interpretation\",\"line\":{\"color\":\"#46bac2\",\"dash\":\"solid\",\"width\":2},\"marker\":{\"symbol\":\"circle\"},\"mode\":\"lines\",\"name\":\"Random Forest Interpretation\",\"orientation\":\"v\",\"showlegend\":false,\"x\":[0.0057410605662556,0.05096716646198351,0.09619327235771143,0.14141937825343934,0.18664548414916723,0.23187159004489513,0.2770976959406231,0.322323801836351,0.3675499077320789,0.4127760136278068,0.4580021195235347,0.5032282254192626,0.5484543313149906,0.5936804372107184,0.6389065431064463,0.6841326490021742,0.7293587548979021,0.7745848607936301,0.8198109666893579,0.8650370725850859,0.9102631784808137,0.9554892843765417,1.0007153902722696,1.0459414961679976,1.0911676020637255,1.1363937079594533,1.1816198138551812,1.2268459197509092,1.2720720256466371,1.317298131542365,1.3625242374380928,1.4077503433338208,1.4529764492295487,1.4982025551252767,1.5434286610210046,1.5886547669167324,1.6338808728124603,1.6791069787081883,1.7243330846039162,1.7695591904996442,1.814785296395372,1.8600114022910998,1.9052375081868278,1.9504636140825558,1.9956897199782837,2.0409158258740114,2.0861419317697396,2.1313680376654673,2.1765941435611955,2.2218202494569232,2.267046355352651,2.312272461248379,2.357498567144107,2.402724673039835,2.447950778935563,2.4931768848312905,2.5384029907270187,2.5836290966227464,2.6288552025184746,2.6740813084142023,2.71930741430993,2.7645335202056582,2.809759626101386,2.854985731997114,2.900211837892842,2.9454379437885696,2.9906640496842978,3.0358901555800255,3.0811162614757537,3.1263423673714814,3.171568473267209,3.2167945791629373,3.262020685058665,3.3072467909543932,3.352472896850121,3.3976990027458487,3.442925108641577,3.4881512145373046,3.5333773204330328,3.5786034263287605,3.6238295322244882,3.6690556381202164,3.714281744015944,3.7595078499116723,3.8047339558074,3.849960061703128,3.895186167598856,3.9404122734945837,3.985638379390312,4.03086448528604,4.076090591181767,4.1213166970774955,4.166542802973224,4.211768908868951,4.256995014764679,4.302221120660407,4.3474472265561355,4.392673332451863,4.437899438347591,4.483125544243319,4.528351650139046],\"xaxis\":\"x5\",\"y\":[0.0,0.0,0.0,0.0,0.0,0.0,0.0,0.0,0.0,0.0,0.0,0.0,0.0,0.0,0.0,0.0,0.0,0.0,0.0,0.0,0.0,0.0,0.0,0.0,0.0,0.0,0.0,0.0,0.0,0.0,0.0,0.0,0.0,0.0,0.0,0.0,0.0,0.0,0.0,0.0,0.0,0.0,0.0,0.0,0.0,0.0,0.0,0.0,0.0,0.0,0.0,0.0,0.0,0.0,0.0,0.0,0.0,0.0,0.0,0.0,0.0,0.0,0.0,0.0,0.0,0.0,0.0,0.0,0.0,0.0,0.0,0.0,0.0,0.0011111111111111111,0.0011111111111111111,0.0011111111111111111,0.0011111111111111111,0.0022222222222222222,0.007777777777777777,0.013333333333333334,0.014444444444444444,0.023333333333333334,0.03666666666666667,0.05111111111111111,0.07111111111111111,0.10222222222222221,0.13666666666666666,0.19555555555555554,0.2755555555555555,0.35777777777777775,0.42333333333333334,0.47111111111111115,0.5066666666666667,0.54,0.5666666666666667,0.5744444444444444,0.5822222222222222,0.59,0.5977777777777779,0.6011111111111112,0.6033333333333334],\"yaxis\":\"y5\",\"type\":\"scatter\",\"opacity\":1},{\"customdata\":[[0.01888888888888889,\"Random Forest Interpretation\",\"repeat_retailer\"],[0.01888888888888889,\"Random Forest Interpretation\",\"repeat_retailer\"],[0.01888888888888889,\"Random Forest Interpretation\",\"repeat_retailer\"],[0.01888888888888889,\"Random Forest Interpretation\",\"repeat_retailer\"],[0.01888888888888889,\"Random Forest Interpretation\",\"repeat_retailer\"],[0.01888888888888889,\"Random Forest Interpretation\",\"repeat_retailer\"],[0.01888888888888889,\"Random Forest Interpretation\",\"repeat_retailer\"],[0.01888888888888889,\"Random Forest Interpretation\",\"repeat_retailer\"],[0.01888888888888889,\"Random Forest Interpretation\",\"repeat_retailer\"],[0.01888888888888889,\"Random Forest Interpretation\",\"repeat_retailer\"],[0.01888888888888889,\"Random Forest Interpretation\",\"repeat_retailer\"],[0.01888888888888889,\"Random Forest Interpretation\",\"repeat_retailer\"],[0.01888888888888889,\"Random Forest Interpretation\",\"repeat_retailer\"],[0.01888888888888889,\"Random Forest Interpretation\",\"repeat_retailer\"],[0.01888888888888889,\"Random Forest Interpretation\",\"repeat_retailer\"],[0.01888888888888889,\"Random Forest Interpretation\",\"repeat_retailer\"],[0.01888888888888889,\"Random Forest Interpretation\",\"repeat_retailer\"],[0.01888888888888889,\"Random Forest Interpretation\",\"repeat_retailer\"],[0.01888888888888889,\"Random Forest Interpretation\",\"repeat_retailer\"],[0.01888888888888889,\"Random Forest Interpretation\",\"repeat_retailer\"],[0.01888888888888889,\"Random Forest Interpretation\",\"repeat_retailer\"],[0.01888888888888889,\"Random Forest Interpretation\",\"repeat_retailer\"],[0.01888888888888889,\"Random Forest Interpretation\",\"repeat_retailer\"],[0.01888888888888889,\"Random Forest Interpretation\",\"repeat_retailer\"],[0.01888888888888889,\"Random Forest Interpretation\",\"repeat_retailer\"],[0.01888888888888889,\"Random Forest Interpretation\",\"repeat_retailer\"],[0.01888888888888889,\"Random Forest Interpretation\",\"repeat_retailer\"],[0.01888888888888889,\"Random Forest Interpretation\",\"repeat_retailer\"],[0.01888888888888889,\"Random Forest Interpretation\",\"repeat_retailer\"],[0.01888888888888889,\"Random Forest Interpretation\",\"repeat_retailer\"],[0.01888888888888889,\"Random Forest Interpretation\",\"repeat_retailer\"],[0.01888888888888889,\"Random Forest Interpretation\",\"repeat_retailer\"],[0.01888888888888889,\"Random Forest Interpretation\",\"repeat_retailer\"],[0.01888888888888889,\"Random Forest Interpretation\",\"repeat_retailer\"],[0.01888888888888889,\"Random Forest Interpretation\",\"repeat_retailer\"],[0.01888888888888889,\"Random Forest Interpretation\",\"repeat_retailer\"],[0.01888888888888889,\"Random Forest Interpretation\",\"repeat_retailer\"],[0.01888888888888889,\"Random Forest Interpretation\",\"repeat_retailer\"],[0.01888888888888889,\"Random Forest Interpretation\",\"repeat_retailer\"],[0.01888888888888889,\"Random Forest Interpretation\",\"repeat_retailer\"],[0.01888888888888889,\"Random Forest Interpretation\",\"repeat_retailer\"],[0.01888888888888889,\"Random Forest Interpretation\",\"repeat_retailer\"],[0.01888888888888889,\"Random Forest Interpretation\",\"repeat_retailer\"],[0.01888888888888889,\"Random Forest Interpretation\",\"repeat_retailer\"],[0.01888888888888889,\"Random Forest Interpretation\",\"repeat_retailer\"],[0.01888888888888889,\"Random Forest Interpretation\",\"repeat_retailer\"],[0.01888888888888889,\"Random Forest Interpretation\",\"repeat_retailer\"],[0.01888888888888889,\"Random Forest Interpretation\",\"repeat_retailer\"],[0.01888888888888889,\"Random Forest Interpretation\",\"repeat_retailer\"],[0.01888888888888889,\"Random Forest Interpretation\",\"repeat_retailer\"],[0.01888888888888889,\"Random Forest Interpretation\",\"repeat_retailer\"],[0.01888888888888889,\"Random Forest Interpretation\",\"repeat_retailer\"],[0.01888888888888889,\"Random Forest Interpretation\",\"repeat_retailer\"],[0.01888888888888889,\"Random Forest Interpretation\",\"repeat_retailer\"],[0.01888888888888889,\"Random Forest Interpretation\",\"repeat_retailer\"],[0.01888888888888889,\"Random Forest Interpretation\",\"repeat_retailer\"],[0.01888888888888889,\"Random Forest Interpretation\",\"repeat_retailer\"],[0.01888888888888889,\"Random Forest Interpretation\",\"repeat_retailer\"],[0.01888888888888889,\"Random Forest Interpretation\",\"repeat_retailer\"],[0.01888888888888889,\"Random Forest Interpretation\",\"repeat_retailer\"],[0.01888888888888889,\"Random Forest Interpretation\",\"repeat_retailer\"],[0.01888888888888889,\"Random Forest Interpretation\",\"repeat_retailer\"],[0.01888888888888889,\"Random Forest Interpretation\",\"repeat_retailer\"],[0.01888888888888889,\"Random Forest Interpretation\",\"repeat_retailer\"],[0.01888888888888889,\"Random Forest Interpretation\",\"repeat_retailer\"],[0.01888888888888889,\"Random Forest Interpretation\",\"repeat_retailer\"],[0.01888888888888889,\"Random Forest Interpretation\",\"repeat_retailer\"],[0.01888888888888889,\"Random Forest Interpretation\",\"repeat_retailer\"],[0.01888888888888889,\"Random Forest Interpretation\",\"repeat_retailer\"],[0.01888888888888889,\"Random Forest Interpretation\",\"repeat_retailer\"],[0.01888888888888889,\"Random Forest Interpretation\",\"repeat_retailer\"],[0.01888888888888889,\"Random Forest Interpretation\",\"repeat_retailer\"],[0.01888888888888889,\"Random Forest Interpretation\",\"repeat_retailer\"],[0.01888888888888889,\"Random Forest Interpretation\",\"repeat_retailer\"],[0.01888888888888889,\"Random Forest Interpretation\",\"repeat_retailer\"],[0.01888888888888889,\"Random Forest Interpretation\",\"repeat_retailer\"],[0.01888888888888889,\"Random Forest Interpretation\",\"repeat_retailer\"],[0.01888888888888889,\"Random Forest Interpretation\",\"repeat_retailer\"],[0.01888888888888889,\"Random Forest Interpretation\",\"repeat_retailer\"],[0.01888888888888889,\"Random Forest Interpretation\",\"repeat_retailer\"],[0.01888888888888889,\"Random Forest Interpretation\",\"repeat_retailer\"],[0.01888888888888889,\"Random Forest Interpretation\",\"repeat_retailer\"],[0.01888888888888889,\"Random Forest Interpretation\",\"repeat_retailer\"],[0.01888888888888889,\"Random Forest Interpretation\",\"repeat_retailer\"],[0.01888888888888889,\"Random Forest Interpretation\",\"repeat_retailer\"],[0.01888888888888889,\"Random Forest Interpretation\",\"repeat_retailer\"],[0.01888888888888889,\"Random Forest Interpretation\",\"repeat_retailer\"],[0.01888888888888889,\"Random Forest Interpretation\",\"repeat_retailer\"],[0.01888888888888889,\"Random Forest Interpretation\",\"repeat_retailer\"],[0.01888888888888889,\"Random Forest Interpretation\",\"repeat_retailer\"],[0.01888888888888889,\"Random Forest Interpretation\",\"repeat_retailer\"],[0.01888888888888889,\"Random Forest Interpretation\",\"repeat_retailer\"],[0.01888888888888889,\"Random Forest Interpretation\",\"repeat_retailer\"],[0.01888888888888889,\"Random Forest Interpretation\",\"repeat_retailer\"],[0.01888888888888889,\"Random Forest Interpretation\",\"repeat_retailer\"],[0.01888888888888889,\"Random Forest Interpretation\",\"repeat_retailer\"],[0.01888888888888889,\"Random Forest Interpretation\",\"repeat_retailer\"],[0.01888888888888889,\"Random Forest Interpretation\",\"repeat_retailer\"],[0.01888888888888889,\"Random Forest Interpretation\",\"repeat_retailer\"],[0.01888888888888889,\"Random Forest Interpretation\",\"repeat_retailer\"],[0.01888888888888889,\"Random Forest Interpretation\",\"repeat_retailer\"]],\"hovertemplate\":\"<b>%{hovertext}</b><br><br>prediction=%{y:.3f}<br>mean_prediction=%{customdata[0]:.3f}<extra></extra>\",\"hovertext\":[\"Random Forest Interpretation\",\"Random Forest Interpretation\",\"Random Forest Interpretation\",\"Random Forest Interpretation\",\"Random Forest Interpretation\",\"Random Forest Interpretation\",\"Random Forest Interpretation\",\"Random Forest Interpretation\",\"Random Forest Interpretation\",\"Random Forest Interpretation\",\"Random Forest Interpretation\",\"Random Forest Interpretation\",\"Random Forest Interpretation\",\"Random Forest Interpretation\",\"Random Forest Interpretation\",\"Random Forest Interpretation\",\"Random Forest Interpretation\",\"Random Forest Interpretation\",\"Random Forest Interpretation\",\"Random Forest Interpretation\",\"Random Forest Interpretation\",\"Random Forest Interpretation\",\"Random Forest Interpretation\",\"Random Forest Interpretation\",\"Random Forest Interpretation\",\"Random Forest Interpretation\",\"Random Forest Interpretation\",\"Random Forest Interpretation\",\"Random Forest Interpretation\",\"Random Forest Interpretation\",\"Random Forest Interpretation\",\"Random Forest Interpretation\",\"Random Forest Interpretation\",\"Random Forest Interpretation\",\"Random Forest Interpretation\",\"Random Forest Interpretation\",\"Random Forest Interpretation\",\"Random Forest Interpretation\",\"Random Forest Interpretation\",\"Random Forest Interpretation\",\"Random Forest Interpretation\",\"Random Forest Interpretation\",\"Random Forest Interpretation\",\"Random Forest Interpretation\",\"Random Forest Interpretation\",\"Random Forest Interpretation\",\"Random Forest Interpretation\",\"Random Forest Interpretation\",\"Random Forest Interpretation\",\"Random Forest Interpretation\",\"Random Forest Interpretation\",\"Random Forest Interpretation\",\"Random Forest Interpretation\",\"Random Forest Interpretation\",\"Random Forest Interpretation\",\"Random Forest Interpretation\",\"Random Forest Interpretation\",\"Random Forest Interpretation\",\"Random Forest Interpretation\",\"Random Forest Interpretation\",\"Random Forest Interpretation\",\"Random Forest Interpretation\",\"Random Forest Interpretation\",\"Random Forest Interpretation\",\"Random Forest Interpretation\",\"Random Forest Interpretation\",\"Random Forest Interpretation\",\"Random Forest Interpretation\",\"Random Forest Interpretation\",\"Random Forest Interpretation\",\"Random Forest Interpretation\",\"Random Forest Interpretation\",\"Random Forest Interpretation\",\"Random Forest Interpretation\",\"Random Forest Interpretation\",\"Random Forest Interpretation\",\"Random Forest Interpretation\",\"Random Forest Interpretation\",\"Random Forest Interpretation\",\"Random Forest Interpretation\",\"Random Forest Interpretation\",\"Random Forest Interpretation\",\"Random Forest Interpretation\",\"Random Forest Interpretation\",\"Random Forest Interpretation\",\"Random Forest Interpretation\",\"Random Forest Interpretation\",\"Random Forest Interpretation\",\"Random Forest Interpretation\",\"Random Forest Interpretation\",\"Random Forest Interpretation\",\"Random Forest Interpretation\",\"Random Forest Interpretation\",\"Random Forest Interpretation\",\"Random Forest Interpretation\",\"Random Forest Interpretation\",\"Random Forest Interpretation\",\"Random Forest Interpretation\",\"Random Forest Interpretation\",\"Random Forest Interpretation\",\"Random Forest Interpretation\"],\"legendgroup\":\"Random Forest Interpretation\",\"line\":{\"color\":\"#46bac2\",\"dash\":\"solid\",\"width\":2},\"marker\":{\"symbol\":\"circle\"},\"mode\":\"lines\",\"name\":\"Random Forest Interpretation\",\"orientation\":\"v\",\"showlegend\":false,\"x\":[0.0,0.01,0.02,0.03,0.04,0.05,0.06,0.07,0.08,0.09,0.1,0.11,0.12,0.13,0.14,0.15,0.16,0.17,0.18,0.19,0.2,0.21,0.22,0.23,0.24,0.25,0.26,0.27,0.28,0.29,0.3,0.31,0.32,0.33,0.34,0.35000000000000003,0.36,0.37,0.38,0.39,0.4,0.41000000000000003,0.42,0.43,0.44,0.45,0.46,0.47000000000000003,0.48,0.49,0.5,0.51,0.52,0.53,0.54,0.55,0.56,0.5700000000000001,0.58,0.59,0.6,0.61,0.62,0.63,0.64,0.65,0.66,0.67,0.68,0.6900000000000001,0.7000000000000001,0.71,0.72,0.73,0.74,0.75,0.76,0.77,0.78,0.79,0.8,0.81,0.8200000000000001,0.8300000000000001,0.84,0.85,0.86,0.87,0.88,0.89,0.9,0.91,0.92,0.93,0.9400000000000001,0.9500000000000001,0.96,0.97,0.98,0.99,1.0],\"xaxis\":\"x6\",\"y\":[0.02,0.02,0.02,0.02,0.02,0.02,0.02,0.02,0.02,0.02,0.02,0.02,0.02,0.02,0.02,0.02,0.02,0.02,0.01888888888888889,0.01888888888888889,0.01888888888888889,0.01888888888888889,0.01888888888888889,0.01888888888888889,0.01888888888888889,0.01888888888888889,0.01888888888888889,0.01888888888888889,0.01888888888888889,0.01888888888888889,0.01888888888888889,0.01888888888888889,0.01888888888888889,0.01888888888888889,0.01888888888888889,0.01888888888888889,0.01888888888888889,0.01888888888888889,0.01888888888888889,0.01888888888888889,0.01888888888888889,0.01888888888888889,0.01888888888888889,0.01888888888888889,0.01888888888888889,0.01888888888888889,0.01888888888888889,0.01888888888888889,0.01888888888888889,0.01888888888888889,0.01888888888888889,0.01888888888888889,0.01888888888888889,0.01888888888888889,0.01888888888888889,0.01888888888888889,0.01888888888888889,0.01888888888888889,0.01888888888888889,0.01888888888888889,0.01888888888888889,0.01888888888888889,0.01888888888888889,0.01888888888888889,0.01888888888888889,0.01888888888888889,0.01888888888888889,0.01888888888888889,0.01888888888888889,0.01888888888888889,0.01888888888888889,0.01888888888888889,0.01888888888888889,0.01888888888888889,0.01888888888888889,0.01888888888888889,0.01888888888888889,0.01888888888888889,0.01888888888888889,0.01888888888888889,0.01888888888888889,0.01888888888888889,0.01888888888888889,0.01888888888888889,0.01888888888888889,0.01888888888888889,0.01888888888888889,0.01888888888888889,0.01888888888888889,0.01888888888888889,0.01888888888888889,0.01888888888888889,0.01888888888888889,0.01888888888888889,0.01888888888888889,0.01888888888888889,0.01888888888888889,0.01888888888888889,0.01888888888888889,0.01888888888888889,0.01888888888888889],\"yaxis\":\"y6\",\"type\":\"scatter\",\"opacity\":1},{\"customdata\":[[0.01888888888888889,\"Random Forest Interpretation\",\"used_chip\"],[0.01888888888888889,\"Random Forest Interpretation\",\"used_chip\"],[0.01888888888888889,\"Random Forest Interpretation\",\"used_chip\"],[0.01888888888888889,\"Random Forest Interpretation\",\"used_chip\"],[0.01888888888888889,\"Random Forest Interpretation\",\"used_chip\"],[0.01888888888888889,\"Random Forest Interpretation\",\"used_chip\"],[0.01888888888888889,\"Random Forest Interpretation\",\"used_chip\"],[0.01888888888888889,\"Random Forest Interpretation\",\"used_chip\"],[0.01888888888888889,\"Random Forest Interpretation\",\"used_chip\"],[0.01888888888888889,\"Random Forest Interpretation\",\"used_chip\"],[0.01888888888888889,\"Random Forest Interpretation\",\"used_chip\"],[0.01888888888888889,\"Random Forest Interpretation\",\"used_chip\"],[0.01888888888888889,\"Random Forest Interpretation\",\"used_chip\"],[0.01888888888888889,\"Random Forest Interpretation\",\"used_chip\"],[0.01888888888888889,\"Random Forest Interpretation\",\"used_chip\"],[0.01888888888888889,\"Random Forest Interpretation\",\"used_chip\"],[0.01888888888888889,\"Random Forest Interpretation\",\"used_chip\"],[0.01888888888888889,\"Random Forest Interpretation\",\"used_chip\"],[0.01888888888888889,\"Random Forest Interpretation\",\"used_chip\"],[0.01888888888888889,\"Random Forest Interpretation\",\"used_chip\"],[0.01888888888888889,\"Random Forest Interpretation\",\"used_chip\"],[0.01888888888888889,\"Random Forest Interpretation\",\"used_chip\"],[0.01888888888888889,\"Random Forest Interpretation\",\"used_chip\"],[0.01888888888888889,\"Random Forest Interpretation\",\"used_chip\"],[0.01888888888888889,\"Random Forest Interpretation\",\"used_chip\"],[0.01888888888888889,\"Random Forest Interpretation\",\"used_chip\"],[0.01888888888888889,\"Random Forest Interpretation\",\"used_chip\"],[0.01888888888888889,\"Random Forest Interpretation\",\"used_chip\"],[0.01888888888888889,\"Random Forest Interpretation\",\"used_chip\"],[0.01888888888888889,\"Random Forest Interpretation\",\"used_chip\"],[0.01888888888888889,\"Random Forest Interpretation\",\"used_chip\"],[0.01888888888888889,\"Random Forest Interpretation\",\"used_chip\"],[0.01888888888888889,\"Random Forest Interpretation\",\"used_chip\"],[0.01888888888888889,\"Random Forest Interpretation\",\"used_chip\"],[0.01888888888888889,\"Random Forest Interpretation\",\"used_chip\"],[0.01888888888888889,\"Random Forest Interpretation\",\"used_chip\"],[0.01888888888888889,\"Random Forest Interpretation\",\"used_chip\"],[0.01888888888888889,\"Random Forest Interpretation\",\"used_chip\"],[0.01888888888888889,\"Random Forest Interpretation\",\"used_chip\"],[0.01888888888888889,\"Random Forest Interpretation\",\"used_chip\"],[0.01888888888888889,\"Random Forest Interpretation\",\"used_chip\"],[0.01888888888888889,\"Random Forest Interpretation\",\"used_chip\"],[0.01888888888888889,\"Random Forest Interpretation\",\"used_chip\"],[0.01888888888888889,\"Random Forest Interpretation\",\"used_chip\"],[0.01888888888888889,\"Random Forest Interpretation\",\"used_chip\"],[0.01888888888888889,\"Random Forest Interpretation\",\"used_chip\"],[0.01888888888888889,\"Random Forest Interpretation\",\"used_chip\"],[0.01888888888888889,\"Random Forest Interpretation\",\"used_chip\"],[0.01888888888888889,\"Random Forest Interpretation\",\"used_chip\"],[0.01888888888888889,\"Random Forest Interpretation\",\"used_chip\"],[0.01888888888888889,\"Random Forest Interpretation\",\"used_chip\"],[0.01888888888888889,\"Random Forest Interpretation\",\"used_chip\"],[0.01888888888888889,\"Random Forest Interpretation\",\"used_chip\"],[0.01888888888888889,\"Random Forest Interpretation\",\"used_chip\"],[0.01888888888888889,\"Random Forest Interpretation\",\"used_chip\"],[0.01888888888888889,\"Random Forest Interpretation\",\"used_chip\"],[0.01888888888888889,\"Random Forest Interpretation\",\"used_chip\"],[0.01888888888888889,\"Random Forest Interpretation\",\"used_chip\"],[0.01888888888888889,\"Random Forest Interpretation\",\"used_chip\"],[0.01888888888888889,\"Random Forest Interpretation\",\"used_chip\"],[0.01888888888888889,\"Random Forest Interpretation\",\"used_chip\"],[0.01888888888888889,\"Random Forest Interpretation\",\"used_chip\"],[0.01888888888888889,\"Random Forest Interpretation\",\"used_chip\"],[0.01888888888888889,\"Random Forest Interpretation\",\"used_chip\"],[0.01888888888888889,\"Random Forest Interpretation\",\"used_chip\"],[0.01888888888888889,\"Random Forest Interpretation\",\"used_chip\"],[0.01888888888888889,\"Random Forest Interpretation\",\"used_chip\"],[0.01888888888888889,\"Random Forest Interpretation\",\"used_chip\"],[0.01888888888888889,\"Random Forest Interpretation\",\"used_chip\"],[0.01888888888888889,\"Random Forest Interpretation\",\"used_chip\"],[0.01888888888888889,\"Random Forest Interpretation\",\"used_chip\"],[0.01888888888888889,\"Random Forest Interpretation\",\"used_chip\"],[0.01888888888888889,\"Random Forest Interpretation\",\"used_chip\"],[0.01888888888888889,\"Random Forest Interpretation\",\"used_chip\"],[0.01888888888888889,\"Random Forest Interpretation\",\"used_chip\"],[0.01888888888888889,\"Random Forest Interpretation\",\"used_chip\"],[0.01888888888888889,\"Random Forest Interpretation\",\"used_chip\"],[0.01888888888888889,\"Random Forest Interpretation\",\"used_chip\"],[0.01888888888888889,\"Random Forest Interpretation\",\"used_chip\"],[0.01888888888888889,\"Random Forest Interpretation\",\"used_chip\"],[0.01888888888888889,\"Random Forest Interpretation\",\"used_chip\"],[0.01888888888888889,\"Random Forest Interpretation\",\"used_chip\"],[0.01888888888888889,\"Random Forest Interpretation\",\"used_chip\"],[0.01888888888888889,\"Random Forest Interpretation\",\"used_chip\"],[0.01888888888888889,\"Random Forest Interpretation\",\"used_chip\"],[0.01888888888888889,\"Random Forest Interpretation\",\"used_chip\"],[0.01888888888888889,\"Random Forest Interpretation\",\"used_chip\"],[0.01888888888888889,\"Random Forest Interpretation\",\"used_chip\"],[0.01888888888888889,\"Random Forest Interpretation\",\"used_chip\"],[0.01888888888888889,\"Random Forest Interpretation\",\"used_chip\"],[0.01888888888888889,\"Random Forest Interpretation\",\"used_chip\"],[0.01888888888888889,\"Random Forest Interpretation\",\"used_chip\"],[0.01888888888888889,\"Random Forest Interpretation\",\"used_chip\"],[0.01888888888888889,\"Random Forest Interpretation\",\"used_chip\"],[0.01888888888888889,\"Random Forest Interpretation\",\"used_chip\"],[0.01888888888888889,\"Random Forest Interpretation\",\"used_chip\"],[0.01888888888888889,\"Random Forest Interpretation\",\"used_chip\"],[0.01888888888888889,\"Random Forest Interpretation\",\"used_chip\"],[0.01888888888888889,\"Random Forest Interpretation\",\"used_chip\"],[0.01888888888888889,\"Random Forest Interpretation\",\"used_chip\"],[0.01888888888888889,\"Random Forest Interpretation\",\"used_chip\"]],\"hovertemplate\":\"<b>%{hovertext}</b><br><br>prediction=%{y:.3f}<br>mean_prediction=%{customdata[0]:.3f}<extra></extra>\",\"hovertext\":[\"Random Forest Interpretation\",\"Random Forest Interpretation\",\"Random Forest Interpretation\",\"Random Forest Interpretation\",\"Random Forest Interpretation\",\"Random Forest Interpretation\",\"Random Forest Interpretation\",\"Random Forest Interpretation\",\"Random Forest Interpretation\",\"Random Forest Interpretation\",\"Random Forest Interpretation\",\"Random Forest Interpretation\",\"Random Forest Interpretation\",\"Random Forest Interpretation\",\"Random Forest Interpretation\",\"Random Forest Interpretation\",\"Random Forest Interpretation\",\"Random Forest Interpretation\",\"Random Forest Interpretation\",\"Random Forest Interpretation\",\"Random Forest Interpretation\",\"Random Forest Interpretation\",\"Random Forest Interpretation\",\"Random Forest Interpretation\",\"Random Forest Interpretation\",\"Random Forest Interpretation\",\"Random Forest Interpretation\",\"Random Forest Interpretation\",\"Random Forest Interpretation\",\"Random Forest Interpretation\",\"Random Forest Interpretation\",\"Random Forest Interpretation\",\"Random Forest Interpretation\",\"Random Forest Interpretation\",\"Random Forest Interpretation\",\"Random Forest Interpretation\",\"Random Forest Interpretation\",\"Random Forest Interpretation\",\"Random Forest Interpretation\",\"Random Forest Interpretation\",\"Random Forest Interpretation\",\"Random Forest Interpretation\",\"Random Forest Interpretation\",\"Random Forest Interpretation\",\"Random Forest Interpretation\",\"Random Forest Interpretation\",\"Random Forest Interpretation\",\"Random Forest Interpretation\",\"Random Forest Interpretation\",\"Random Forest Interpretation\",\"Random Forest Interpretation\",\"Random Forest Interpretation\",\"Random Forest Interpretation\",\"Random Forest Interpretation\",\"Random Forest Interpretation\",\"Random Forest Interpretation\",\"Random Forest Interpretation\",\"Random Forest Interpretation\",\"Random Forest Interpretation\",\"Random Forest Interpretation\",\"Random Forest Interpretation\",\"Random Forest Interpretation\",\"Random Forest Interpretation\",\"Random Forest Interpretation\",\"Random Forest Interpretation\",\"Random Forest Interpretation\",\"Random Forest Interpretation\",\"Random Forest Interpretation\",\"Random Forest Interpretation\",\"Random Forest Interpretation\",\"Random Forest Interpretation\",\"Random Forest Interpretation\",\"Random Forest Interpretation\",\"Random Forest Interpretation\",\"Random Forest Interpretation\",\"Random Forest Interpretation\",\"Random Forest Interpretation\",\"Random Forest Interpretation\",\"Random Forest Interpretation\",\"Random Forest Interpretation\",\"Random Forest Interpretation\",\"Random Forest Interpretation\",\"Random Forest Interpretation\",\"Random Forest Interpretation\",\"Random Forest Interpretation\",\"Random Forest Interpretation\",\"Random Forest Interpretation\",\"Random Forest Interpretation\",\"Random Forest Interpretation\",\"Random Forest Interpretation\",\"Random Forest Interpretation\",\"Random Forest Interpretation\",\"Random Forest Interpretation\",\"Random Forest Interpretation\",\"Random Forest Interpretation\",\"Random Forest Interpretation\",\"Random Forest Interpretation\",\"Random Forest Interpretation\",\"Random Forest Interpretation\",\"Random Forest Interpretation\",\"Random Forest Interpretation\"],\"legendgroup\":\"Random Forest Interpretation\",\"line\":{\"color\":\"#46bac2\",\"dash\":\"solid\",\"width\":2},\"marker\":{\"symbol\":\"circle\"},\"mode\":\"lines\",\"name\":\"Random Forest Interpretation\",\"orientation\":\"v\",\"showlegend\":false,\"x\":[0.0,0.01,0.02,0.03,0.04,0.05,0.06,0.07,0.08,0.09,0.1,0.11,0.12,0.13,0.14,0.15,0.16,0.17,0.18,0.19,0.2,0.21,0.22,0.23,0.24,0.25,0.26,0.27,0.28,0.29,0.3,0.31,0.32,0.33,0.34,0.35000000000000003,0.36,0.37,0.38,0.39,0.4,0.41000000000000003,0.42,0.43,0.44,0.45,0.46,0.47000000000000003,0.48,0.49,0.5,0.51,0.52,0.53,0.54,0.55,0.56,0.5700000000000001,0.58,0.59,0.6,0.61,0.62,0.63,0.64,0.65,0.66,0.67,0.68,0.6900000000000001,0.7000000000000001,0.71,0.72,0.73,0.74,0.75,0.76,0.77,0.78,0.79,0.8,0.81,0.8200000000000001,0.8300000000000001,0.84,0.85,0.86,0.87,0.88,0.89,0.9,0.91,0.92,0.93,0.9400000000000001,0.9500000000000001,0.96,0.97,0.98,0.99,1.0],\"xaxis\":\"x3\",\"y\":[0.016666666666666666,0.016666666666666666,0.016666666666666666,0.016666666666666666,0.016666666666666666,0.015555555555555553,0.015555555555555553,0.015555555555555553,0.015555555555555553,0.015555555555555553,0.015555555555555553,0.015555555555555553,0.015555555555555553,0.015555555555555553,0.015555555555555553,0.015555555555555553,0.015555555555555553,0.015555555555555553,0.015555555555555553,0.015555555555555553,0.015555555555555553,0.015555555555555553,0.015555555555555553,0.015555555555555553,0.015555555555555553,0.015555555555555553,0.014444444444444444,0.015555555555555553,0.015555555555555553,0.015555555555555553,0.015555555555555553,0.015555555555555553,0.015555555555555553,0.015555555555555553,0.015555555555555553,0.015555555555555553,0.015555555555555553,0.015555555555555553,0.015555555555555553,0.015555555555555553,0.016666666666666666,0.016666666666666666,0.016666666666666666,0.016666666666666666,0.016666666666666666,0.016666666666666666,0.016666666666666666,0.016666666666666666,0.016666666666666666,0.016666666666666666,0.015555555555555553,0.015555555555555553,0.015555555555555553,0.016666666666666666,0.016666666666666666,0.016666666666666666,0.016666666666666666,0.016666666666666666,0.016666666666666666,0.016666666666666666,0.016666666666666666,0.016666666666666666,0.016666666666666666,0.016666666666666666,0.017777777777777778,0.017777777777777778,0.017777777777777778,0.017777777777777778,0.017777777777777778,0.017777777777777778,0.017777777777777778,0.017777777777777778,0.017777777777777778,0.017777777777777778,0.017777777777777778,0.017777777777777778,0.017777777777777778,0.018888888888888886,0.018888888888888886,0.018888888888888886,0.018888888888888886,0.018888888888888886,0.018888888888888886,0.018888888888888886,0.018888888888888886,0.018888888888888886,0.018888888888888886,0.018888888888888886,0.018888888888888886,0.018888888888888886,0.018888888888888886,0.018888888888888886,0.02,0.02,0.02,0.02,0.02,0.02,0.02,0.02,0.02],\"yaxis\":\"y3\",\"type\":\"scatter\",\"opacity\":1},{\"customdata\":[[0.01888888888888889,\"Random Forest Interpretation\",\"used_pin_number\"],[0.01888888888888889,\"Random Forest Interpretation\",\"used_pin_number\"],[0.01888888888888889,\"Random Forest Interpretation\",\"used_pin_number\"],[0.01888888888888889,\"Random Forest Interpretation\",\"used_pin_number\"],[0.01888888888888889,\"Random Forest Interpretation\",\"used_pin_number\"],[0.01888888888888889,\"Random Forest Interpretation\",\"used_pin_number\"],[0.01888888888888889,\"Random Forest Interpretation\",\"used_pin_number\"],[0.01888888888888889,\"Random Forest Interpretation\",\"used_pin_number\"],[0.01888888888888889,\"Random Forest Interpretation\",\"used_pin_number\"],[0.01888888888888889,\"Random Forest Interpretation\",\"used_pin_number\"],[0.01888888888888889,\"Random Forest Interpretation\",\"used_pin_number\"],[0.01888888888888889,\"Random Forest Interpretation\",\"used_pin_number\"],[0.01888888888888889,\"Random Forest Interpretation\",\"used_pin_number\"],[0.01888888888888889,\"Random Forest Interpretation\",\"used_pin_number\"],[0.01888888888888889,\"Random Forest Interpretation\",\"used_pin_number\"],[0.01888888888888889,\"Random Forest Interpretation\",\"used_pin_number\"],[0.01888888888888889,\"Random Forest Interpretation\",\"used_pin_number\"],[0.01888888888888889,\"Random Forest Interpretation\",\"used_pin_number\"],[0.01888888888888889,\"Random Forest Interpretation\",\"used_pin_number\"],[0.01888888888888889,\"Random Forest Interpretation\",\"used_pin_number\"],[0.01888888888888889,\"Random Forest Interpretation\",\"used_pin_number\"],[0.01888888888888889,\"Random Forest Interpretation\",\"used_pin_number\"],[0.01888888888888889,\"Random Forest Interpretation\",\"used_pin_number\"],[0.01888888888888889,\"Random Forest Interpretation\",\"used_pin_number\"],[0.01888888888888889,\"Random Forest Interpretation\",\"used_pin_number\"],[0.01888888888888889,\"Random Forest Interpretation\",\"used_pin_number\"],[0.01888888888888889,\"Random Forest Interpretation\",\"used_pin_number\"],[0.01888888888888889,\"Random Forest Interpretation\",\"used_pin_number\"],[0.01888888888888889,\"Random Forest Interpretation\",\"used_pin_number\"],[0.01888888888888889,\"Random Forest Interpretation\",\"used_pin_number\"],[0.01888888888888889,\"Random Forest Interpretation\",\"used_pin_number\"],[0.01888888888888889,\"Random Forest Interpretation\",\"used_pin_number\"],[0.01888888888888889,\"Random Forest Interpretation\",\"used_pin_number\"],[0.01888888888888889,\"Random Forest Interpretation\",\"used_pin_number\"],[0.01888888888888889,\"Random Forest Interpretation\",\"used_pin_number\"],[0.01888888888888889,\"Random Forest Interpretation\",\"used_pin_number\"],[0.01888888888888889,\"Random Forest Interpretation\",\"used_pin_number\"],[0.01888888888888889,\"Random Forest Interpretation\",\"used_pin_number\"],[0.01888888888888889,\"Random Forest Interpretation\",\"used_pin_number\"],[0.01888888888888889,\"Random Forest Interpretation\",\"used_pin_number\"],[0.01888888888888889,\"Random Forest Interpretation\",\"used_pin_number\"],[0.01888888888888889,\"Random Forest Interpretation\",\"used_pin_number\"],[0.01888888888888889,\"Random Forest Interpretation\",\"used_pin_number\"],[0.01888888888888889,\"Random Forest Interpretation\",\"used_pin_number\"],[0.01888888888888889,\"Random Forest Interpretation\",\"used_pin_number\"],[0.01888888888888889,\"Random Forest Interpretation\",\"used_pin_number\"],[0.01888888888888889,\"Random Forest Interpretation\",\"used_pin_number\"],[0.01888888888888889,\"Random Forest Interpretation\",\"used_pin_number\"],[0.01888888888888889,\"Random Forest Interpretation\",\"used_pin_number\"],[0.01888888888888889,\"Random Forest Interpretation\",\"used_pin_number\"],[0.01888888888888889,\"Random Forest Interpretation\",\"used_pin_number\"],[0.01888888888888889,\"Random Forest Interpretation\",\"used_pin_number\"],[0.01888888888888889,\"Random Forest Interpretation\",\"used_pin_number\"],[0.01888888888888889,\"Random Forest Interpretation\",\"used_pin_number\"],[0.01888888888888889,\"Random Forest Interpretation\",\"used_pin_number\"],[0.01888888888888889,\"Random Forest Interpretation\",\"used_pin_number\"],[0.01888888888888889,\"Random Forest Interpretation\",\"used_pin_number\"],[0.01888888888888889,\"Random Forest Interpretation\",\"used_pin_number\"],[0.01888888888888889,\"Random Forest Interpretation\",\"used_pin_number\"],[0.01888888888888889,\"Random Forest Interpretation\",\"used_pin_number\"],[0.01888888888888889,\"Random Forest Interpretation\",\"used_pin_number\"],[0.01888888888888889,\"Random Forest Interpretation\",\"used_pin_number\"],[0.01888888888888889,\"Random Forest Interpretation\",\"used_pin_number\"],[0.01888888888888889,\"Random Forest Interpretation\",\"used_pin_number\"],[0.01888888888888889,\"Random Forest Interpretation\",\"used_pin_number\"],[0.01888888888888889,\"Random Forest Interpretation\",\"used_pin_number\"],[0.01888888888888889,\"Random Forest Interpretation\",\"used_pin_number\"],[0.01888888888888889,\"Random Forest Interpretation\",\"used_pin_number\"],[0.01888888888888889,\"Random Forest Interpretation\",\"used_pin_number\"],[0.01888888888888889,\"Random Forest Interpretation\",\"used_pin_number\"],[0.01888888888888889,\"Random Forest Interpretation\",\"used_pin_number\"],[0.01888888888888889,\"Random Forest Interpretation\",\"used_pin_number\"],[0.01888888888888889,\"Random Forest Interpretation\",\"used_pin_number\"],[0.01888888888888889,\"Random Forest Interpretation\",\"used_pin_number\"],[0.01888888888888889,\"Random Forest Interpretation\",\"used_pin_number\"],[0.01888888888888889,\"Random Forest Interpretation\",\"used_pin_number\"],[0.01888888888888889,\"Random Forest Interpretation\",\"used_pin_number\"],[0.01888888888888889,\"Random Forest Interpretation\",\"used_pin_number\"],[0.01888888888888889,\"Random Forest Interpretation\",\"used_pin_number\"],[0.01888888888888889,\"Random Forest Interpretation\",\"used_pin_number\"],[0.01888888888888889,\"Random Forest Interpretation\",\"used_pin_number\"],[0.01888888888888889,\"Random Forest Interpretation\",\"used_pin_number\"],[0.01888888888888889,\"Random Forest Interpretation\",\"used_pin_number\"],[0.01888888888888889,\"Random Forest Interpretation\",\"used_pin_number\"],[0.01888888888888889,\"Random Forest Interpretation\",\"used_pin_number\"],[0.01888888888888889,\"Random Forest Interpretation\",\"used_pin_number\"],[0.01888888888888889,\"Random Forest Interpretation\",\"used_pin_number\"],[0.01888888888888889,\"Random Forest Interpretation\",\"used_pin_number\"],[0.01888888888888889,\"Random Forest Interpretation\",\"used_pin_number\"],[0.01888888888888889,\"Random Forest Interpretation\",\"used_pin_number\"],[0.01888888888888889,\"Random Forest Interpretation\",\"used_pin_number\"],[0.01888888888888889,\"Random Forest Interpretation\",\"used_pin_number\"],[0.01888888888888889,\"Random Forest Interpretation\",\"used_pin_number\"],[0.01888888888888889,\"Random Forest Interpretation\",\"used_pin_number\"],[0.01888888888888889,\"Random Forest Interpretation\",\"used_pin_number\"],[0.01888888888888889,\"Random Forest Interpretation\",\"used_pin_number\"],[0.01888888888888889,\"Random Forest Interpretation\",\"used_pin_number\"],[0.01888888888888889,\"Random Forest Interpretation\",\"used_pin_number\"],[0.01888888888888889,\"Random Forest Interpretation\",\"used_pin_number\"],[0.01888888888888889,\"Random Forest Interpretation\",\"used_pin_number\"],[0.01888888888888889,\"Random Forest Interpretation\",\"used_pin_number\"]],\"hovertemplate\":\"<b>%{hovertext}</b><br><br>prediction=%{y:.3f}<br>mean_prediction=%{customdata[0]:.3f}<extra></extra>\",\"hovertext\":[\"Random Forest Interpretation\",\"Random Forest Interpretation\",\"Random Forest Interpretation\",\"Random Forest Interpretation\",\"Random Forest Interpretation\",\"Random Forest Interpretation\",\"Random Forest Interpretation\",\"Random Forest Interpretation\",\"Random Forest Interpretation\",\"Random Forest Interpretation\",\"Random Forest Interpretation\",\"Random Forest Interpretation\",\"Random Forest Interpretation\",\"Random Forest Interpretation\",\"Random Forest Interpretation\",\"Random Forest Interpretation\",\"Random Forest Interpretation\",\"Random Forest Interpretation\",\"Random Forest Interpretation\",\"Random Forest Interpretation\",\"Random Forest Interpretation\",\"Random Forest Interpretation\",\"Random Forest Interpretation\",\"Random Forest Interpretation\",\"Random Forest Interpretation\",\"Random Forest Interpretation\",\"Random Forest Interpretation\",\"Random Forest Interpretation\",\"Random Forest Interpretation\",\"Random Forest Interpretation\",\"Random Forest Interpretation\",\"Random Forest Interpretation\",\"Random Forest Interpretation\",\"Random Forest Interpretation\",\"Random Forest Interpretation\",\"Random Forest Interpretation\",\"Random Forest Interpretation\",\"Random Forest Interpretation\",\"Random Forest Interpretation\",\"Random Forest Interpretation\",\"Random Forest Interpretation\",\"Random Forest Interpretation\",\"Random Forest Interpretation\",\"Random Forest Interpretation\",\"Random Forest Interpretation\",\"Random Forest Interpretation\",\"Random Forest Interpretation\",\"Random Forest Interpretation\",\"Random Forest Interpretation\",\"Random Forest Interpretation\",\"Random Forest Interpretation\",\"Random Forest Interpretation\",\"Random Forest Interpretation\",\"Random Forest Interpretation\",\"Random Forest Interpretation\",\"Random Forest Interpretation\",\"Random Forest Interpretation\",\"Random Forest Interpretation\",\"Random Forest Interpretation\",\"Random Forest Interpretation\",\"Random Forest Interpretation\",\"Random Forest Interpretation\",\"Random Forest Interpretation\",\"Random Forest Interpretation\",\"Random Forest Interpretation\",\"Random Forest Interpretation\",\"Random Forest Interpretation\",\"Random Forest Interpretation\",\"Random Forest Interpretation\",\"Random Forest Interpretation\",\"Random Forest Interpretation\",\"Random Forest Interpretation\",\"Random Forest Interpretation\",\"Random Forest Interpretation\",\"Random Forest Interpretation\",\"Random Forest Interpretation\",\"Random Forest Interpretation\",\"Random Forest Interpretation\",\"Random Forest Interpretation\",\"Random Forest Interpretation\",\"Random Forest Interpretation\",\"Random Forest Interpretation\",\"Random Forest Interpretation\",\"Random Forest Interpretation\",\"Random Forest Interpretation\",\"Random Forest Interpretation\",\"Random Forest Interpretation\",\"Random Forest Interpretation\",\"Random Forest Interpretation\",\"Random Forest Interpretation\",\"Random Forest Interpretation\",\"Random Forest Interpretation\",\"Random Forest Interpretation\",\"Random Forest Interpretation\",\"Random Forest Interpretation\",\"Random Forest Interpretation\",\"Random Forest Interpretation\",\"Random Forest Interpretation\",\"Random Forest Interpretation\",\"Random Forest Interpretation\",\"Random Forest Interpretation\"],\"legendgroup\":\"Random Forest Interpretation\",\"line\":{\"color\":\"#46bac2\",\"dash\":\"solid\",\"width\":2},\"marker\":{\"symbol\":\"circle\"},\"mode\":\"lines\",\"name\":\"Random Forest Interpretation\",\"orientation\":\"v\",\"showlegend\":false,\"x\":[0.0,0.01,0.02,0.03,0.04,0.05,0.06,0.07,0.08,0.09,0.1,0.11,0.12,0.13,0.14,0.15,0.16,0.17,0.18,0.19,0.2,0.21,0.22,0.23,0.24,0.25,0.26,0.27,0.28,0.29,0.3,0.31,0.32,0.33,0.34,0.35000000000000003,0.36,0.37,0.38,0.39,0.4,0.41000000000000003,0.42,0.43,0.44,0.45,0.46,0.47000000000000003,0.48,0.49,0.5,0.51,0.52,0.53,0.54,0.55,0.56,0.5700000000000001,0.58,0.59,0.6,0.61,0.62,0.63,0.64,0.65,0.66,0.67,0.68,0.6900000000000001,0.7000000000000001,0.71,0.72,0.73,0.74,0.75,0.76,0.77,0.78,0.79,0.8,0.81,0.8200000000000001,0.8300000000000001,0.84,0.85,0.86,0.87,0.88,0.89,0.9,0.91,0.92,0.93,0.9400000000000001,0.9500000000000001,0.96,0.97,0.98,0.99,1.0],\"xaxis\":\"x4\",\"y\":[0.01888888888888889,0.01888888888888889,0.01888888888888889,0.01888888888888889,0.01888888888888889,0.01888888888888889,0.01888888888888889,0.01888888888888889,0.01888888888888889,0.01888888888888889,0.01888888888888889,0.01888888888888889,0.01888888888888889,0.01888888888888889,0.01888888888888889,0.01888888888888889,0.01888888888888889,0.01888888888888889,0.01888888888888889,0.01888888888888889,0.01888888888888889,0.01888888888888889,0.01888888888888889,0.01888888888888889,0.01888888888888889,0.01888888888888889,0.01888888888888889,0.01888888888888889,0.01888888888888889,0.01888888888888889,0.01888888888888889,0.01888888888888889,0.01888888888888889,0.01888888888888889,0.01888888888888889,0.01888888888888889,0.01888888888888889,0.01888888888888889,0.01888888888888889,0.01888888888888889,0.01888888888888889,0.01888888888888889,0.01888888888888889,0.01888888888888889,0.01888888888888889,0.01888888888888889,0.01888888888888889,0.01888888888888889,0.017777777777777778,0.017777777777777778,0.017777777777777778,0.017777777777777778,0.017777777777777778,0.017777777777777778,0.017777777777777778,0.016666666666666666,0.016666666666666666,0.016666666666666666,0.016666666666666666,0.016666666666666666,0.016666666666666666,0.016666666666666666,0.016666666666666666,0.015555555555555553,0.015555555555555553,0.015555555555555553,0.015555555555555553,0.015555555555555553,0.015555555555555553,0.015555555555555553,0.015555555555555553,0.015555555555555553,0.015555555555555553,0.015555555555555553,0.013333333333333334,0.013333333333333334,0.013333333333333334,0.013333333333333334,0.012222222222222221,0.012222222222222221,0.012222222222222221,0.012222222222222221,0.01111111111111111,0.01111111111111111,0.01111111111111111,0.01111111111111111,0.01111111111111111,0.01111111111111111,0.01,0.01,0.01,0.01,0.01,0.01,0.008888888888888889,0.007777777777777777,0.007777777777777777,0.007777777777777777,0.007777777777777777,0.007777777777777777,0.007777777777777777],\"yaxis\":\"y4\",\"type\":\"scatter\",\"opacity\":1},{\"customdata\":[[0.01888888888888889,\"Random Forest Interpretation\",\"online_order\"],[0.01888888888888889,\"Random Forest Interpretation\",\"online_order\"],[0.01888888888888889,\"Random Forest Interpretation\",\"online_order\"],[0.01888888888888889,\"Random Forest Interpretation\",\"online_order\"],[0.01888888888888889,\"Random Forest Interpretation\",\"online_order\"],[0.01888888888888889,\"Random Forest Interpretation\",\"online_order\"],[0.01888888888888889,\"Random Forest Interpretation\",\"online_order\"],[0.01888888888888889,\"Random Forest Interpretation\",\"online_order\"],[0.01888888888888889,\"Random Forest Interpretation\",\"online_order\"],[0.01888888888888889,\"Random Forest Interpretation\",\"online_order\"],[0.01888888888888889,\"Random Forest Interpretation\",\"online_order\"],[0.01888888888888889,\"Random Forest Interpretation\",\"online_order\"],[0.01888888888888889,\"Random Forest Interpretation\",\"online_order\"],[0.01888888888888889,\"Random Forest Interpretation\",\"online_order\"],[0.01888888888888889,\"Random Forest Interpretation\",\"online_order\"],[0.01888888888888889,\"Random Forest Interpretation\",\"online_order\"],[0.01888888888888889,\"Random Forest Interpretation\",\"online_order\"],[0.01888888888888889,\"Random Forest Interpretation\",\"online_order\"],[0.01888888888888889,\"Random Forest Interpretation\",\"online_order\"],[0.01888888888888889,\"Random Forest Interpretation\",\"online_order\"],[0.01888888888888889,\"Random Forest Interpretation\",\"online_order\"],[0.01888888888888889,\"Random Forest Interpretation\",\"online_order\"],[0.01888888888888889,\"Random Forest Interpretation\",\"online_order\"],[0.01888888888888889,\"Random Forest Interpretation\",\"online_order\"],[0.01888888888888889,\"Random Forest Interpretation\",\"online_order\"],[0.01888888888888889,\"Random Forest Interpretation\",\"online_order\"],[0.01888888888888889,\"Random Forest Interpretation\",\"online_order\"],[0.01888888888888889,\"Random Forest Interpretation\",\"online_order\"],[0.01888888888888889,\"Random Forest Interpretation\",\"online_order\"],[0.01888888888888889,\"Random Forest Interpretation\",\"online_order\"],[0.01888888888888889,\"Random Forest Interpretation\",\"online_order\"],[0.01888888888888889,\"Random Forest Interpretation\",\"online_order\"],[0.01888888888888889,\"Random Forest Interpretation\",\"online_order\"],[0.01888888888888889,\"Random Forest Interpretation\",\"online_order\"],[0.01888888888888889,\"Random Forest Interpretation\",\"online_order\"],[0.01888888888888889,\"Random Forest Interpretation\",\"online_order\"],[0.01888888888888889,\"Random Forest Interpretation\",\"online_order\"],[0.01888888888888889,\"Random Forest Interpretation\",\"online_order\"],[0.01888888888888889,\"Random Forest Interpretation\",\"online_order\"],[0.01888888888888889,\"Random Forest Interpretation\",\"online_order\"],[0.01888888888888889,\"Random Forest Interpretation\",\"online_order\"],[0.01888888888888889,\"Random Forest Interpretation\",\"online_order\"],[0.01888888888888889,\"Random Forest Interpretation\",\"online_order\"],[0.01888888888888889,\"Random Forest Interpretation\",\"online_order\"],[0.01888888888888889,\"Random Forest Interpretation\",\"online_order\"],[0.01888888888888889,\"Random Forest Interpretation\",\"online_order\"],[0.01888888888888889,\"Random Forest Interpretation\",\"online_order\"],[0.01888888888888889,\"Random Forest Interpretation\",\"online_order\"],[0.01888888888888889,\"Random Forest Interpretation\",\"online_order\"],[0.01888888888888889,\"Random Forest Interpretation\",\"online_order\"],[0.01888888888888889,\"Random Forest Interpretation\",\"online_order\"],[0.01888888888888889,\"Random Forest Interpretation\",\"online_order\"],[0.01888888888888889,\"Random Forest Interpretation\",\"online_order\"],[0.01888888888888889,\"Random Forest Interpretation\",\"online_order\"],[0.01888888888888889,\"Random Forest Interpretation\",\"online_order\"],[0.01888888888888889,\"Random Forest Interpretation\",\"online_order\"],[0.01888888888888889,\"Random Forest Interpretation\",\"online_order\"],[0.01888888888888889,\"Random Forest Interpretation\",\"online_order\"],[0.01888888888888889,\"Random Forest Interpretation\",\"online_order\"],[0.01888888888888889,\"Random Forest Interpretation\",\"online_order\"],[0.01888888888888889,\"Random Forest Interpretation\",\"online_order\"],[0.01888888888888889,\"Random Forest Interpretation\",\"online_order\"],[0.01888888888888889,\"Random Forest Interpretation\",\"online_order\"],[0.01888888888888889,\"Random Forest Interpretation\",\"online_order\"],[0.01888888888888889,\"Random Forest Interpretation\",\"online_order\"],[0.01888888888888889,\"Random Forest Interpretation\",\"online_order\"],[0.01888888888888889,\"Random Forest Interpretation\",\"online_order\"],[0.01888888888888889,\"Random Forest Interpretation\",\"online_order\"],[0.01888888888888889,\"Random Forest Interpretation\",\"online_order\"],[0.01888888888888889,\"Random Forest Interpretation\",\"online_order\"],[0.01888888888888889,\"Random Forest Interpretation\",\"online_order\"],[0.01888888888888889,\"Random Forest Interpretation\",\"online_order\"],[0.01888888888888889,\"Random Forest Interpretation\",\"online_order\"],[0.01888888888888889,\"Random Forest Interpretation\",\"online_order\"],[0.01888888888888889,\"Random Forest Interpretation\",\"online_order\"],[0.01888888888888889,\"Random Forest Interpretation\",\"online_order\"],[0.01888888888888889,\"Random Forest Interpretation\",\"online_order\"],[0.01888888888888889,\"Random Forest Interpretation\",\"online_order\"],[0.01888888888888889,\"Random Forest Interpretation\",\"online_order\"],[0.01888888888888889,\"Random Forest Interpretation\",\"online_order\"],[0.01888888888888889,\"Random Forest Interpretation\",\"online_order\"],[0.01888888888888889,\"Random Forest Interpretation\",\"online_order\"],[0.01888888888888889,\"Random Forest Interpretation\",\"online_order\"],[0.01888888888888889,\"Random Forest Interpretation\",\"online_order\"],[0.01888888888888889,\"Random Forest Interpretation\",\"online_order\"],[0.01888888888888889,\"Random Forest Interpretation\",\"online_order\"],[0.01888888888888889,\"Random Forest Interpretation\",\"online_order\"],[0.01888888888888889,\"Random Forest Interpretation\",\"online_order\"],[0.01888888888888889,\"Random Forest Interpretation\",\"online_order\"],[0.01888888888888889,\"Random Forest Interpretation\",\"online_order\"],[0.01888888888888889,\"Random Forest Interpretation\",\"online_order\"],[0.01888888888888889,\"Random Forest Interpretation\",\"online_order\"],[0.01888888888888889,\"Random Forest Interpretation\",\"online_order\"],[0.01888888888888889,\"Random Forest Interpretation\",\"online_order\"],[0.01888888888888889,\"Random Forest Interpretation\",\"online_order\"],[0.01888888888888889,\"Random Forest Interpretation\",\"online_order\"],[0.01888888888888889,\"Random Forest Interpretation\",\"online_order\"],[0.01888888888888889,\"Random Forest Interpretation\",\"online_order\"],[0.01888888888888889,\"Random Forest Interpretation\",\"online_order\"],[0.01888888888888889,\"Random Forest Interpretation\",\"online_order\"],[0.01888888888888889,\"Random Forest Interpretation\",\"online_order\"]],\"hovertemplate\":\"<b>%{hovertext}</b><br><br>prediction=%{y:.3f}<br>mean_prediction=%{customdata[0]:.3f}<extra></extra>\",\"hovertext\":[\"Random Forest Interpretation\",\"Random Forest Interpretation\",\"Random Forest Interpretation\",\"Random Forest Interpretation\",\"Random Forest Interpretation\",\"Random Forest Interpretation\",\"Random Forest Interpretation\",\"Random Forest Interpretation\",\"Random Forest Interpretation\",\"Random Forest Interpretation\",\"Random Forest Interpretation\",\"Random Forest Interpretation\",\"Random Forest Interpretation\",\"Random Forest Interpretation\",\"Random Forest Interpretation\",\"Random Forest Interpretation\",\"Random Forest Interpretation\",\"Random Forest Interpretation\",\"Random Forest Interpretation\",\"Random Forest Interpretation\",\"Random Forest Interpretation\",\"Random Forest Interpretation\",\"Random Forest Interpretation\",\"Random Forest Interpretation\",\"Random Forest Interpretation\",\"Random Forest Interpretation\",\"Random Forest Interpretation\",\"Random Forest Interpretation\",\"Random Forest Interpretation\",\"Random Forest Interpretation\",\"Random Forest Interpretation\",\"Random Forest Interpretation\",\"Random Forest Interpretation\",\"Random Forest Interpretation\",\"Random Forest Interpretation\",\"Random Forest Interpretation\",\"Random Forest Interpretation\",\"Random Forest Interpretation\",\"Random Forest Interpretation\",\"Random Forest Interpretation\",\"Random Forest Interpretation\",\"Random Forest Interpretation\",\"Random Forest Interpretation\",\"Random Forest Interpretation\",\"Random Forest Interpretation\",\"Random Forest Interpretation\",\"Random Forest Interpretation\",\"Random Forest Interpretation\",\"Random Forest Interpretation\",\"Random Forest Interpretation\",\"Random Forest Interpretation\",\"Random Forest Interpretation\",\"Random Forest Interpretation\",\"Random Forest Interpretation\",\"Random Forest Interpretation\",\"Random Forest Interpretation\",\"Random Forest Interpretation\",\"Random Forest Interpretation\",\"Random Forest Interpretation\",\"Random Forest Interpretation\",\"Random Forest Interpretation\",\"Random Forest Interpretation\",\"Random Forest Interpretation\",\"Random Forest Interpretation\",\"Random Forest Interpretation\",\"Random Forest Interpretation\",\"Random Forest Interpretation\",\"Random Forest Interpretation\",\"Random Forest Interpretation\",\"Random Forest Interpretation\",\"Random Forest Interpretation\",\"Random Forest Interpretation\",\"Random Forest Interpretation\",\"Random Forest Interpretation\",\"Random Forest Interpretation\",\"Random Forest Interpretation\",\"Random Forest Interpretation\",\"Random Forest Interpretation\",\"Random Forest Interpretation\",\"Random Forest Interpretation\",\"Random Forest Interpretation\",\"Random Forest Interpretation\",\"Random Forest Interpretation\",\"Random Forest Interpretation\",\"Random Forest Interpretation\",\"Random Forest Interpretation\",\"Random Forest Interpretation\",\"Random Forest Interpretation\",\"Random Forest Interpretation\",\"Random Forest Interpretation\",\"Random Forest Interpretation\",\"Random Forest Interpretation\",\"Random Forest Interpretation\",\"Random Forest Interpretation\",\"Random Forest Interpretation\",\"Random Forest Interpretation\",\"Random Forest Interpretation\",\"Random Forest Interpretation\",\"Random Forest Interpretation\",\"Random Forest Interpretation\",\"Random Forest Interpretation\"],\"legendgroup\":\"Random Forest Interpretation\",\"line\":{\"color\":\"#46bac2\",\"dash\":\"solid\",\"width\":2},\"marker\":{\"symbol\":\"circle\"},\"mode\":\"lines\",\"name\":\"Random Forest Interpretation\",\"orientation\":\"v\",\"showlegend\":false,\"x\":[0.0,0.01,0.02,0.03,0.04,0.05,0.06,0.07,0.08,0.09,0.1,0.11,0.12,0.13,0.14,0.15,0.16,0.17,0.18,0.19,0.2,0.21,0.22,0.23,0.24,0.25,0.26,0.27,0.28,0.29,0.3,0.31,0.32,0.33,0.34,0.35000000000000003,0.36,0.37,0.38,0.39,0.4,0.41000000000000003,0.42,0.43,0.44,0.45,0.46,0.47000000000000003,0.48,0.49,0.5,0.51,0.52,0.53,0.54,0.55,0.56,0.5700000000000001,0.58,0.59,0.6,0.61,0.62,0.63,0.64,0.65,0.66,0.67,0.68,0.6900000000000001,0.7000000000000001,0.71,0.72,0.73,0.74,0.75,0.76,0.77,0.78,0.79,0.8,0.81,0.8200000000000001,0.8300000000000001,0.84,0.85,0.86,0.87,0.88,0.89,0.9,0.91,0.92,0.93,0.9400000000000001,0.9500000000000001,0.96,0.97,0.98,0.99,1.0],\"xaxis\":\"x\",\"y\":[0.0011111111111111111,0.0011111111111111111,0.0011111111111111111,0.0011111111111111111,0.0011111111111111111,0.0011111111111111111,0.0011111111111111111,0.0011111111111111111,0.0022222222222222222,0.0022222222222222222,0.0022222222222222222,0.0022222222222222222,0.0022222222222222222,0.0022222222222222222,0.0022222222222222222,0.0022222222222222222,0.0022222222222222222,0.0022222222222222222,0.0022222222222222222,0.0022222222222222222,0.0022222222222222222,0.0022222222222222222,0.0022222222222222222,0.0033333333333333335,0.0044444444444444444,0.0044444444444444444,0.0044444444444444444,0.0044444444444444444,0.0044444444444444444,0.005555555555555555,0.005555555555555555,0.005555555555555555,0.005555555555555555,0.005555555555555555,0.006666666666666667,0.006666666666666667,0.006666666666666667,0.006666666666666667,0.006666666666666667,0.006666666666666667,0.006666666666666667,0.007777777777777777,0.007777777777777777,0.007777777777777777,0.007777777777777777,0.01,0.01111111111111111,0.01111111111111111,0.01111111111111111,0.01111111111111111,0.013333333333333334,0.013333333333333334,0.014444444444444444,0.015555555555555553,0.015555555555555553,0.016666666666666666,0.016666666666666666,0.016666666666666666,0.016666666666666666,0.016666666666666666,0.017777777777777778,0.017777777777777778,0.017777777777777778,0.017777777777777778,0.017777777777777778,0.017777777777777778,0.017777777777777778,0.01888888888888889,0.01888888888888889,0.01888888888888889,0.01888888888888889,0.01888888888888889,0.01888888888888889,0.01888888888888889,0.01888888888888889,0.01888888888888889,0.01888888888888889,0.01888888888888889,0.01888888888888889,0.01888888888888889,0.01888888888888889,0.01888888888888889,0.01888888888888889,0.01888888888888889,0.01888888888888889,0.01888888888888889,0.01888888888888889,0.01888888888888889,0.01888888888888889,0.01888888888888889,0.01888888888888889,0.01888888888888889,0.01888888888888889,0.01888888888888889,0.01888888888888889,0.01888888888888889,0.01888888888888889,0.01888888888888889,0.01888888888888889,0.01888888888888889,0.01888888888888889],\"yaxis\":\"y\",\"type\":\"scatter\",\"opacity\":1}],                        {\"template\":{\"data\":{\"scatter\":[{\"type\":\"scatter\"}]}},\"xaxis\":{\"anchor\":\"y\",\"domain\":[0.0,0.475],\"title\":{\"text\":\"\"},\"showticklabels\":true,\"type\":\"linear\",\"gridwidth\":2,\"zeroline\":false,\"automargin\":true,\"ticks\":\"outside\",\"tickcolor\":\"white\",\"ticklen\":3,\"fixedrange\":true},\"yaxis\":{\"anchor\":\"x\",\"domain\":[0.0,0.19375],\"title\":{\"text\":\"\"},\"range\":[-0.06033333333333334,0.6636666666666667],\"type\":\"linear\",\"gridwidth\":2,\"zeroline\":false,\"automargin\":true,\"ticks\":\"outside\",\"tickcolor\":\"white\",\"ticklen\":3,\"fixedrange\":true},\"xaxis2\":{\"anchor\":\"y2\",\"domain\":[0.525,1.0],\"title\":{\"text\":\"\"},\"showticklabels\":true,\"type\":\"linear\",\"gridwidth\":2,\"zeroline\":false,\"automargin\":true,\"ticks\":\"outside\",\"tickcolor\":\"white\",\"ticklen\":3,\"fixedrange\":true},\"yaxis2\":{\"anchor\":\"x2\",\"domain\":[0.0,0.19375],\"matches\":\"y\",\"showticklabels\":false,\"type\":\"linear\",\"gridwidth\":2,\"zeroline\":false,\"automargin\":true,\"ticks\":\"outside\",\"tickcolor\":\"white\",\"ticklen\":3,\"fixedrange\":true,\"title\":{\"text\":\"\"}},\"xaxis3\":{\"anchor\":\"y3\",\"domain\":[0.0,0.475],\"showticklabels\":true,\"type\":\"linear\",\"gridwidth\":2,\"zeroline\":false,\"automargin\":true,\"ticks\":\"outside\",\"tickcolor\":\"white\",\"ticklen\":3,\"fixedrange\":true,\"title\":{\"text\":\"\"}},\"yaxis3\":{\"anchor\":\"x3\",\"domain\":[0.26875,0.4625],\"matches\":\"y\",\"title\":{\"text\":\"\"},\"range\":[-0.06033333333333334,0.6636666666666667],\"type\":\"linear\",\"gridwidth\":2,\"zeroline\":false,\"automargin\":true,\"ticks\":\"outside\",\"tickcolor\":\"white\",\"ticklen\":3,\"fixedrange\":true},\"xaxis4\":{\"anchor\":\"y4\",\"domain\":[0.525,1.0],\"showticklabels\":true,\"type\":\"linear\",\"gridwidth\":2,\"zeroline\":false,\"automargin\":true,\"ticks\":\"outside\",\"tickcolor\":\"white\",\"ticklen\":3,\"fixedrange\":true,\"title\":{\"text\":\"\"}},\"yaxis4\":{\"anchor\":\"x4\",\"domain\":[0.26875,0.4625],\"matches\":\"y\",\"showticklabels\":false,\"type\":\"linear\",\"gridwidth\":2,\"zeroline\":false,\"automargin\":true,\"ticks\":\"outside\",\"tickcolor\":\"white\",\"ticklen\":3,\"fixedrange\":true,\"title\":{\"text\":\"\"}},\"xaxis5\":{\"anchor\":\"y5\",\"domain\":[0.0,0.475],\"showticklabels\":true,\"type\":\"linear\",\"gridwidth\":2,\"zeroline\":false,\"automargin\":true,\"ticks\":\"outside\",\"tickcolor\":\"white\",\"ticklen\":3,\"fixedrange\":true,\"title\":{\"text\":\"\"}},\"yaxis5\":{\"anchor\":\"x5\",\"domain\":[0.5375,0.73125],\"matches\":\"y\",\"title\":{\"text\":\"\"},\"range\":[-0.06033333333333334,0.6636666666666667],\"type\":\"linear\",\"gridwidth\":2,\"zeroline\":false,\"automargin\":true,\"ticks\":\"outside\",\"tickcolor\":\"white\",\"ticklen\":3,\"fixedrange\":true},\"xaxis6\":{\"anchor\":\"y6\",\"domain\":[0.525,1.0],\"showticklabels\":true,\"type\":\"linear\",\"gridwidth\":2,\"zeroline\":false,\"automargin\":true,\"ticks\":\"outside\",\"tickcolor\":\"white\",\"ticklen\":3,\"fixedrange\":true,\"title\":{\"text\":\"\"}},\"yaxis6\":{\"anchor\":\"x6\",\"domain\":[0.5375,0.73125],\"matches\":\"y\",\"showticklabels\":false,\"type\":\"linear\",\"gridwidth\":2,\"zeroline\":false,\"automargin\":true,\"ticks\":\"outside\",\"tickcolor\":\"white\",\"ticklen\":3,\"fixedrange\":true,\"title\":{\"text\":\"\"}},\"xaxis7\":{\"anchor\":\"y7\",\"domain\":[0.0,0.475],\"showticklabels\":true,\"type\":\"linear\",\"gridwidth\":2,\"zeroline\":false,\"automargin\":true,\"ticks\":\"outside\",\"tickcolor\":\"white\",\"ticklen\":3,\"fixedrange\":true,\"title\":{\"text\":\"\"}},\"yaxis7\":{\"anchor\":\"x7\",\"domain\":[0.80625,1.0],\"matches\":\"y\",\"title\":{\"text\":\"\"},\"range\":[-0.06033333333333334,0.6636666666666667],\"type\":\"linear\",\"gridwidth\":2,\"zeroline\":false,\"automargin\":true,\"ticks\":\"outside\",\"tickcolor\":\"white\",\"ticklen\":3,\"fixedrange\":true},\"xaxis8\":{\"anchor\":\"y8\",\"domain\":[0.525,1.0],\"showticklabels\":true,\"type\":\"linear\",\"gridwidth\":2,\"zeroline\":false,\"automargin\":true,\"ticks\":\"outside\",\"tickcolor\":\"white\",\"ticklen\":3,\"fixedrange\":true,\"title\":{\"text\":\"\"}},\"yaxis8\":{\"anchor\":\"x8\",\"domain\":[0.80625,1.0],\"matches\":\"y\",\"showticklabels\":false,\"type\":\"linear\",\"gridwidth\":2,\"zeroline\":false,\"automargin\":true,\"ticks\":\"outside\",\"tickcolor\":\"white\",\"ticklen\":3,\"fixedrange\":true,\"title\":{\"text\":\"\"}},\"annotations\":[{\"font\":{\"size\":13},\"showarrow\":false,\"text\":\"online_order\",\"x\":0.2375,\"xanchor\":\"center\",\"xref\":\"paper\",\"y\":0.19375,\"yanchor\":\"bottom\",\"yref\":\"paper\"},{\"font\":{\"size\":13},\"showarrow\":false,\"text\":\"used_chip\",\"x\":0.2375,\"xanchor\":\"center\",\"xref\":\"paper\",\"y\":0.4625,\"yanchor\":\"bottom\",\"yref\":\"paper\"},{\"font\":{\"size\":13},\"showarrow\":false,\"text\":\"used_pin_number\",\"x\":0.7625,\"xanchor\":\"center\",\"xref\":\"paper\",\"y\":0.4625,\"yanchor\":\"bottom\",\"yref\":\"paper\"},{\"font\":{\"size\":13},\"showarrow\":false,\"text\":\"ratio_to_median_purchase_price\",\"x\":0.2375,\"xanchor\":\"center\",\"xref\":\"paper\",\"y\":0.73125,\"yanchor\":\"bottom\",\"yref\":\"paper\"},{\"font\":{\"size\":13},\"showarrow\":false,\"text\":\"repeat_retailer\",\"x\":0.7625,\"xanchor\":\"center\",\"xref\":\"paper\",\"y\":0.73125,\"yanchor\":\"bottom\",\"yref\":\"paper\"},{\"font\":{\"size\":13},\"showarrow\":false,\"text\":\"distance_from_home\",\"x\":0.2375,\"xanchor\":\"center\",\"xref\":\"paper\",\"y\":1.0,\"yanchor\":\"bottom\",\"yref\":\"paper\"},{\"font\":{\"size\":13},\"showarrow\":false,\"text\":\"distance_from_last_transaction\",\"x\":0.7625,\"xanchor\":\"center\",\"xref\":\"paper\",\"y\":1.0,\"yanchor\":\"bottom\",\"yref\":\"paper\"},{\"font\":{\"size\":13},\"showarrow\":false,\"text\":\"prediction\",\"textangle\":-90,\"x\":-0.07,\"xref\":\"paper\",\"y\":0.5,\"yref\":\"paper\"}],\"legend\":{\"title\":{\"text\":\"label\",\"font\":{\"size\":12}},\"tracegroupgap\":0,\"font\":{\"size\":11},\"orientation\":\"h\",\"yanchor\":\"bottom\",\"y\":1.0198807157057654,\"xanchor\":\"right\",\"x\":1,\"itemsizing\":\"constant\"},\"margin\":{\"t\":78,\"b\":71,\"r\":30},\"font\":{\"color\":\"#371ea3\"},\"title\":{\"font\":{\"size\":16},\"text\":\"Aggregated Profiles\",\"x\":0.15},\"hovermode\":\"x unified\",\"height\":1509},                        {\"displaylogo\": false, \"staticPlot\": false, \"toImageButtonOptions\": {\"height\": null, \"width\": null}, \"modeBarButtonsToRemove\": [\"sendDataToCloud\", \"lasso2d\", \"autoScale2d\", \"select2d\", \"zoom2d\", \"pan2d\", \"zoomIn2d\", \"zoomOut2d\", \"resetScale2d\", \"toggleSpikelines\", \"hoverCompareCartesian\", \"hoverClosestCartesian\"], \"responsive\": true}                    ).then(function(){\n",
              "                            \n",
              "var gd = document.getElementById('d14e6607-8167-4954-98b3-f40a4e97b6f3');\n",
              "var x = new MutationObserver(function (mutations, observer) {{\n",
              "        var display = window.getComputedStyle(gd).display;\n",
              "        if (!display || display === 'none') {{\n",
              "            console.log([gd, 'removed!']);\n",
              "            Plotly.purge(gd);\n",
              "            observer.disconnect();\n",
              "        }}\n",
              "}});\n",
              "\n",
              "// Listen for the removal of the full notebook cells\n",
              "var notebookContainer = gd.closest('#notebook-container');\n",
              "if (notebookContainer) {{\n",
              "    x.observe(notebookContainer, {childList: true});\n",
              "}}\n",
              "\n",
              "// Listen for the clearing of the current output cell\n",
              "var outputEl = gd.closest('.output');\n",
              "if (outputEl) {{\n",
              "    x.observe(outputEl, {childList: true});\n",
              "}}\n",
              "\n",
              "                        })                };                            </script>        </div>\n",
              "</body>\n",
              "</html>"
            ]
          },
          "metadata": {}
        }
      ]
    },
    {
      "cell_type": "markdown",
      "source": [
        "## Interpretation based on PDP"
      ],
      "metadata": {
        "id": "YyW2CXz9mXgd"
      }
    },
    {
      "cell_type": "markdown",
      "source": [
        "Recommendation on how to identify potential fraud cases: \n",
        "\n",
        "1.  Incident severity . Fraud customers may report their incident in their case with major damage severity level. They may think that if an incident has a major damage, it will increase the chance to get the insurance claim accepted \n",
        "2.  Age. Younger customers may submit a fraud insurance claim. this may be based on that young customers dont have a stable income yet, and if they need a big chunk of money, sometimes they will try to lies to insurance company\n",
        "3.   Chess and Crossfit as hobbies. Somehow, our model think that fraud customers are likely to have chess or crossfit as a hobby. This does not make sense, but we can make this as initial trigger for us to be more careful if customers have Chess or Crossfit as their hobbies\n",
        "4. Police report yes. those who submit a fraud insurance claim wont take a risk to get caught by filling a police report\n",
        "5. Number of vehicle involved. those who submit a fraud insurance may say that there is a little number of vehicle involved because the more vehicle involved, the deceitful customers must provide a more convicing lie about how can many cars or vehicle involved\n",
        "6. Property damaged Yes. those who submit a fraud insurance may say that they have property damaged to increase the chance of their insurance claim being accepted\n",
        "\n"
      ],
      "metadata": {
        "id": "CkiIwia2NKbI"
      }
    },
    {
      "cell_type": "code",
      "source": [
        ""
      ],
      "metadata": {
        "id": "8wmMm8R3Sm5K"
      },
      "execution_count": null,
      "outputs": []
    },
    {
      "cell_type": "markdown",
      "source": [
        "# Link Github"
      ],
      "metadata": {
        "id": "xi7mIZz_QfZR"
      }
    },
    {
      "cell_type": "markdown",
      "source": [
        ""
      ],
      "metadata": {
        "id": "07w9lRuYQhAr"
      }
    },
    {
      "cell_type": "markdown",
      "source": [
        "Link Presentation:\n",
        "https://docs.google.com/presentation/d/1-7Ib7gK40m6APo2foYVV7UHWxqkEFRCH53ZZiB7GTpo/edit?usp=sharing"
      ],
      "metadata": {
        "id": "Ym1HTh_WWRef"
      }
    }
  ],
  "metadata": {
    "colab": {
      "name": "Final Project - Fariz Abdussalam.ipynb",
      "provenance": [],
      "collapsed_sections": [],
      "toc_visible": true
    },
    "kernelspec": {
      "display_name": "Python 3",
      "name": "python3"
    },
    "language_info": {
      "name": "python"
    }
  },
  "nbformat": 4,
  "nbformat_minor": 0
}